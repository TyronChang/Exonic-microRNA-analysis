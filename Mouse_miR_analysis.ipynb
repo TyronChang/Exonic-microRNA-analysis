{
 "cells": [
  {
   "cell_type": "markdown",
   "id": "ff488af1-d8bc-4a6d-929f-29cec52a8c8b",
   "metadata": {},
   "source": [
    "### Mouse data ( 1st step of data cleaning: reshape column)"
   ]
  },
  {
   "cell_type": "code",
   "execution_count": 2,
   "id": "95bbcce5-3cf1-40d2-87f0-48eeba9693c4",
   "metadata": {},
   "outputs": [],
   "source": [
    "import pandas as pd\n",
    "import os\n",
    "import re\n",
    "import matplotlib.pyplot as plt"
   ]
  },
  {
   "cell_type": "code",
   "execution_count": 3,
   "id": "92e06340-ca16-48c0-93f6-15c5a037e258",
   "metadata": {},
   "outputs": [],
   "source": [
    "current_dir=os.getcwd()"
   ]
  },
  {
   "cell_type": "code",
   "execution_count": 4,
   "id": "239929bb-7381-473d-ad53-e07883ad8187",
   "metadata": {},
   "outputs": [
    {
     "name": "stdout",
     "output_type": "stream",
     "text": [
      "importing Jupyter notebook from Data.ipynb\n"
     ]
    }
   ],
   "source": [
    "import import_ipynb\n",
    "from Data import MOUSE"
   ]
  },
  {
   "cell_type": "code",
   "execution_count": 5,
   "id": "4f66735e-ddac-4fb2-9ab8-b0e98ce9c693",
   "metadata": {},
   "outputs": [],
   "source": [
    "mouse=MOUSE(f'{current_dir}/UCSC_data_Mouse/mouse_genes_020324_NCBI.csv')"
   ]
  },
  {
   "cell_type": "code",
   "execution_count": 6,
   "id": "7edd0818-448c-46d1-abb6-af5bb8f6fedc",
   "metadata": {},
   "outputs": [],
   "source": [
    "mouse.col_preprocess()"
   ]
  },
  {
   "cell_type": "code",
   "execution_count": 7,
   "id": "1f3ba6cf-fb29-4c0e-98c2-ecf0c074024c",
   "metadata": {},
   "outputs": [],
   "source": [
    "mouse.drop()"
   ]
  },
  {
   "cell_type": "code",
   "execution_count": 8,
   "id": "709b01a7-6cba-4676-8935-68c85f4f41ce",
   "metadata": {},
   "outputs": [],
   "source": [
    "mouse.df.rename(columns={'name2':'gene_name'},inplace=True)\n",
    "### Replace the column name"
   ]
  },
  {
   "cell_type": "code",
   "execution_count": 9,
   "id": "495e7c21-c7e6-447d-a1a1-6d3f8d92f23b",
   "metadata": {},
   "outputs": [],
   "source": [
    "mouse_gene_df=mouse.select(['chrom','exonStarts','exonCount',\n",
    "                        'gene_name','name'])"
   ]
  },
  {
   "cell_type": "code",
   "execution_count": 10,
   "id": "07f22d1a-2d04-41b8-8822-2ee7c5f06ed9",
   "metadata": {},
   "outputs": [],
   "source": [
    "mouse_gene_df['exonStarts']=mouse_gene_df['exonStarts'].str.replace(r',\\Z','',regex=True)\n",
    "### remove the comma by the end of the column prior to splitting the data"
   ]
  },
  {
   "cell_type": "code",
   "execution_count": 11,
   "id": "f5fa9f32-918d-442f-8d8a-d1c48cd097a8",
   "metadata": {},
   "outputs": [],
   "source": [
    "mouse_gene_df['exonStarts']=mouse_gene_df['exonStarts'].str.split(\",\")"
   ]
  },
  {
   "cell_type": "code",
   "execution_count": 12,
   "id": "6eb3ba0e-2273-4308-a571-a152e444f2e4",
   "metadata": {},
   "outputs": [],
   "source": [
    "mouse_gene_df=mouse_gene_df.explode('exonStarts')"
   ]
  },
  {
   "cell_type": "code",
   "execution_count": 13,
   "id": "37de5b01-4c6b-4663-9684-9c62c7193a83",
   "metadata": {},
   "outputs": [],
   "source": [
    "mouse_gene_df=mouse_gene_df.reset_index(drop=True)"
   ]
  },
  {
   "cell_type": "code",
   "execution_count": 14,
   "id": "70df385b-ce0f-401c-9482-74bf028d8fc0",
   "metadata": {},
   "outputs": [],
   "source": [
    "mouse_gene_df_2=mouse.select(['exonEnds','exonCount','cdsStart','cdsEnd','strand','gene_name','name'])"
   ]
  },
  {
   "cell_type": "code",
   "execution_count": 15,
   "id": "32566716-c6a5-4e08-8bfe-8452a02acfd9",
   "metadata": {},
   "outputs": [],
   "source": [
    "mouse_gene_df_2['exonEnds']=mouse_gene_df_2['exonEnds'].str.replace(r',\\Z','',regex=True)\n",
    "### remove the comma at the end of column"
   ]
  },
  {
   "cell_type": "code",
   "execution_count": 16,
   "id": "7316c278-f88e-45c9-9aed-272d6cf6f50a",
   "metadata": {},
   "outputs": [],
   "source": [
    "mouse_gene_df_2['exonEnds']=mouse_gene_df_2['exonEnds'].str.split(\",\")"
   ]
  },
  {
   "cell_type": "code",
   "execution_count": 17,
   "id": "9050acde-cddb-432d-8bc6-29edf8cecbce",
   "metadata": {},
   "outputs": [],
   "source": [
    "mouse_gene_df_2=mouse_gene_df_2.explode('exonEnds')"
   ]
  },
  {
   "cell_type": "code",
   "execution_count": 18,
   "id": "c9909c25-d2cd-483a-a2b2-ad1ccc95ab7f",
   "metadata": {},
   "outputs": [
    {
     "data": {
      "text/html": [
       "<div>\n",
       "<style scoped>\n",
       "    .dataframe tbody tr th:only-of-type {\n",
       "        vertical-align: middle;\n",
       "    }\n",
       "\n",
       "    .dataframe tbody tr th {\n",
       "        vertical-align: top;\n",
       "    }\n",
       "\n",
       "    .dataframe thead th {\n",
       "        text-align: right;\n",
       "    }\n",
       "</style>\n",
       "<table border=\"1\" class=\"dataframe\">\n",
       "  <thead>\n",
       "    <tr style=\"text-align: right;\">\n",
       "      <th></th>\n",
       "      <th>exonEnds</th>\n",
       "      <th>exonCount</th>\n",
       "      <th>cdsStart</th>\n",
       "      <th>cdsEnd</th>\n",
       "      <th>strand</th>\n",
       "      <th>gene_name</th>\n",
       "      <th>name</th>\n",
       "    </tr>\n",
       "  </thead>\n",
       "  <tbody>\n",
       "    <tr>\n",
       "      <th>0</th>\n",
       "      <td>134203590</td>\n",
       "      <td>2</td>\n",
       "      <td>134202950</td>\n",
       "      <td>134234733</td>\n",
       "      <td>-</td>\n",
       "      <td>Adora1</td>\n",
       "      <td>NM_001291928.1</td>\n",
       "    </tr>\n",
       "    <tr>\n",
       "      <th>1</th>\n",
       "      <td>134234856</td>\n",
       "      <td>2</td>\n",
       "      <td>134202950</td>\n",
       "      <td>134234733</td>\n",
       "      <td>-</td>\n",
       "      <td>Adora1</td>\n",
       "      <td>NM_001291928.1</td>\n",
       "    </tr>\n",
       "    <tr>\n",
       "      <th>2</th>\n",
       "      <td>134203590</td>\n",
       "      <td>2</td>\n",
       "      <td>134202950</td>\n",
       "      <td>134234355</td>\n",
       "      <td>-</td>\n",
       "      <td>Adora1</td>\n",
       "      <td>NM_001008533.3</td>\n",
       "    </tr>\n",
       "    <tr>\n",
       "      <th>3</th>\n",
       "      <td>134235457</td>\n",
       "      <td>2</td>\n",
       "      <td>134202950</td>\n",
       "      <td>134234355</td>\n",
       "      <td>-</td>\n",
       "      <td>Adora1</td>\n",
       "      <td>NM_001008533.3</td>\n",
       "    </tr>\n",
       "    <tr>\n",
       "      <th>4</th>\n",
       "      <td>134203590</td>\n",
       "      <td>3</td>\n",
       "      <td>134202950</td>\n",
       "      <td>134234355</td>\n",
       "      <td>-</td>\n",
       "      <td>Adora1</td>\n",
       "      <td>NM_001282945.1</td>\n",
       "    </tr>\n",
       "    <tr>\n",
       "      <th>5</th>\n",
       "      <td>134234446</td>\n",
       "      <td>3</td>\n",
       "      <td>134202950</td>\n",
       "      <td>134234355</td>\n",
       "      <td>-</td>\n",
       "      <td>Adora1</td>\n",
       "      <td>NM_001282945.1</td>\n",
       "    </tr>\n",
       "    <tr>\n",
       "      <th>6</th>\n",
       "      <td>134235457</td>\n",
       "      <td>3</td>\n",
       "      <td>134202950</td>\n",
       "      <td>134234355</td>\n",
       "      <td>-</td>\n",
       "      <td>Adora1</td>\n",
       "      <td>NM_001282945.1</td>\n",
       "    </tr>\n",
       "    <tr>\n",
       "      <th>7</th>\n",
       "      <td>134203590</td>\n",
       "      <td>3</td>\n",
       "      <td>134202950</td>\n",
       "      <td>134234355</td>\n",
       "      <td>-</td>\n",
       "      <td>Adora1</td>\n",
       "      <td>NM_001039510.2</td>\n",
       "    </tr>\n",
       "    <tr>\n",
       "      <th>8</th>\n",
       "      <td>134234412</td>\n",
       "      <td>3</td>\n",
       "      <td>134202950</td>\n",
       "      <td>134234355</td>\n",
       "      <td>-</td>\n",
       "      <td>Adora1</td>\n",
       "      <td>NM_001039510.2</td>\n",
       "    </tr>\n",
       "    <tr>\n",
       "      <th>9</th>\n",
       "      <td>134235457</td>\n",
       "      <td>3</td>\n",
       "      <td>134202950</td>\n",
       "      <td>134234355</td>\n",
       "      <td>-</td>\n",
       "      <td>Adora1</td>\n",
       "      <td>NM_001039510.2</td>\n",
       "    </tr>\n",
       "    <tr>\n",
       "      <th>10</th>\n",
       "      <td>134203590</td>\n",
       "      <td>2</td>\n",
       "      <td>134202950</td>\n",
       "      <td>134203505</td>\n",
       "      <td>-</td>\n",
       "      <td>Adora1</td>\n",
       "      <td>NM_001291930.1</td>\n",
       "    </tr>\n",
       "    <tr>\n",
       "      <th>11</th>\n",
       "      <td>134235457</td>\n",
       "      <td>2</td>\n",
       "      <td>134202950</td>\n",
       "      <td>134203505</td>\n",
       "      <td>-</td>\n",
       "      <td>Adora1</td>\n",
       "      <td>NM_001291930.1</td>\n",
       "    </tr>\n",
       "    <tr>\n",
       "      <th>12</th>\n",
       "      <td>134203590</td>\n",
       "      <td>3</td>\n",
       "      <td>134202950</td>\n",
       "      <td>134234355</td>\n",
       "      <td>-</td>\n",
       "      <td>Adora1</td>\n",
       "      <td>XM_006529079.3</td>\n",
       "    </tr>\n",
       "    <tr>\n",
       "      <th>13</th>\n",
       "      <td>134234412</td>\n",
       "      <td>3</td>\n",
       "      <td>134202950</td>\n",
       "      <td>134234355</td>\n",
       "      <td>-</td>\n",
       "      <td>Adora1</td>\n",
       "      <td>XM_006529079.3</td>\n",
       "    </tr>\n",
       "    <tr>\n",
       "      <th>14</th>\n",
       "      <td>134235053</td>\n",
       "      <td>3</td>\n",
       "      <td>134202950</td>\n",
       "      <td>134234355</td>\n",
       "      <td>-</td>\n",
       "      <td>Adora1</td>\n",
       "      <td>XM_006529079.3</td>\n",
       "    </tr>\n",
       "    <tr>\n",
       "      <th>15</th>\n",
       "      <td>8363633</td>\n",
       "      <td>13</td>\n",
       "      <td>8363474</td>\n",
       "      <td>8583258</td>\n",
       "      <td>-</td>\n",
       "      <td>Sntg1</td>\n",
       "      <td>XM_017312325.1</td>\n",
       "    </tr>\n",
       "    <tr>\n",
       "      <th>16</th>\n",
       "      <td>8414313</td>\n",
       "      <td>13</td>\n",
       "      <td>8363474</td>\n",
       "      <td>8583258</td>\n",
       "      <td>-</td>\n",
       "      <td>Sntg1</td>\n",
       "      <td>XM_017312325.1</td>\n",
       "    </tr>\n",
       "    <tr>\n",
       "      <th>17</th>\n",
       "      <td>8445119</td>\n",
       "      <td>13</td>\n",
       "      <td>8363474</td>\n",
       "      <td>8583258</td>\n",
       "      <td>-</td>\n",
       "      <td>Sntg1</td>\n",
       "      <td>XM_017312325.1</td>\n",
       "    </tr>\n",
       "    <tr>\n",
       "      <th>18</th>\n",
       "      <td>8448132</td>\n",
       "      <td>13</td>\n",
       "      <td>8363474</td>\n",
       "      <td>8583258</td>\n",
       "      <td>-</td>\n",
       "      <td>Sntg1</td>\n",
       "      <td>XM_017312325.1</td>\n",
       "    </tr>\n",
       "    <tr>\n",
       "      <th>19</th>\n",
       "      <td>8463465</td>\n",
       "      <td>13</td>\n",
       "      <td>8363474</td>\n",
       "      <td>8583258</td>\n",
       "      <td>-</td>\n",
       "      <td>Sntg1</td>\n",
       "      <td>XM_017312325.1</td>\n",
       "    </tr>\n",
       "    <tr>\n",
       "      <th>20</th>\n",
       "      <td>8465553</td>\n",
       "      <td>13</td>\n",
       "      <td>8363474</td>\n",
       "      <td>8583258</td>\n",
       "      <td>-</td>\n",
       "      <td>Sntg1</td>\n",
       "      <td>XM_017312325.1</td>\n",
       "    </tr>\n",
       "    <tr>\n",
       "      <th>21</th>\n",
       "      <td>8554763</td>\n",
       "      <td>13</td>\n",
       "      <td>8363474</td>\n",
       "      <td>8583258</td>\n",
       "      <td>-</td>\n",
       "      <td>Sntg1</td>\n",
       "      <td>XM_017312325.1</td>\n",
       "    </tr>\n",
       "    <tr>\n",
       "      <th>22</th>\n",
       "      <td>8583334</td>\n",
       "      <td>13</td>\n",
       "      <td>8363474</td>\n",
       "      <td>8583258</td>\n",
       "      <td>-</td>\n",
       "      <td>Sntg1</td>\n",
       "      <td>XM_017312325.1</td>\n",
       "    </tr>\n",
       "    <tr>\n",
       "      <th>23</th>\n",
       "      <td>8595542</td>\n",
       "      <td>13</td>\n",
       "      <td>8363474</td>\n",
       "      <td>8583258</td>\n",
       "      <td>-</td>\n",
       "      <td>Sntg1</td>\n",
       "      <td>XM_017312325.1</td>\n",
       "    </tr>\n",
       "    <tr>\n",
       "      <th>24</th>\n",
       "      <td>8607152</td>\n",
       "      <td>13</td>\n",
       "      <td>8363474</td>\n",
       "      <td>8583258</td>\n",
       "      <td>-</td>\n",
       "      <td>Sntg1</td>\n",
       "      <td>XM_017312325.1</td>\n",
       "    </tr>\n",
       "    <tr>\n",
       "      <th>25</th>\n",
       "      <td>8624881</td>\n",
       "      <td>13</td>\n",
       "      <td>8363474</td>\n",
       "      <td>8583258</td>\n",
       "      <td>-</td>\n",
       "      <td>Sntg1</td>\n",
       "      <td>XM_017312325.1</td>\n",
       "    </tr>\n",
       "    <tr>\n",
       "      <th>26</th>\n",
       "      <td>8677848</td>\n",
       "      <td>13</td>\n",
       "      <td>8363474</td>\n",
       "      <td>8583258</td>\n",
       "      <td>-</td>\n",
       "      <td>Sntg1</td>\n",
       "      <td>XM_017312325.1</td>\n",
       "    </tr>\n",
       "    <tr>\n",
       "      <th>27</th>\n",
       "      <td>8679095</td>\n",
       "      <td>13</td>\n",
       "      <td>8363474</td>\n",
       "      <td>8583258</td>\n",
       "      <td>-</td>\n",
       "      <td>Sntg1</td>\n",
       "      <td>XM_017312325.1</td>\n",
       "    </tr>\n",
       "    <tr>\n",
       "      <th>28</th>\n",
       "      <td>8363633</td>\n",
       "      <td>16</td>\n",
       "      <td>8363474</td>\n",
       "      <td>8782800</td>\n",
       "      <td>-</td>\n",
       "      <td>Sntg1</td>\n",
       "      <td>XM_030242990.1</td>\n",
       "    </tr>\n",
       "    <tr>\n",
       "      <th>29</th>\n",
       "      <td>8414313</td>\n",
       "      <td>16</td>\n",
       "      <td>8363474</td>\n",
       "      <td>8782800</td>\n",
       "      <td>-</td>\n",
       "      <td>Sntg1</td>\n",
       "      <td>XM_030242990.1</td>\n",
       "    </tr>\n",
       "    <tr>\n",
       "      <th>30</th>\n",
       "      <td>8445119</td>\n",
       "      <td>16</td>\n",
       "      <td>8363474</td>\n",
       "      <td>8782800</td>\n",
       "      <td>-</td>\n",
       "      <td>Sntg1</td>\n",
       "      <td>XM_030242990.1</td>\n",
       "    </tr>\n",
       "    <tr>\n",
       "      <th>31</th>\n",
       "      <td>8448132</td>\n",
       "      <td>16</td>\n",
       "      <td>8363474</td>\n",
       "      <td>8782800</td>\n",
       "      <td>-</td>\n",
       "      <td>Sntg1</td>\n",
       "      <td>XM_030242990.1</td>\n",
       "    </tr>\n",
       "    <tr>\n",
       "      <th>32</th>\n",
       "      <td>8463465</td>\n",
       "      <td>16</td>\n",
       "      <td>8363474</td>\n",
       "      <td>8782800</td>\n",
       "      <td>-</td>\n",
       "      <td>Sntg1</td>\n",
       "      <td>XM_030242990.1</td>\n",
       "    </tr>\n",
       "    <tr>\n",
       "      <th>33</th>\n",
       "      <td>8465553</td>\n",
       "      <td>16</td>\n",
       "      <td>8363474</td>\n",
       "      <td>8782800</td>\n",
       "      <td>-</td>\n",
       "      <td>Sntg1</td>\n",
       "      <td>XM_030242990.1</td>\n",
       "    </tr>\n",
       "    <tr>\n",
       "      <th>34</th>\n",
       "      <td>8554763</td>\n",
       "      <td>16</td>\n",
       "      <td>8363474</td>\n",
       "      <td>8782800</td>\n",
       "      <td>-</td>\n",
       "      <td>Sntg1</td>\n",
       "      <td>XM_030242990.1</td>\n",
       "    </tr>\n",
       "    <tr>\n",
       "      <th>35</th>\n",
       "      <td>8583334</td>\n",
       "      <td>16</td>\n",
       "      <td>8363474</td>\n",
       "      <td>8782800</td>\n",
       "      <td>-</td>\n",
       "      <td>Sntg1</td>\n",
       "      <td>XM_030242990.1</td>\n",
       "    </tr>\n",
       "    <tr>\n",
       "      <th>36</th>\n",
       "      <td>8595542</td>\n",
       "      <td>16</td>\n",
       "      <td>8363474</td>\n",
       "      <td>8782800</td>\n",
       "      <td>-</td>\n",
       "      <td>Sntg1</td>\n",
       "      <td>XM_030242990.1</td>\n",
       "    </tr>\n",
       "    <tr>\n",
       "      <th>37</th>\n",
       "      <td>8607152</td>\n",
       "      <td>16</td>\n",
       "      <td>8363474</td>\n",
       "      <td>8782800</td>\n",
       "      <td>-</td>\n",
       "      <td>Sntg1</td>\n",
       "      <td>XM_030242990.1</td>\n",
       "    </tr>\n",
       "    <tr>\n",
       "      <th>38</th>\n",
       "      <td>8624881</td>\n",
       "      <td>16</td>\n",
       "      <td>8363474</td>\n",
       "      <td>8782800</td>\n",
       "      <td>-</td>\n",
       "      <td>Sntg1</td>\n",
       "      <td>XM_030242990.1</td>\n",
       "    </tr>\n",
       "    <tr>\n",
       "      <th>39</th>\n",
       "      <td>8677848</td>\n",
       "      <td>16</td>\n",
       "      <td>8363474</td>\n",
       "      <td>8782800</td>\n",
       "      <td>-</td>\n",
       "      <td>Sntg1</td>\n",
       "      <td>XM_030242990.1</td>\n",
       "    </tr>\n",
       "    <tr>\n",
       "      <th>40</th>\n",
       "      <td>8677980</td>\n",
       "      <td>16</td>\n",
       "      <td>8363474</td>\n",
       "      <td>8782800</td>\n",
       "      <td>-</td>\n",
       "      <td>Sntg1</td>\n",
       "      <td>XM_030242990.1</td>\n",
       "    </tr>\n",
       "    <tr>\n",
       "      <th>41</th>\n",
       "      <td>8679130</td>\n",
       "      <td>16</td>\n",
       "      <td>8363474</td>\n",
       "      <td>8782800</td>\n",
       "      <td>-</td>\n",
       "      <td>Sntg1</td>\n",
       "      <td>XM_030242990.1</td>\n",
       "    </tr>\n",
       "    <tr>\n",
       "      <th>42</th>\n",
       "      <td>8682029</td>\n",
       "      <td>16</td>\n",
       "      <td>8363474</td>\n",
       "      <td>8782800</td>\n",
       "      <td>-</td>\n",
       "      <td>Sntg1</td>\n",
       "      <td>XM_030242990.1</td>\n",
       "    </tr>\n",
       "    <tr>\n",
       "      <th>43</th>\n",
       "      <td>8782893</td>\n",
       "      <td>16</td>\n",
       "      <td>8363474</td>\n",
       "      <td>8782800</td>\n",
       "      <td>-</td>\n",
       "      <td>Sntg1</td>\n",
       "      <td>XM_030242990.1</td>\n",
       "    </tr>\n",
       "    <tr>\n",
       "      <th>44</th>\n",
       "      <td>8363633</td>\n",
       "      <td>20</td>\n",
       "      <td>8363474</td>\n",
       "      <td>8803943</td>\n",
       "      <td>-</td>\n",
       "      <td>Sntg1</td>\n",
       "      <td>XM_017312320.2</td>\n",
       "    </tr>\n",
       "    <tr>\n",
       "      <th>45</th>\n",
       "      <td>8414313</td>\n",
       "      <td>20</td>\n",
       "      <td>8363474</td>\n",
       "      <td>8803943</td>\n",
       "      <td>-</td>\n",
       "      <td>Sntg1</td>\n",
       "      <td>XM_017312320.2</td>\n",
       "    </tr>\n",
       "    <tr>\n",
       "      <th>46</th>\n",
       "      <td>8445119</td>\n",
       "      <td>20</td>\n",
       "      <td>8363474</td>\n",
       "      <td>8803943</td>\n",
       "      <td>-</td>\n",
       "      <td>Sntg1</td>\n",
       "      <td>XM_017312320.2</td>\n",
       "    </tr>\n",
       "    <tr>\n",
       "      <th>47</th>\n",
       "      <td>8448132</td>\n",
       "      <td>20</td>\n",
       "      <td>8363474</td>\n",
       "      <td>8803943</td>\n",
       "      <td>-</td>\n",
       "      <td>Sntg1</td>\n",
       "      <td>XM_017312320.2</td>\n",
       "    </tr>\n",
       "    <tr>\n",
       "      <th>48</th>\n",
       "      <td>8463465</td>\n",
       "      <td>20</td>\n",
       "      <td>8363474</td>\n",
       "      <td>8803943</td>\n",
       "      <td>-</td>\n",
       "      <td>Sntg1</td>\n",
       "      <td>XM_017312320.2</td>\n",
       "    </tr>\n",
       "    <tr>\n",
       "      <th>49</th>\n",
       "      <td>8465553</td>\n",
       "      <td>20</td>\n",
       "      <td>8363474</td>\n",
       "      <td>8803943</td>\n",
       "      <td>-</td>\n",
       "      <td>Sntg1</td>\n",
       "      <td>XM_017312320.2</td>\n",
       "    </tr>\n",
       "  </tbody>\n",
       "</table>\n",
       "</div>"
      ],
      "text/plain": [
       "     exonEnds  exonCount   cdsStart     cdsEnd strand gene_name  \\\n",
       "0   134203590          2  134202950  134234733      -    Adora1   \n",
       "1   134234856          2  134202950  134234733      -    Adora1   \n",
       "2   134203590          2  134202950  134234355      -    Adora1   \n",
       "3   134235457          2  134202950  134234355      -    Adora1   \n",
       "4   134203590          3  134202950  134234355      -    Adora1   \n",
       "5   134234446          3  134202950  134234355      -    Adora1   \n",
       "6   134235457          3  134202950  134234355      -    Adora1   \n",
       "7   134203590          3  134202950  134234355      -    Adora1   \n",
       "8   134234412          3  134202950  134234355      -    Adora1   \n",
       "9   134235457          3  134202950  134234355      -    Adora1   \n",
       "10  134203590          2  134202950  134203505      -    Adora1   \n",
       "11  134235457          2  134202950  134203505      -    Adora1   \n",
       "12  134203590          3  134202950  134234355      -    Adora1   \n",
       "13  134234412          3  134202950  134234355      -    Adora1   \n",
       "14  134235053          3  134202950  134234355      -    Adora1   \n",
       "15    8363633         13    8363474    8583258      -     Sntg1   \n",
       "16    8414313         13    8363474    8583258      -     Sntg1   \n",
       "17    8445119         13    8363474    8583258      -     Sntg1   \n",
       "18    8448132         13    8363474    8583258      -     Sntg1   \n",
       "19    8463465         13    8363474    8583258      -     Sntg1   \n",
       "20    8465553         13    8363474    8583258      -     Sntg1   \n",
       "21    8554763         13    8363474    8583258      -     Sntg1   \n",
       "22    8583334         13    8363474    8583258      -     Sntg1   \n",
       "23    8595542         13    8363474    8583258      -     Sntg1   \n",
       "24    8607152         13    8363474    8583258      -     Sntg1   \n",
       "25    8624881         13    8363474    8583258      -     Sntg1   \n",
       "26    8677848         13    8363474    8583258      -     Sntg1   \n",
       "27    8679095         13    8363474    8583258      -     Sntg1   \n",
       "28    8363633         16    8363474    8782800      -     Sntg1   \n",
       "29    8414313         16    8363474    8782800      -     Sntg1   \n",
       "30    8445119         16    8363474    8782800      -     Sntg1   \n",
       "31    8448132         16    8363474    8782800      -     Sntg1   \n",
       "32    8463465         16    8363474    8782800      -     Sntg1   \n",
       "33    8465553         16    8363474    8782800      -     Sntg1   \n",
       "34    8554763         16    8363474    8782800      -     Sntg1   \n",
       "35    8583334         16    8363474    8782800      -     Sntg1   \n",
       "36    8595542         16    8363474    8782800      -     Sntg1   \n",
       "37    8607152         16    8363474    8782800      -     Sntg1   \n",
       "38    8624881         16    8363474    8782800      -     Sntg1   \n",
       "39    8677848         16    8363474    8782800      -     Sntg1   \n",
       "40    8677980         16    8363474    8782800      -     Sntg1   \n",
       "41    8679130         16    8363474    8782800      -     Sntg1   \n",
       "42    8682029         16    8363474    8782800      -     Sntg1   \n",
       "43    8782893         16    8363474    8782800      -     Sntg1   \n",
       "44    8363633         20    8363474    8803943      -     Sntg1   \n",
       "45    8414313         20    8363474    8803943      -     Sntg1   \n",
       "46    8445119         20    8363474    8803943      -     Sntg1   \n",
       "47    8448132         20    8363474    8803943      -     Sntg1   \n",
       "48    8463465         20    8363474    8803943      -     Sntg1   \n",
       "49    8465553         20    8363474    8803943      -     Sntg1   \n",
       "\n",
       "              name  \n",
       "0   NM_001291928.1  \n",
       "1   NM_001291928.1  \n",
       "2   NM_001008533.3  \n",
       "3   NM_001008533.3  \n",
       "4   NM_001282945.1  \n",
       "5   NM_001282945.1  \n",
       "6   NM_001282945.1  \n",
       "7   NM_001039510.2  \n",
       "8   NM_001039510.2  \n",
       "9   NM_001039510.2  \n",
       "10  NM_001291930.1  \n",
       "11  NM_001291930.1  \n",
       "12  XM_006529079.3  \n",
       "13  XM_006529079.3  \n",
       "14  XM_006529079.3  \n",
       "15  XM_017312325.1  \n",
       "16  XM_017312325.1  \n",
       "17  XM_017312325.1  \n",
       "18  XM_017312325.1  \n",
       "19  XM_017312325.1  \n",
       "20  XM_017312325.1  \n",
       "21  XM_017312325.1  \n",
       "22  XM_017312325.1  \n",
       "23  XM_017312325.1  \n",
       "24  XM_017312325.1  \n",
       "25  XM_017312325.1  \n",
       "26  XM_017312325.1  \n",
       "27  XM_017312325.1  \n",
       "28  XM_030242990.1  \n",
       "29  XM_030242990.1  \n",
       "30  XM_030242990.1  \n",
       "31  XM_030242990.1  \n",
       "32  XM_030242990.1  \n",
       "33  XM_030242990.1  \n",
       "34  XM_030242990.1  \n",
       "35  XM_030242990.1  \n",
       "36  XM_030242990.1  \n",
       "37  XM_030242990.1  \n",
       "38  XM_030242990.1  \n",
       "39  XM_030242990.1  \n",
       "40  XM_030242990.1  \n",
       "41  XM_030242990.1  \n",
       "42  XM_030242990.1  \n",
       "43  XM_030242990.1  \n",
       "44  XM_017312320.2  \n",
       "45  XM_017312320.2  \n",
       "46  XM_017312320.2  \n",
       "47  XM_017312320.2  \n",
       "48  XM_017312320.2  \n",
       "49  XM_017312320.2  "
      ]
     },
     "execution_count": 18,
     "metadata": {},
     "output_type": "execute_result"
    }
   ],
   "source": [
    "mouse_gene_df_2.head(50).reset_index(drop=True)"
   ]
  },
  {
   "cell_type": "code",
   "execution_count": 19,
   "id": "999dd488-aad2-42d4-af99-7a113ed71e0d",
   "metadata": {},
   "outputs": [],
   "source": [
    "mouse_gene_df_2.rename(columns={'gene_name':'Name','exonCount':'exon_count','name':'ID'},inplace=True)"
   ]
  },
  {
   "cell_type": "code",
   "execution_count": 20,
   "id": "138824ae-b2e0-4ef2-a123-16686219216c",
   "metadata": {},
   "outputs": [],
   "source": [
    "mouse_gene_df_2 = mouse_gene_df_2.reset_index(drop=True)"
   ]
  },
  {
   "cell_type": "markdown",
   "id": "50c21645-66db-4a5e-8967-234d375ade4b",
   "metadata": {},
   "source": [
    "### Concatanate the dataframe (Reshape the dataframe) and remove all miRNA dataset"
   ]
  },
  {
   "cell_type": "code",
   "execution_count": 21,
   "id": "ef7537b8-cc02-454c-98d2-0333673cb7a2",
   "metadata": {},
   "outputs": [],
   "source": [
    "finalized_mouse_gene_df=pd.concat([mouse_gene_df,mouse_gene_df_2], axis=1)#### This file contains all mouse genes!"
   ]
  },
  {
   "cell_type": "code",
   "execution_count": 22,
   "id": "53b5acab-a4c0-4833-9087-b58de4171e09",
   "metadata": {},
   "outputs": [
    {
     "data": {
      "text/plain": [
       "(1385818, 12)"
      ]
     },
     "execution_count": 22,
     "metadata": {},
     "output_type": "execute_result"
    }
   ],
   "source": [
    "finalized_mouse_gene_df.shape"
   ]
  },
  {
   "cell_type": "code",
   "execution_count": 23,
   "id": "69f80e10-678c-42e3-8a5e-7ea2ff14af3c",
   "metadata": {},
   "outputs": [
    {
     "data": {
      "text/plain": [
       "Index(['chrom', 'exonStarts', 'exonCount', 'gene_name', 'name', 'exonEnds',\n",
       "       'exon_count', 'cdsStart', 'cdsEnd', 'strand', 'Name', 'ID'],\n",
       "      dtype='object')"
      ]
     },
     "execution_count": 23,
     "metadata": {},
     "output_type": "execute_result"
    }
   ],
   "source": [
    "finalized_mouse_gene_df.columns"
   ]
  },
  {
   "cell_type": "code",
   "execution_count": 24,
   "id": "e3d42fb7-20be-4f57-8cd5-b069f6165436",
   "metadata": {},
   "outputs": [],
   "source": [
    "finalized_mouse_gene_df.drop(columns=['exon_count','exonCount','gene_name','name'],inplace=True)"
   ]
  },
  {
   "cell_type": "code",
   "execution_count": 25,
   "id": "18cbc0bd-0411-414c-abc0-a8e38173f379",
   "metadata": {},
   "outputs": [
    {
     "data": {
      "text/plain": [
       "Index(['chrom', 'exonStarts', 'exonEnds', 'cdsStart', 'cdsEnd', 'strand',\n",
       "       'Name', 'ID'],\n",
       "      dtype='object')"
      ]
     },
     "execution_count": 25,
     "metadata": {},
     "output_type": "execute_result"
    }
   ],
   "source": [
    "finalized_mouse_gene_df.columns"
   ]
  },
  {
   "cell_type": "code",
   "execution_count": 26,
   "id": "dfc30a55-4720-42ef-8d22-304785f0a5f8",
   "metadata": {},
   "outputs": [],
   "source": [
    "####This regex only extract microRNA but not lncRNA.\n",
    "mouse_p=r'^Mir\\d+(-\\d+)*$|^Mir\\d+[a-z](-\\d+)*$|^Mir\\d+[a-z]([a-z]|\\d)*$(?<!hg)$|^Mirlet\\d[a-z]-*\\d*$(?<!hg)$'"
   ]
  },
  {
   "cell_type": "code",
   "execution_count": 27,
   "id": "bf4849b5-41db-4123-b8de-a5613ecca84d",
   "metadata": {},
   "outputs": [
    {
     "name": "stderr",
     "output_type": "stream",
     "text": [
      "/var/folders/hz/4x5ldhv54fscy_nw6y5dbf2m0000gn/T/ipykernel_5683/1856401095.py:1: UserWarning: This pattern is interpreted as a regular expression, and has match groups. To actually get the groups, use str.extract.\n",
      "  mouse_all_genes_no_miR_df=finalized_mouse_gene_df.loc[~finalized_mouse_gene_df['Name'].str.contains(\n"
     ]
    }
   ],
   "source": [
    "mouse_all_genes_no_miR_df=finalized_mouse_gene_df.loc[~finalized_mouse_gene_df['Name'].str.contains(\n",
    "mouse_p, flags=re.I,regex=True)]####Remove all miR from the data. So this file has all mouse genes except for miRNAs"
   ]
  },
  {
   "cell_type": "code",
   "execution_count": 28,
   "id": "46103817-0472-4c4f-9319-577d12ae81cb",
   "metadata": {},
   "outputs": [
    {
     "data": {
      "text/plain": [
       "(1384536, 8)"
      ]
     },
     "execution_count": 28,
     "metadata": {},
     "output_type": "execute_result"
    }
   ],
   "source": [
    "mouse_all_genes_no_miR_df.shape"
   ]
  },
  {
   "cell_type": "code",
   "execution_count": 29,
   "id": "a37a432a-45c8-4b30-b2e8-0ff112b50f25",
   "metadata": {},
   "outputs": [
    {
     "data": {
      "text/plain": [
       "Index(['chrom', 'exonStarts', 'exonEnds', 'cdsStart', 'cdsEnd', 'strand',\n",
       "       'Name', 'ID'],\n",
       "      dtype='object')"
      ]
     },
     "execution_count": 29,
     "metadata": {},
     "output_type": "execute_result"
    }
   ],
   "source": [
    "mouse_all_genes_no_miR_df.columns"
   ]
  },
  {
   "cell_type": "code",
   "execution_count": 30,
   "id": "779700e5-4e68-42c0-be7a-fc13c2c667a4",
   "metadata": {},
   "outputs": [],
   "source": [
    "### save the file\n",
    "mouse_all_genes_no_miR_df.to_csv(f'{current_dir}/Mouse_tsv_file/mouse_all_genes_no_miR_df_NCBI.tsv',sep='\\t',index=False)"
   ]
  },
  {
   "cell_type": "markdown",
   "id": "d5f56c3d-3807-47fa-a183-194afe99c3af",
   "metadata": {},
   "source": [
    "### Extract miRNA data"
   ]
  },
  {
   "cell_type": "code",
   "execution_count": 31,
   "id": "cedbd9eb-9ba4-4aff-b1c8-0b1d1617fd5a",
   "metadata": {},
   "outputs": [
    {
     "name": "stderr",
     "output_type": "stream",
     "text": [
      "/var/folders/hz/4x5ldhv54fscy_nw6y5dbf2m0000gn/T/ipykernel_5683/3488575663.py:2: UserWarning: This pattern is interpreted as a regular expression, and has match groups. To actually get the groups, use str.extract.\n",
      "  mouse_df_miR=finalized_mouse_gene_df.loc[finalized_mouse_gene_df['Name'].str.contains(mouse_p,flags=re.I,regex=True)]\n"
     ]
    }
   ],
   "source": [
    "##extract mouse miRs\n",
    "mouse_df_miR=finalized_mouse_gene_df.loc[finalized_mouse_gene_df['Name'].str.contains(mouse_p,flags=re.I,regex=True)]"
   ]
  },
  {
   "cell_type": "code",
   "execution_count": 32,
   "id": "62c2aebd-0dda-4134-b89d-e4aff36a0434",
   "metadata": {},
   "outputs": [
    {
     "data": {
      "text/plain": [
       "(1282, 8)"
      ]
     },
     "execution_count": 32,
     "metadata": {},
     "output_type": "execute_result"
    }
   ],
   "source": [
    "mouse_df_miR.shape ### this dataset do not have lncRNA (e.g. miR-210HG) It has only miRNAs"
   ]
  },
  {
   "cell_type": "code",
   "execution_count": 33,
   "id": "56157928-f80a-4c88-bcc5-7de78e14f11a",
   "metadata": {},
   "outputs": [
    {
     "data": {
      "text/html": [
       "<div>\n",
       "<style scoped>\n",
       "    .dataframe tbody tr th:only-of-type {\n",
       "        vertical-align: middle;\n",
       "    }\n",
       "\n",
       "    .dataframe tbody tr th {\n",
       "        vertical-align: top;\n",
       "    }\n",
       "\n",
       "    .dataframe thead th {\n",
       "        text-align: right;\n",
       "    }\n",
       "</style>\n",
       "<table border=\"1\" class=\"dataframe\">\n",
       "  <thead>\n",
       "    <tr style=\"text-align: right;\">\n",
       "      <th></th>\n",
       "      <th>chrom</th>\n",
       "      <th>exonStarts</th>\n",
       "      <th>exonEnds</th>\n",
       "      <th>cdsStart</th>\n",
       "      <th>cdsEnd</th>\n",
       "      <th>strand</th>\n",
       "      <th>Name</th>\n",
       "      <th>ID</th>\n",
       "    </tr>\n",
       "  </thead>\n",
       "  <tbody>\n",
       "    <tr>\n",
       "      <th>56853</th>\n",
       "      <td>chr1</td>\n",
       "      <td>12425985</td>\n",
       "      <td>12426106</td>\n",
       "      <td>12426106</td>\n",
       "      <td>12426106</td>\n",
       "      <td>+</td>\n",
       "      <td>Mir6341</td>\n",
       "      <td>NR_105759.1</td>\n",
       "    </tr>\n",
       "    <tr>\n",
       "      <th>57475</th>\n",
       "      <td>chr1</td>\n",
       "      <td>20679009</td>\n",
       "      <td>20679082</td>\n",
       "      <td>20679082</td>\n",
       "      <td>20679082</td>\n",
       "      <td>+</td>\n",
       "      <td>Mir206</td>\n",
       "      <td>NR_029593.1</td>\n",
       "    </tr>\n",
       "    <tr>\n",
       "      <th>57476</th>\n",
       "      <td>chr1</td>\n",
       "      <td>20682768</td>\n",
       "      <td>20682887</td>\n",
       "      <td>20682887</td>\n",
       "      <td>20682887</td>\n",
       "      <td>+</td>\n",
       "      <td>Mir133b</td>\n",
       "      <td>NR_029902.1</td>\n",
       "    </tr>\n",
       "    <tr>\n",
       "      <th>57636</th>\n",
       "      <td>chr1</td>\n",
       "      <td>23272268</td>\n",
       "      <td>23272339</td>\n",
       "      <td>23272339</td>\n",
       "      <td>23272339</td>\n",
       "      <td>+</td>\n",
       "      <td>Mir30a</td>\n",
       "      <td>NR_029533.1</td>\n",
       "    </tr>\n",
       "    <tr>\n",
       "      <th>57637</th>\n",
       "      <td>chr1</td>\n",
       "      <td>23291700</td>\n",
       "      <td>23291784</td>\n",
       "      <td>23291784</td>\n",
       "      <td>23291784</td>\n",
       "      <td>+</td>\n",
       "      <td>Mir30c-2</td>\n",
       "      <td>NR_029717.1</td>\n",
       "    </tr>\n",
       "  </tbody>\n",
       "</table>\n",
       "</div>"
      ],
      "text/plain": [
       "      chrom exonStarts  exonEnds  cdsStart    cdsEnd strand      Name  \\\n",
       "56853  chr1   12425985  12426106  12426106  12426106      +   Mir6341   \n",
       "57475  chr1   20679009  20679082  20679082  20679082      +    Mir206   \n",
       "57476  chr1   20682768  20682887  20682887  20682887      +   Mir133b   \n",
       "57636  chr1   23272268  23272339  23272339  23272339      +    Mir30a   \n",
       "57637  chr1   23291700  23291784  23291784  23291784      +  Mir30c-2   \n",
       "\n",
       "                ID  \n",
       "56853  NR_105759.1  \n",
       "57475  NR_029593.1  \n",
       "57476  NR_029902.1  \n",
       "57636  NR_029533.1  \n",
       "57637  NR_029717.1  "
      ]
     },
     "execution_count": 33,
     "metadata": {},
     "output_type": "execute_result"
    }
   ],
   "source": [
    "mouse_df_miR.head(5)"
   ]
  },
  {
   "cell_type": "code",
   "execution_count": 34,
   "id": "add8f282-f379-43bd-b6f4-57b77bf496fc",
   "metadata": {},
   "outputs": [],
   "source": [
    "###save the file for microRNA dataset\n",
    "mouse_df_miR.to_csv(f'{current_dir}/Mouse_tsv_file/df_mousemiR_NCBI.tsv',sep=\"\\t\",index=False)"
   ]
  },
  {
   "cell_type": "markdown",
   "id": "ea0990a3-a5cf-403f-ac65-57b7cdc66068",
   "metadata": {},
   "source": [
    "## 6. Before you run bedtools_intronic_miRs.sh, reshape the dataframe first and map intronic miRNA with the following steps\n",
    "\n",
    "The reason for reshaping the dataframe are the following:\n",
    "* We need to use txStart, txEnd coordinates instead of exon coordinates to find intronic miRNAs. \n",
    "* The finalized tsv files will be \"mouse_all_genes_no_miR_df_TX_loc_NCBI.tsv\".\n",
    "* We will use this new tsv file to overlap the coordinates of miR to map all the intronic miRNAs.\n",
    "* Remember the new file has txStart and txEnd locations instead of exon locations.\n",
    "* bedtools_intronic_miRs.sh will also map the rest of miRNAs that don't have mRNA host genes."
   ]
  },
  {
   "cell_type": "markdown",
   "id": "792a84ec-d39e-49ab-b04c-407c9bcb6c6d",
   "metadata": {},
   "source": [
    "### Mouse"
   ]
  },
  {
   "cell_type": "code",
   "execution_count": 37,
   "id": "7a8cc0df-4c5a-49d8-baee-9afde6dcf651",
   "metadata": {},
   "outputs": [],
   "source": [
    "\n",
    "columns=['hostgene_chrom', 'hostgene_exonStarts', 'hostgene_exonEnds', 'hostgene_cdsStart', 'hostgene_cdsEnd'\n",
    "         , 'hostgene_strand',\n",
    "       'hostgene_Name', 'hostgene_NCBI_ID','miR_chrom', 'miR_exonStarts', 'miR_exonEnds', 'miR_type'\n",
    "         , 'miR_Name',\n",
    "       'miR_strand', 'miR_ID']"
   ]
  },
  {
   "cell_type": "code",
   "execution_count": 40,
   "id": "33fe7cf6-bb2c-4c6f-b91e-48ff09e60b03",
   "metadata": {},
   "outputs": [],
   "source": [
    "#mouse_exonicmiR_df=pd.read_csv(f'{current_dir}/Mouse_tsv_file/mouse_exonic_miR_NCBI.tsv', sep='\\t', header=None, names=columns)"
   ]
  },
  {
   "cell_type": "code",
   "execution_count": null,
   "id": "3ce76fe0-0a5a-4837-8064-d4614c446058",
   "metadata": {},
   "outputs": [],
   "source": [
    "# mouse_exonicmiR_df.head()"
   ]
  },
  {
   "cell_type": "code",
   "execution_count": null,
   "id": "3db55f3f-da03-4b25-b017-d04a3cea9f44",
   "metadata": {},
   "outputs": [],
   "source": [
    "# mouse_exonicmiR_df=mouse_exonicmiR_df.loc[mouse_exonicmiR_df['miR_type']==\"miRNA_primary_transcript\"]"
   ]
  },
  {
   "cell_type": "code",
   "execution_count": null,
   "id": "c28be0c9-70e6-4ddf-b43e-ae4a42e3d75a",
   "metadata": {},
   "outputs": [],
   "source": [
    "# mouse_exonicmiR_df.drop(columns=['miR_ID'],inplace=True)"
   ]
  },
  {
   "cell_type": "code",
   "execution_count": null,
   "id": "e4baee8f-a16f-41c1-97ab-acd78872e108",
   "metadata": {},
   "outputs": [],
   "source": [
    "# mouse_exonicmiR_df.head()"
   ]
  },
  {
   "cell_type": "code",
   "execution_count": null,
   "id": "3636b49a-ce73-4842-a6da-8a4ad487bf29",
   "metadata": {},
   "outputs": [],
   "source": [
    "# #Change string values in the columns of exonic miR files\n",
    "\n",
    "# # Reset the index\n",
    "# mouse_exonicmiR_df = mouse_exonicmiR_df.reset_index(drop=True)\n",
    "\n",
    "# # Create a new DataFrame with the updated \"miR_name\" column\n",
    "# new_df_2 = pd.DataFrame({\"miR_name\": mouse_exonicmiR_df[\"miR_Name\"].str.replace(\"Name=\", \"\")})\n",
    "\n",
    "# # Concatenate the new DataFrame with the remaining columns from the original DataFrame\n",
    "# mouse_exonicmiR_df.insert(12,\"miR_name\", new_df_2['miR_name'])\n",
    "# # mouse_exonicmiR_df.drop(columns=[\"miR_Name\"],inplace=True)"
   ]
  },
  {
   "cell_type": "code",
   "execution_count": null,
   "id": "0bc3f5e0-5300-40b0-b9d5-301193de1c81",
   "metadata": {},
   "outputs": [],
   "source": [
    "# mouse_exonicmiR_df.head()"
   ]
  },
  {
   "cell_type": "markdown",
   "id": "513dd690-f589-4ee1-a3e5-a39014bfabd2",
   "metadata": {},
   "source": [
    "### 7. Use Gene_func file to add additional columns to the dataframe (7th step).\n",
    "This new column will have a new column called gene type. Bascially this new dataframe will tell you if the host gene is a protein or non-coding RNA."
   ]
  },
  {
   "cell_type": "code",
   "execution_count": null,
   "id": "28970537-7ade-4078-847a-a1b985ed3584",
   "metadata": {},
   "outputs": [],
   "source": [
    "# Gene_type(mouse_exonicmiR_df,'hostgene_cdsStart','hostgene_cdsEnd','gene_type')"
   ]
  },
  {
   "cell_type": "code",
   "execution_count": null,
   "id": "dbce304a-b5fe-4836-8029-ebdaaaa50cb1",
   "metadata": {},
   "outputs": [],
   "source": [
    "# mouse_exonicmiR_df.head()"
   ]
  },
  {
   "cell_type": "code",
   "execution_count": null,
   "id": "82423fed-7ae6-4dfd-bd50-dc8fc2d3036a",
   "metadata": {},
   "outputs": [],
   "source": [
    "# mouse_exonicmiR_df.drop_duplicates(subset=['miR_name'],inplace=True)"
   ]
  },
  {
   "cell_type": "code",
   "execution_count": null,
   "id": "7092ef13-157e-40e3-b66f-6761d398a4a2",
   "metadata": {},
   "outputs": [],
   "source": [
    "# mouse_exonicmiR_df.to_csv('./Mouse/mouse_exonic_miR(gene_type)_NCBI.csv',index=False)"
   ]
  },
  {
   "cell_type": "markdown",
   "id": "00439b91-2d70-4b73-862f-2a542bafae4e",
   "metadata": {},
   "source": [
    "## Intronic miRNAs organization"
   ]
  },
  {
   "cell_type": "markdown",
   "id": "319ced0d-0195-49b9-ab33-41691c37378e",
   "metadata": {},
   "source": [
    "#### Mouse"
   ]
  },
  {
   "cell_type": "code",
   "execution_count": 1,
   "id": "5a8f5ac8-8db0-475f-a964-a39c6704c9cd",
   "metadata": {},
   "outputs": [],
   "source": [
    "#bedtools will generate the overlapped intronic miR files\n",
    "\n",
    "\n",
    "columns_2=['hostgene_chrom', 'hostgene_exonStarts', 'hostgene_exonEnds', 'hostgene_cdsStart', 'hostgene_cdsEnd'\n",
    "         , 'hostgene_strand',\n",
    "       'hostgene_Name', 'hostgene_NCBI_ID','miR_chrom', 'miR_exonStarts', 'miR_exonEnds', 'miR_type'\n",
    "         , 'miR_Name',\n",
    "       'miR_strand', 'miR_ID']"
   ]
  },
  {
   "cell_type": "code",
   "execution_count": null,
   "id": "90ee5334-abfb-43aa-9598-d18675c3953f",
   "metadata": {},
   "outputs": [],
   "source": [
    "# mouse_intronicmiR_df=pd.read_csv('./Mouse/tsv_file/mouse_intronic_miR_NCBI.tsv', sep='\\t', header=None, names=columns_2)"
   ]
  },
  {
   "cell_type": "code",
   "execution_count": null,
   "id": "095e863c-c2ad-4cbc-b73e-68bedc31f20c",
   "metadata": {},
   "outputs": [],
   "source": [
    "# mouse_intronicmiR_df.head()"
   ]
  },
  {
   "cell_type": "code",
   "execution_count": null,
   "id": "4f689523-ba64-4b99-88a9-adc6131c6d53",
   "metadata": {},
   "outputs": [],
   "source": [
    "# mouse_intronicmiR_df=mouse_intronicmiR_df.loc[mouse_intronicmiR_df['miR_type']==\"miRNA_primary_transcript\"]"
   ]
  },
  {
   "cell_type": "code",
   "execution_count": null,
   "id": "0ad750c6-431c-40af-ac45-38ddc4755a14",
   "metadata": {},
   "outputs": [],
   "source": [
    "# mouse_intronicmiR_df.drop(columns=['miR_ID'],inplace=True)"
   ]
  },
  {
   "cell_type": "code",
   "execution_count": null,
   "id": "891ff87f-ac26-41d1-8e04-811bdedd4085",
   "metadata": {},
   "outputs": [],
   "source": [
    "# mouse_intronicmiR_df.head()"
   ]
  },
  {
   "cell_type": "code",
   "execution_count": null,
   "id": "da844b64-bbf1-4950-a526-515c4e9f3031",
   "metadata": {},
   "outputs": [],
   "source": [
    "# mouse_intronicmiR_df.columns"
   ]
  },
  {
   "cell_type": "code",
   "execution_count": null,
   "id": "20b87e65-a6e6-4b82-a911-0389b26099ea",
   "metadata": {},
   "outputs": [],
   "source": [
    "# #Change string values in the columns of exonic miR files\n",
    "\n",
    "# # Reset the index\n",
    "# mouse_intronicmiR_df= mouse_intronicmiR_df.reset_index(drop=True)\n",
    "\n",
    "# # Create a new DataFrame with the updated \"miR_name\" column\n",
    "# mm_intron_df= pd.DataFrame({\"miR_name\": mouse_intronicmiR_df[\"miR_Name\"].str.replace(\"Name=\", \"\")})\n",
    "\n",
    "# # Concatenate the new DataFrame with the remaining columns from the original DataFrame\n",
    "# mouse_intronicmiR_df.insert(12,\"miR_name\",mm_intron_df['miR_name'])\n",
    "# mouse_intronicmiR_df.drop(columns=[\"miR_Name\"],inplace=True)"
   ]
  },
  {
   "cell_type": "code",
   "execution_count": null,
   "id": "45e49f5f-4325-4e37-ae6e-26caec972108",
   "metadata": {},
   "outputs": [],
   "source": [
    "# Gene_type(mouse_intronicmiR_df,'hostgene_cdsStart','hostgene_cdsEnd','gene_type')"
   ]
  },
  {
   "cell_type": "code",
   "execution_count": null,
   "id": "9a6cea33-0f68-48a1-aa38-c48eddb0d5ea",
   "metadata": {},
   "outputs": [],
   "source": [
    "# mouse_intronicmiR_df.head()"
   ]
  },
  {
   "cell_type": "code",
   "execution_count": null,
   "id": "0bc9d3f5-cdbe-4aca-ab53-5f9a19f18743",
   "metadata": {},
   "outputs": [],
   "source": [
    "# mouse_intronicmiR_df.to_csv('./Mouse/mouse_intronic_miR(gene_type)_NCBI.csv',index=False)"
   ]
  },
  {
   "cell_type": "markdown",
   "id": "32a85762-e0e6-4d62-ac50-ea0e4799f293",
   "metadata": {},
   "source": [
    "## 6. Before you run bedtools_intronic_miRs.sh, reshape the dataframe first and map intronic miRNA with the following steps\n",
    "\n",
    "The reason for reshaping the dataframe are the following:\n",
    "* We need to use txStart, txEnd coordinates instead of exon coordinates to find intronic miRNAs. \n",
    "* The finalized tsv files will be \"mouse_all_genes_no_miR_df_TX_loc_NCBI.tsv\".\n",
    "* We will use this new tsv file to overlap the coordinates of miR to map all the intronic miRNAs.\n",
    "* Remember the new file has txStart and txEnd locations instead of exon locations.\n",
    "* bedtools_intronic_miRs.sh will also map the rest of miRNAs that don't have mRNA host genes."
   ]
  },
  {
   "cell_type": "markdown",
   "id": "971ddb32-cdbb-4844-b5e7-24a4a3f209f6",
   "metadata": {},
   "source": [
    "### Mouse"
   ]
  },
  {
   "cell_type": "code",
   "execution_count": null,
   "id": "4e8e151f-25af-4e0e-a3bd-754e8c8d62c1",
   "metadata": {},
   "outputs": [],
   "source": [
    "# mouse_gene_df_tx=mouse.select(['chrom','txStart','txEnd','cdsStart','cdsEnd','strand',\n",
    "#                         'gene_name','name'])"
   ]
  },
  {
   "cell_type": "code",
   "execution_count": null,
   "id": "b052e0d9-06db-4c1d-a36f-33ccd1200da2",
   "metadata": {},
   "outputs": [],
   "source": [
    "# mouse_gene_df_tx.rename(columns={'gene_name':'Name','name':'ID'},inplace=True)"
   ]
  },
  {
   "cell_type": "code",
   "execution_count": null,
   "id": "949cb8a7-163f-4311-a683-a11e79a961f7",
   "metadata": {},
   "outputs": [],
   "source": [
    "# mouse_all_genes_no_miR_df_TX_loc=mouse_gene_df_tx.loc[~mouse_gene_df_tx['Name'].str.contains(\n",
    "# mouse_p, flags=re.I,regex=True)]####Remove all miR from the data."
   ]
  },
  {
   "cell_type": "code",
   "execution_count": null,
   "id": "02894205-e40d-4ee4-be76-7b836f550a8f",
   "metadata": {},
   "outputs": [],
   "source": [
    "# mouse_all_genes_no_miR_df_TX_loc.to_csv('./Mouse/mouse_all_genes_no_miR_df_TX_loc_NCBI.tsv',sep='\\t',index=False)"
   ]
  },
  {
   "cell_type": "code",
   "execution_count": null,
   "id": "0a4ea5e5-2aeb-404d-a70c-73ba1f99840a",
   "metadata": {},
   "outputs": [],
   "source": []
  },
  {
   "cell_type": "code",
   "execution_count": null,
   "id": "0de7dd5a-5db8-4bb0-b859-ca3f2fcffc52",
   "metadata": {},
   "outputs": [],
   "source": []
  },
  {
   "cell_type": "markdown",
   "id": "e7843afa-87b2-4415-bfc7-8f395aedd666",
   "metadata": {},
   "source": [
    "## Map percentages of intronic, exonic, other microRNAs using bedtools\n",
    "\n",
    "* This step is also run after bedtools files are run (bedtools_mouse_nonoverlap_miR.sh)"
   ]
  },
  {
   "cell_type": "markdown",
   "id": "e609efaf-71a1-4afc-b203-b1241e6d25ca",
   "metadata": {},
   "source": [
    "### Mouse"
   ]
  },
  {
   "cell_type": "code",
   "execution_count": null,
   "id": "8a6e2229-9447-4d5f-9735-f08c943529c1",
   "metadata": {},
   "outputs": [],
   "source": [
    "columns_3=['miR_chrom', 'miR_exonStarts', 'miR_exonEnds', 'miR_type', 'miR_Name','miR_strand', 'miR_ID']\n",
    "mouse_miR_miRBase_df=pd.read_csv('./Mouse/tsv_file/mmu_finalized.tsv', sep='\\t', header=None, names=columns_3)###all micrornas\n",
    "mouse_miR_miRBase_df.head()"
   ]
  },
  {
   "cell_type": "code",
   "execution_count": null,
   "id": "05b8f634-0923-41dd-aa78-4321ffa8f99c",
   "metadata": {},
   "outputs": [],
   "source": []
  }
 ],
 "metadata": {
  "kernelspec": {
   "display_name": "Python 3 (ipykernel)",
   "language": "python",
   "name": "python3"
  },
  "language_info": {
   "codemirror_mode": {
    "name": "ipython",
    "version": 3
   },
   "file_extension": ".py",
   "mimetype": "text/x-python",
   "name": "python",
   "nbconvert_exporter": "python",
   "pygments_lexer": "ipython3",
   "version": "3.9.13"
  }
 },
 "nbformat": 4,
 "nbformat_minor": 5
}
