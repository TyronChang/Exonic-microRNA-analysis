{
 "cells": [
  {
   "cell_type": "code",
   "execution_count": 1,
   "id": "0d7ee27a-688d-4983-97f3-d69dc70d9578",
   "metadata": {},
   "outputs": [],
   "source": [
    "import pandas as pd\n",
    "import os\n",
    "import matplotlib.pyplot as plt\n",
    "import seaborn as sns"
   ]
  },
  {
   "cell_type": "code",
   "execution_count": 2,
   "id": "8d6d0c5a-286c-4665-b77b-ac1101174de2",
   "metadata": {},
   "outputs": [],
   "source": [
    "current_dir=os.getcwd()"
   ]
  },
  {
   "cell_type": "code",
   "execution_count": 3,
   "id": "e5f6aa09-e0f4-479a-b70a-52b9a04bf315",
   "metadata": {},
   "outputs": [],
   "source": [
    "human_miR_df=pd.read_csv(f'{current_dir}/Human_miR_expression/hsa-tissueItems.txt',delimiter=\",\")\n",
    "#The data are retrieved from MirGeneDB 2.1(https://mirgenedb.org/download)"
   ]
  },
  {
   "cell_type": "code",
   "execution_count": 4,
   "id": "97337d49-c02a-4998-b418-947a7e63be89",
   "metadata": {},
   "outputs": [
    {
     "data": {
      "text/plain": [
       "Index(['Gene name', 'adipocyte', 'artery', 'bladder', 'bone', 'bowel_colon',\n",
       "       'bowel_duodenum', 'bowel_jejunum', 'bowel_small_intestine',\n",
       "       'brain_arachnoid_matter', 'brain_cerebellum', 'brain_dura_matter',\n",
       "       'brain_frontal_lobe', 'brain_grey_matter', 'brain_nucleus_caudatus',\n",
       "       'brain_occipital', 'brain_pituitary', 'brain_temporal_lobe',\n",
       "       'brain_thalamus', 'brain_white_matter', 'esophagus', 'gallbladder',\n",
       "       'heart', 'heart_atrium', 'heart_muscle', 'heart_pericardium',\n",
       "       'heart_ventricle', 'kidney', 'liver', 'lung', 'lymph_nodes', 'muscle',\n",
       "       'nerve', 'pancreas', 'placenta', 'pleurae', 'skin', 'spinal_cord',\n",
       "       'spleen', 'stomach', 'submandibular_gland', 'testis', 'thyroid',\n",
       "       'tongue', 'trachea', 'vein'],\n",
       "      dtype='object')"
      ]
     },
     "execution_count": 4,
     "metadata": {},
     "output_type": "execute_result"
    }
   ],
   "source": [
    "human_miR_df.columns"
   ]
  }
 ],
 "metadata": {
  "kernelspec": {
   "display_name": "Python 3 (ipykernel)",
   "language": "python",
   "name": "python3"
  },
  "language_info": {
   "codemirror_mode": {
    "name": "ipython",
    "version": 3
   },
   "file_extension": ".py",
   "mimetype": "text/x-python",
   "name": "python",
   "nbconvert_exporter": "python",
   "pygments_lexer": "ipython3",
   "version": "3.9.13"
  }
 },
 "nbformat": 4,
 "nbformat_minor": 5
}
