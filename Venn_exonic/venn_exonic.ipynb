{
 "cells": [
  {
   "cell_type": "code",
   "execution_count": 1,
   "id": "3066e0bf",
   "metadata": {},
   "outputs": [],
   "source": [
    "import pandas as pd"
   ]
  },
  {
   "cell_type": "code",
   "execution_count": 2,
   "id": "700f8ed7",
   "metadata": {},
   "outputs": [],
   "source": [
    "import matplotlib.pyplot as plt"
   ]
  },
  {
   "cell_type": "code",
   "execution_count": 3,
   "id": "4708e605",
   "metadata": {},
   "outputs": [],
   "source": [
    "import matplotlib_venn as venn2"
   ]
  },
  {
   "cell_type": "code",
   "execution_count": 4,
   "id": "49278541",
   "metadata": {},
   "outputs": [],
   "source": [
    "import os"
   ]
  },
  {
   "cell_type": "code",
   "execution_count": 5,
   "id": "7a6a5cb6",
   "metadata": {},
   "outputs": [],
   "source": [
    "current_dir=os.getcwd()"
   ]
  },
  {
   "cell_type": "code",
   "execution_count": 6,
   "id": "b1d36882",
   "metadata": {},
   "outputs": [],
   "source": [
    "df1_human=pd.read_csv(f\"{current_dir}/human_exonic_protein_coding_genes_unique.txt\", sep=\"\\t\", header=None,skiprows=2)"
   ]
  },
  {
   "cell_type": "code",
   "execution_count": 7,
   "id": "3a127d00",
   "metadata": {},
   "outputs": [],
   "source": [
    "human_columns=df1_human.loc[0,0:9]"
   ]
  },
  {
   "cell_type": "code",
   "execution_count": 8,
   "id": "382e6253",
   "metadata": {},
   "outputs": [],
   "source": [
    "human_columns=[x for x in human_columns]"
   ]
  },
  {
   "cell_type": "code",
   "execution_count": 9,
   "id": "34337a9c",
   "metadata": {},
   "outputs": [
    {
     "data": {
      "text/plain": [
       "['Symbol',\n",
       " 'Entrez Gene Name',\n",
       " 'RefSeq/Gene Symbol - human (HUGO / HGNC / Entrez Gene)',\n",
       " 'Location',\n",
       " 'Type(s)',\n",
       " 'Biomarker Application(s)',\n",
       " 'Drug(s)',\n",
       " 'Entrez Gene ID for Human',\n",
       " 'Entrez Gene ID for Mouse',\n",
       " 'Entrez Gene ID for Rat']"
      ]
     },
     "execution_count": 9,
     "metadata": {},
     "output_type": "execute_result"
    }
   ],
   "source": [
    "human_columns"
   ]
  },
  {
   "cell_type": "code",
   "execution_count": 10,
   "id": "7c783333",
   "metadata": {},
   "outputs": [],
   "source": [
    "df1_human.columns=human_columns"
   ]
  },
  {
   "cell_type": "code",
   "execution_count": 11,
   "id": "6fca93f4",
   "metadata": {},
   "outputs": [],
   "source": [
    "df1_human.drop(index=0, inplace=True)"
   ]
  },
  {
   "cell_type": "code",
   "execution_count": 12,
   "id": "0954873a",
   "metadata": {},
   "outputs": [],
   "source": [
    "df1_human[\"Symbol\"]=df1_human[\"Symbol\"].str.upper()"
   ]
  },
  {
   "cell_type": "code",
   "execution_count": 13,
   "id": "d8f0fd4f",
   "metadata": {},
   "outputs": [
    {
     "data": {
      "text/html": [
       "<div>\n",
       "<style scoped>\n",
       "    .dataframe tbody tr th:only-of-type {\n",
       "        vertical-align: middle;\n",
       "    }\n",
       "\n",
       "    .dataframe tbody tr th {\n",
       "        vertical-align: top;\n",
       "    }\n",
       "\n",
       "    .dataframe thead th {\n",
       "        text-align: right;\n",
       "    }\n",
       "</style>\n",
       "<table border=\"1\" class=\"dataframe\">\n",
       "  <thead>\n",
       "    <tr style=\"text-align: right;\">\n",
       "      <th></th>\n",
       "      <th>Symbol</th>\n",
       "      <th>Entrez Gene Name</th>\n",
       "      <th>RefSeq/Gene Symbol - human (HUGO / HGNC / Entrez Gene)</th>\n",
       "      <th>Location</th>\n",
       "      <th>Type(s)</th>\n",
       "      <th>Biomarker Application(s)</th>\n",
       "      <th>Drug(s)</th>\n",
       "      <th>Entrez Gene ID for Human</th>\n",
       "      <th>Entrez Gene ID for Mouse</th>\n",
       "      <th>Entrez Gene ID for Rat</th>\n",
       "    </tr>\n",
       "  </thead>\n",
       "  <tbody>\n",
       "    <tr>\n",
       "      <th>1</th>\n",
       "      <td>ADAMTSL4</td>\n",
       "      <td>ADAMTS like 4</td>\n",
       "      <td>XM_047422823.1</td>\n",
       "      <td>Extracellular Space</td>\n",
       "      <td>other</td>\n",
       "      <td>NaN</td>\n",
       "      <td>NaN</td>\n",
       "      <td>54507</td>\n",
       "      <td>229595</td>\n",
       "      <td>310670</td>\n",
       "    </tr>\n",
       "    <tr>\n",
       "      <th>2</th>\n",
       "      <td>ADGRB2</td>\n",
       "      <td>adhesion G protein-coupled receptor B2</td>\n",
       "      <td>XM_047426188.1</td>\n",
       "      <td>Plasma Membrane</td>\n",
       "      <td>G-protein coupled receptor</td>\n",
       "      <td>NaN</td>\n",
       "      <td>NaN</td>\n",
       "      <td>576</td>\n",
       "      <td>230775</td>\n",
       "      <td>313058</td>\n",
       "    </tr>\n",
       "    <tr>\n",
       "      <th>3</th>\n",
       "      <td>AEN</td>\n",
       "      <td>apoptosis enhancing nuclease</td>\n",
       "      <td>XM_017022489.2</td>\n",
       "      <td>Nucleus</td>\n",
       "      <td>enzyme</td>\n",
       "      <td>NaN</td>\n",
       "      <td>NaN</td>\n",
       "      <td>64782</td>\n",
       "      <td>68048</td>\n",
       "      <td>361594</td>\n",
       "    </tr>\n",
       "    <tr>\n",
       "      <th>4</th>\n",
       "      <td>ANKRD54</td>\n",
       "      <td>ankyrin repeat domain 54</td>\n",
       "      <td>XM_011529877.3</td>\n",
       "      <td>Nucleus</td>\n",
       "      <td>transcription regulator</td>\n",
       "      <td>NaN</td>\n",
       "      <td>NaN</td>\n",
       "      <td>129138</td>\n",
       "      <td>223690</td>\n",
       "      <td>362957</td>\n",
       "    </tr>\n",
       "    <tr>\n",
       "      <th>5</th>\n",
       "      <td>AOPEP</td>\n",
       "      <td>aminopeptidase O (putative)</td>\n",
       "      <td>XM_047423978.1</td>\n",
       "      <td>Cytoplasm</td>\n",
       "      <td>peptidase</td>\n",
       "      <td>NaN</td>\n",
       "      <td>NaN</td>\n",
       "      <td>84909</td>\n",
       "      <td>72061</td>\n",
       "      <td>290963</td>\n",
       "    </tr>\n",
       "    <tr>\n",
       "      <th>...</th>\n",
       "      <td>...</td>\n",
       "      <td>...</td>\n",
       "      <td>...</td>\n",
       "      <td>...</td>\n",
       "      <td>...</td>\n",
       "      <td>...</td>\n",
       "      <td>...</td>\n",
       "      <td>...</td>\n",
       "      <td>...</td>\n",
       "      <td>...</td>\n",
       "    </tr>\n",
       "    <tr>\n",
       "      <th>93</th>\n",
       "      <td>VMP1</td>\n",
       "      <td>vacuole membrane protein 1</td>\n",
       "      <td>NM_001329402.2</td>\n",
       "      <td>Cytoplasm</td>\n",
       "      <td>transporter</td>\n",
       "      <td>NaN</td>\n",
       "      <td>NaN</td>\n",
       "      <td>81671</td>\n",
       "      <td>75909</td>\n",
       "      <td>192129</td>\n",
       "    </tr>\n",
       "    <tr>\n",
       "      <th>94</th>\n",
       "      <td>ZBTB20</td>\n",
       "      <td>zinc finger and BTB domain containing 20</td>\n",
       "      <td>NM_001164347.2</td>\n",
       "      <td>Nucleus</td>\n",
       "      <td>transcription regulator</td>\n",
       "      <td>NaN</td>\n",
       "      <td>NaN</td>\n",
       "      <td>26137</td>\n",
       "      <td>56490</td>\n",
       "      <td>288105</td>\n",
       "    </tr>\n",
       "    <tr>\n",
       "      <th>95</th>\n",
       "      <td>ZC3HAV1</td>\n",
       "      <td>zinc finger CCCH-type containing, antiviral 1</td>\n",
       "      <td>NM_001363491.2</td>\n",
       "      <td>Plasma Membrane</td>\n",
       "      <td>other</td>\n",
       "      <td>NaN</td>\n",
       "      <td>NaN</td>\n",
       "      <td>56829</td>\n",
       "      <td>78781</td>\n",
       "      <td>252832</td>\n",
       "    </tr>\n",
       "    <tr>\n",
       "      <th>96</th>\n",
       "      <td>ZFAT</td>\n",
       "      <td>zinc finger and AT-hook domain containing</td>\n",
       "      <td>XM_047422062.1</td>\n",
       "      <td>Nucleus</td>\n",
       "      <td>transcription regulator</td>\n",
       "      <td>NaN</td>\n",
       "      <td>NaN</td>\n",
       "      <td>57623</td>\n",
       "      <td>380993</td>\n",
       "      <td>362925</td>\n",
       "    </tr>\n",
       "    <tr>\n",
       "      <th>97</th>\n",
       "      <td>ZFTRAF1</td>\n",
       "      <td>zinc finger TRAF-type containing 1</td>\n",
       "      <td>NM_001330618.2</td>\n",
       "      <td>Nucleus</td>\n",
       "      <td>other</td>\n",
       "      <td>NaN</td>\n",
       "      <td>NaN</td>\n",
       "      <td>50626</td>\n",
       "      <td>54151</td>\n",
       "      <td>100362155</td>\n",
       "    </tr>\n",
       "  </tbody>\n",
       "</table>\n",
       "<p>97 rows × 10 columns</p>\n",
       "</div>"
      ],
      "text/plain": [
       "      Symbol                               Entrez Gene Name  \\\n",
       "1   ADAMTSL4                                  ADAMTS like 4   \n",
       "2     ADGRB2         adhesion G protein-coupled receptor B2   \n",
       "3        AEN                   apoptosis enhancing nuclease   \n",
       "4    ANKRD54                       ankyrin repeat domain 54   \n",
       "5      AOPEP                    aminopeptidase O (putative)   \n",
       "..       ...                                            ...   \n",
       "93      VMP1                     vacuole membrane protein 1   \n",
       "94    ZBTB20       zinc finger and BTB domain containing 20   \n",
       "95   ZC3HAV1  zinc finger CCCH-type containing, antiviral 1   \n",
       "96      ZFAT      zinc finger and AT-hook domain containing   \n",
       "97   ZFTRAF1             zinc finger TRAF-type containing 1   \n",
       "\n",
       "   RefSeq/Gene Symbol - human (HUGO / HGNC / Entrez Gene)  \\\n",
       "1                                      XM_047422823.1       \n",
       "2                                      XM_047426188.1       \n",
       "3                                      XM_017022489.2       \n",
       "4                                      XM_011529877.3       \n",
       "5                                      XM_047423978.1       \n",
       "..                                                ...       \n",
       "93                                     NM_001329402.2       \n",
       "94                                     NM_001164347.2       \n",
       "95                                     NM_001363491.2       \n",
       "96                                     XM_047422062.1       \n",
       "97                                     NM_001330618.2       \n",
       "\n",
       "               Location                     Type(s) Biomarker Application(s)  \\\n",
       "1   Extracellular Space                       other                      NaN   \n",
       "2       Plasma Membrane  G-protein coupled receptor                      NaN   \n",
       "3               Nucleus                      enzyme                      NaN   \n",
       "4               Nucleus     transcription regulator                      NaN   \n",
       "5             Cytoplasm                   peptidase                      NaN   \n",
       "..                  ...                         ...                      ...   \n",
       "93            Cytoplasm                 transporter                      NaN   \n",
       "94              Nucleus     transcription regulator                      NaN   \n",
       "95      Plasma Membrane                       other                      NaN   \n",
       "96              Nucleus     transcription regulator                      NaN   \n",
       "97              Nucleus                       other                      NaN   \n",
       "\n",
       "   Drug(s) Entrez Gene ID for Human Entrez Gene ID for Mouse  \\\n",
       "1      NaN                    54507                   229595   \n",
       "2      NaN                      576                   230775   \n",
       "3      NaN                    64782                    68048   \n",
       "4      NaN                   129138                   223690   \n",
       "5      NaN                    84909                    72061   \n",
       "..     ...                      ...                      ...   \n",
       "93     NaN                    81671                    75909   \n",
       "94     NaN                    26137                    56490   \n",
       "95     NaN                    56829                    78781   \n",
       "96     NaN                    57623                   380993   \n",
       "97     NaN                    50626                    54151   \n",
       "\n",
       "   Entrez Gene ID for Rat  \n",
       "1                  310670  \n",
       "2                  313058  \n",
       "3                  361594  \n",
       "4                  362957  \n",
       "5                  290963  \n",
       "..                    ...  \n",
       "93                 192129  \n",
       "94                 288105  \n",
       "95                 252832  \n",
       "96                 362925  \n",
       "97              100362155  \n",
       "\n",
       "[97 rows x 10 columns]"
      ]
     },
     "execution_count": 13,
     "metadata": {},
     "output_type": "execute_result"
    }
   ],
   "source": [
    "df1_human"
   ]
  },
  {
   "cell_type": "code",
   "execution_count": 14,
   "id": "4a51f6f3",
   "metadata": {},
   "outputs": [],
   "source": [
    "df1_mouse=pd.read_csv(f\"{current_dir}/mouse_exonic_protein_coding_genes_unique.txt\", sep=\"\\t\", header=None,skiprows=2)"
   ]
  },
  {
   "cell_type": "code",
   "execution_count": 15,
   "id": "061b6cf7",
   "metadata": {},
   "outputs": [],
   "source": [
    "mouse_columns=df1_mouse.loc[0,0:9]"
   ]
  },
  {
   "cell_type": "code",
   "execution_count": 16,
   "id": "2d517d28",
   "metadata": {},
   "outputs": [],
   "source": [
    "mouse_columns=[x for x in mouse_columns]"
   ]
  },
  {
   "cell_type": "code",
   "execution_count": 17,
   "id": "4d0c2c5b",
   "metadata": {},
   "outputs": [
    {
     "data": {
      "text/plain": [
       "['Symbol',\n",
       " 'Entrez Gene Name',\n",
       " 'RefSeq/Gene Symbol - mouse (Entrez Gene)',\n",
       " 'Location',\n",
       " 'Type(s)',\n",
       " 'Biomarker Application(s)',\n",
       " 'Drug(s)',\n",
       " 'Entrez Gene ID for Human',\n",
       " 'Entrez Gene ID for Mouse',\n",
       " 'Entrez Gene ID for Rat']"
      ]
     },
     "execution_count": 17,
     "metadata": {},
     "output_type": "execute_result"
    }
   ],
   "source": [
    "mouse_columns"
   ]
  },
  {
   "cell_type": "code",
   "execution_count": 18,
   "id": "f6dceffe",
   "metadata": {},
   "outputs": [],
   "source": [
    "df1_mouse.columns=mouse_columns"
   ]
  },
  {
   "cell_type": "code",
   "execution_count": 19,
   "id": "319dccad",
   "metadata": {},
   "outputs": [],
   "source": [
    "df1_mouse.drop(index=0, inplace=True)"
   ]
  },
  {
   "cell_type": "code",
   "execution_count": 20,
   "id": "7ef86ce7",
   "metadata": {},
   "outputs": [],
   "source": [
    "df1_mouse[\"Symbol\"]=df1_mouse[\"Symbol\"].str.upper()"
   ]
  },
  {
   "cell_type": "code",
   "execution_count": 21,
   "id": "d84742f6",
   "metadata": {},
   "outputs": [
    {
     "data": {
      "text/html": [
       "<div>\n",
       "<style scoped>\n",
       "    .dataframe tbody tr th:only-of-type {\n",
       "        vertical-align: middle;\n",
       "    }\n",
       "\n",
       "    .dataframe tbody tr th {\n",
       "        vertical-align: top;\n",
       "    }\n",
       "\n",
       "    .dataframe thead th {\n",
       "        text-align: right;\n",
       "    }\n",
       "</style>\n",
       "<table border=\"1\" class=\"dataframe\">\n",
       "  <thead>\n",
       "    <tr style=\"text-align: right;\">\n",
       "      <th></th>\n",
       "      <th>Symbol</th>\n",
       "      <th>Entrez Gene Name</th>\n",
       "      <th>RefSeq/Gene Symbol - mouse (Entrez Gene)</th>\n",
       "      <th>Location</th>\n",
       "      <th>Type(s)</th>\n",
       "      <th>Biomarker Application(s)</th>\n",
       "      <th>Drug(s)</th>\n",
       "      <th>Entrez Gene ID for Human</th>\n",
       "      <th>Entrez Gene ID for Mouse</th>\n",
       "      <th>Entrez Gene ID for Rat</th>\n",
       "    </tr>\n",
       "  </thead>\n",
       "  <tbody>\n",
       "    <tr>\n",
       "      <th>1</th>\n",
       "      <td>ACHE</td>\n",
       "      <td>acetylcholinesterase (Cartwright blood group)</td>\n",
       "      <td>Ache</td>\n",
       "      <td>Plasma Membrane</td>\n",
       "      <td>enzyme</td>\n",
       "      <td>NaN</td>\n",
       "      <td>2,3 butanedione monoxime,acetylcholinesterase ...</td>\n",
       "      <td>43</td>\n",
       "      <td>11423</td>\n",
       "      <td>83817</td>\n",
       "    </tr>\n",
       "    <tr>\n",
       "      <th>2</th>\n",
       "      <td>AKT1S1</td>\n",
       "      <td>AKT1 substrate 1</td>\n",
       "      <td>NM_001290694.1</td>\n",
       "      <td>Cytoplasm</td>\n",
       "      <td>other</td>\n",
       "      <td>efficacy</td>\n",
       "      <td>NaN</td>\n",
       "      <td>84335</td>\n",
       "      <td>67605</td>\n",
       "      <td>292887</td>\n",
       "    </tr>\n",
       "    <tr>\n",
       "      <th>3</th>\n",
       "      <td>ALG10</td>\n",
       "      <td>ALG10 alpha-1,2-glucosyltransferase</td>\n",
       "      <td>NM_001033441.3</td>\n",
       "      <td>Cytoplasm</td>\n",
       "      <td>enzyme</td>\n",
       "      <td>NaN</td>\n",
       "      <td>NaN</td>\n",
       "      <td>84920</td>\n",
       "      <td>380959</td>\n",
       "      <td>245960</td>\n",
       "    </tr>\n",
       "    <tr>\n",
       "      <th>4</th>\n",
       "      <td>AOPEP</td>\n",
       "      <td>aminopeptidase O (putative)</td>\n",
       "      <td>NM_001289926.1</td>\n",
       "      <td>Cytoplasm</td>\n",
       "      <td>peptidase</td>\n",
       "      <td>NaN</td>\n",
       "      <td>NaN</td>\n",
       "      <td>84909</td>\n",
       "      <td>72061</td>\n",
       "      <td>290963</td>\n",
       "    </tr>\n",
       "    <tr>\n",
       "      <th>5</th>\n",
       "      <td>ARGLU1</td>\n",
       "      <td>arginine and glutamate rich 1</td>\n",
       "      <td>NM_176849.3</td>\n",
       "      <td>Other</td>\n",
       "      <td>other</td>\n",
       "      <td>NaN</td>\n",
       "      <td>NaN</td>\n",
       "      <td>55082</td>\n",
       "      <td>234023</td>\n",
       "      <td>290912</td>\n",
       "    </tr>\n",
       "    <tr>\n",
       "      <th>...</th>\n",
       "      <td>...</td>\n",
       "      <td>...</td>\n",
       "      <td>...</td>\n",
       "      <td>...</td>\n",
       "      <td>...</td>\n",
       "      <td>...</td>\n",
       "      <td>...</td>\n",
       "      <td>...</td>\n",
       "      <td>...</td>\n",
       "      <td>...</td>\n",
       "    </tr>\n",
       "    <tr>\n",
       "      <th>72</th>\n",
       "      <td>VEZT</td>\n",
       "      <td>vezatin, adherens junctions transmembrane protein</td>\n",
       "      <td>NM_001304720.1</td>\n",
       "      <td>Plasma Membrane</td>\n",
       "      <td>other</td>\n",
       "      <td>NaN</td>\n",
       "      <td>NaN</td>\n",
       "      <td>55591</td>\n",
       "      <td>215008</td>\n",
       "      <td>299738</td>\n",
       "    </tr>\n",
       "    <tr>\n",
       "      <th>73</th>\n",
       "      <td>VMP1</td>\n",
       "      <td>vacuole membrane protein 1</td>\n",
       "      <td>NM_001356531.3</td>\n",
       "      <td>Cytoplasm</td>\n",
       "      <td>transporter</td>\n",
       "      <td>NaN</td>\n",
       "      <td>NaN</td>\n",
       "      <td>81671</td>\n",
       "      <td>75909</td>\n",
       "      <td>192129</td>\n",
       "    </tr>\n",
       "    <tr>\n",
       "      <th>74</th>\n",
       "      <td>WDFY2</td>\n",
       "      <td>WD repeat and FYVE domain containing 2</td>\n",
       "      <td>XM_006519064.2</td>\n",
       "      <td>Cytoplasm</td>\n",
       "      <td>other</td>\n",
       "      <td>NaN</td>\n",
       "      <td>NaN</td>\n",
       "      <td>115825</td>\n",
       "      <td>268752</td>\n",
       "      <td>305956</td>\n",
       "    </tr>\n",
       "    <tr>\n",
       "      <th>75</th>\n",
       "      <td>ZFTA</td>\n",
       "      <td>zinc finger translocation associated</td>\n",
       "      <td>XM_011247115.3</td>\n",
       "      <td>Nucleus</td>\n",
       "      <td>other</td>\n",
       "      <td>NaN</td>\n",
       "      <td>NaN</td>\n",
       "      <td>65998</td>\n",
       "      <td>108899</td>\n",
       "      <td>499309</td>\n",
       "    </tr>\n",
       "    <tr>\n",
       "      <th>76</th>\n",
       "      <td>ZNF518A</td>\n",
       "      <td>zinc finger protein 518A</td>\n",
       "      <td>XM_011247364.2</td>\n",
       "      <td>Other</td>\n",
       "      <td>other</td>\n",
       "      <td>NaN</td>\n",
       "      <td>NaN</td>\n",
       "      <td>9849</td>\n",
       "      <td>72672</td>\n",
       "      <td>309478</td>\n",
       "    </tr>\n",
       "  </tbody>\n",
       "</table>\n",
       "<p>76 rows × 10 columns</p>\n",
       "</div>"
      ],
      "text/plain": [
       "     Symbol                                   Entrez Gene Name  \\\n",
       "1      ACHE      acetylcholinesterase (Cartwright blood group)   \n",
       "2    AKT1S1                                   AKT1 substrate 1   \n",
       "3     ALG10                ALG10 alpha-1,2-glucosyltransferase   \n",
       "4     AOPEP                        aminopeptidase O (putative)   \n",
       "5    ARGLU1                      arginine and glutamate rich 1   \n",
       "..      ...                                                ...   \n",
       "72     VEZT  vezatin, adherens junctions transmembrane protein   \n",
       "73     VMP1                         vacuole membrane protein 1   \n",
       "74    WDFY2             WD repeat and FYVE domain containing 2   \n",
       "75     ZFTA               zinc finger translocation associated   \n",
       "76  ZNF518A                           zinc finger protein 518A   \n",
       "\n",
       "   RefSeq/Gene Symbol - mouse (Entrez Gene)         Location      Type(s)  \\\n",
       "1                                      Ache  Plasma Membrane       enzyme   \n",
       "2                            NM_001290694.1        Cytoplasm        other   \n",
       "3                            NM_001033441.3        Cytoplasm       enzyme   \n",
       "4                            NM_001289926.1        Cytoplasm    peptidase   \n",
       "5                               NM_176849.3            Other        other   \n",
       "..                                      ...              ...          ...   \n",
       "72                           NM_001304720.1  Plasma Membrane        other   \n",
       "73                           NM_001356531.3        Cytoplasm  transporter   \n",
       "74                           XM_006519064.2        Cytoplasm        other   \n",
       "75                           XM_011247115.3          Nucleus        other   \n",
       "76                           XM_011247364.2            Other        other   \n",
       "\n",
       "   Biomarker Application(s)  \\\n",
       "1                       NaN   \n",
       "2                  efficacy   \n",
       "3                       NaN   \n",
       "4                       NaN   \n",
       "5                       NaN   \n",
       "..                      ...   \n",
       "72                      NaN   \n",
       "73                      NaN   \n",
       "74                      NaN   \n",
       "75                      NaN   \n",
       "76                      NaN   \n",
       "\n",
       "                                              Drug(s)  \\\n",
       "1   2,3 butanedione monoxime,acetylcholinesterase ...   \n",
       "2                                                 NaN   \n",
       "3                                                 NaN   \n",
       "4                                                 NaN   \n",
       "5                                                 NaN   \n",
       "..                                                ...   \n",
       "72                                                NaN   \n",
       "73                                                NaN   \n",
       "74                                                NaN   \n",
       "75                                                NaN   \n",
       "76                                                NaN   \n",
       "\n",
       "   Entrez Gene ID for Human Entrez Gene ID for Mouse Entrez Gene ID for Rat  \n",
       "1                        43                    11423                  83817  \n",
       "2                     84335                    67605                 292887  \n",
       "3                     84920                   380959                 245960  \n",
       "4                     84909                    72061                 290963  \n",
       "5                     55082                   234023                 290912  \n",
       "..                      ...                      ...                    ...  \n",
       "72                    55591                   215008                 299738  \n",
       "73                    81671                    75909                 192129  \n",
       "74                   115825                   268752                 305956  \n",
       "75                    65998                   108899                 499309  \n",
       "76                     9849                    72672                 309478  \n",
       "\n",
       "[76 rows x 10 columns]"
      ]
     },
     "execution_count": 21,
     "metadata": {},
     "output_type": "execute_result"
    }
   ],
   "source": [
    "df1_mouse"
   ]
  },
  {
   "cell_type": "code",
   "execution_count": 22,
   "id": "0602086f",
   "metadata": {},
   "outputs": [],
   "source": [
    "df_human_set=set(df1_human[\"Symbol\"])\n",
    "df_mouse_set=set(df1_mouse[\"Symbol\"])"
   ]
  },
  {
   "cell_type": "code",
   "execution_count": 23,
   "id": "4a87fee3",
   "metadata": {},
   "outputs": [],
   "source": [
    "Hm=df_human_set-df_mouse_set"
   ]
  },
  {
   "cell_type": "code",
   "execution_count": 24,
   "id": "6ec39987",
   "metadata": {},
   "outputs": [],
   "source": [
    "hM=df_mouse_set-df_human_set"
   ]
  },
  {
   "cell_type": "code",
   "execution_count": 25,
   "id": "c8d0ca61",
   "metadata": {},
   "outputs": [],
   "source": [
    "HM=df_human_set.intersection(df_mouse_set)"
   ]
  },
  {
   "cell_type": "code",
   "execution_count": 26,
   "id": "f6fff733",
   "metadata": {},
   "outputs": [
    {
     "data": {
      "text/plain": [
       "{'AOPEP', 'C15ORF48', 'CACNG8', 'CHPF2', 'DGCR8', 'MISP3', 'VMP1'}"
      ]
     },
     "execution_count": 26,
     "metadata": {},
     "output_type": "execute_result"
    }
   ],
   "source": [
    "HM"
   ]
  },
  {
   "cell_type": "code",
   "execution_count": 27,
   "id": "67ba0d68",
   "metadata": {},
   "outputs": [],
   "source": [
    "from matplotlib_venn import venn2"
   ]
  },
  {
   "cell_type": "code",
   "execution_count": 31,
   "id": "4f55c76a",
   "metadata": {},
   "outputs": [
    {
     "data": {
      "image/png": "[encoded data removed]",
      "text/plain": [
       "<Figure size 640x480 with 1 Axes>"
      ]
     },
     "metadata": {},
     "output_type": "display_data"
    }
   ],
   "source": [
    "labels=['Human','Mouse']\n",
    "colors=['pink','orange']\n",
    "venn2(subsets=(len(Hm),len(hM),len(HM)),\n",
    "      set_labels=labels,set_colors=colors)\n",
    "plt.title('Venn Diagram: Human and mouse host genes (protein-coding genes) with exon-derived miRNAs ')\n",
    "plt.savefig(f\"{current_dir}/Venn_exonic/Venn Diagram(protein coding) for exonic between human and mouse.svg\")"
   ]
  },
  {
   "cell_type": "code",
   "execution_count": null,
   "id": "8f299dbe",
   "metadata": {},
   "outputs": [],
   "source": []
  }
 ],
 "metadata": {
  "kernelspec": {
   "display_name": "Python 3 (ipykernel)",
   "language": "python",
   "name": "python3"
  },
  "language_info": {
   "codemirror_mode": {
    "name": "ipython",
    "version": 3
   },
   "file_extension": ".py",
   "mimetype": "text/x-python",
   "name": "python",
   "nbconvert_exporter": "python",
   "pygments_lexer": "ipython3",
   "version": "3.10.9"
  }
 },
 "nbformat": 4,
 "nbformat_minor": 5
}
