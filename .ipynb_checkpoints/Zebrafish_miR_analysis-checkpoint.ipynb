{
 "cells": [
  {
   "cell_type": "markdown",
   "id": "62946e8f-f31a-4535-9cbe-9ad1afdc8f0a",
   "metadata": {},
   "source": [
    "### Zebrafish data ( 1st step of data cleaning: reshape column)"
   ]
  },
  {
   "cell_type": "code",
   "execution_count": 1,
   "id": "c0ed1b23-2341-46ec-84d2-6ae8e69fd34b",
   "metadata": {},
   "outputs": [
    {
     "name": "stdout",
     "output_type": "stream",
     "text": [
      "importing Jupyter notebook from Data.ipynb\n"
     ]
    }
   ],
   "source": [
    "import import_ipynb\n",
    "import os\n",
    "import re\n",
    "import pandas as pd\n",
    "from Data import ZEBRAFISH"
   ]
  },
  {
   "cell_type": "code",
   "execution_count": 2,
   "id": "bb55b885-5ee9-4069-8f7a-3d4d397121b5",
   "metadata": {},
   "outputs": [],
   "source": [
    "current_dir=os.getcwd()"
   ]
  },
  {
   "cell_type": "code",
   "execution_count": 3,
   "id": "3d84ff1f-30fb-4692-8ca9-64542fd1dacd",
   "metadata": {},
   "outputs": [],
   "source": [
    "zfish=ZEBRAFISH(f'{current_dir}/Zebrafish/UCSC_data_Zebrafish/zfish_genes_020424_NCBI.csv')"
   ]
  },
  {
   "cell_type": "code",
   "execution_count": 4,
   "id": "ccf2a8e7-a118-4166-a786-04bcd2a52665",
   "metadata": {},
   "outputs": [],
   "source": [
    "zfish.col_preprocess()"
   ]
  },
  {
   "cell_type": "code",
   "execution_count": 5,
   "id": "ad7f694d-0f30-491c-9e7f-a990014ae171",
   "metadata": {},
   "outputs": [],
   "source": [
    "zfish.drop()"
   ]
  },
  {
   "cell_type": "code",
   "execution_count": 6,
   "id": "310d8018-06b9-43fb-a874-b2fe0fd140bb",
   "metadata": {},
   "outputs": [],
   "source": [
    "zfish.df.rename(columns={'name2':'gene_name'},inplace=True)\n",
    "### Replace the column name"
   ]
  },
  {
   "cell_type": "code",
   "execution_count": 7,
   "id": "0c87298f-9cb9-4686-8a82-8ac205faf66d",
   "metadata": {},
   "outputs": [],
   "source": [
    "zfish_gene_df=zfish.select(['chrom','exonStarts','exonCount',\n",
    "                        'gene_name','name'])"
   ]
  },
  {
   "cell_type": "code",
   "execution_count": 8,
   "id": "78f581e1-a5d6-481e-a869-aeb1124fb433",
   "metadata": {},
   "outputs": [],
   "source": [
    "zfish_gene_df['exonStarts']=zfish_gene_df['exonStarts'].str.replace(r',\\Z','',regex=True)\n",
    "### remove the comma by the end of the column prior to splitting the data"
   ]
  },
  {
   "cell_type": "code",
   "execution_count": 9,
   "id": "da6a28f3-62d3-4397-bfc8-6c24a5cbc613",
   "metadata": {},
   "outputs": [],
   "source": [
    "zfish_gene_df['exonStarts']=zfish_gene_df['exonStarts'].str.split(\",\")"
   ]
  },
  {
   "cell_type": "code",
   "execution_count": 10,
   "id": "963cdfd8-c810-4b67-83e8-780159eee33d",
   "metadata": {},
   "outputs": [],
   "source": [
    "zfish_gene_df=zfish_gene_df.explode('exonStarts')"
   ]
  },
  {
   "cell_type": "code",
   "execution_count": 11,
   "id": "1b63e26f-0fa1-4bc0-aec8-32c662d023be",
   "metadata": {},
   "outputs": [],
   "source": [
    "zfish_gene_df=zfish_gene_df.reset_index(drop=True)"
   ]
  },
  {
   "cell_type": "code",
   "execution_count": 12,
   "id": "b7175789-ec70-4da5-b903-e4ee8460f552",
   "metadata": {},
   "outputs": [],
   "source": [
    "zfish_gene_df_2=zfish.select(['exonEnds','exonCount','cdsStart','cdsEnd','strand','gene_name','name'])"
   ]
  },
  {
   "cell_type": "code",
   "execution_count": 13,
   "id": "87d74f7c-71e6-42e4-82cf-af5eeb30bf88",
   "metadata": {},
   "outputs": [],
   "source": [
    "zfish_gene_df_2['exonEnds']=zfish_gene_df_2['exonEnds'].str.replace(r',\\Z','',regex=True)\n",
    "### remove the comma at the end of column"
   ]
  },
  {
   "cell_type": "code",
   "execution_count": 14,
   "id": "be16e27a-269b-4bfa-ad88-44b27c794bbc",
   "metadata": {},
   "outputs": [],
   "source": [
    "zfish_gene_df_2['exonEnds']=zfish_gene_df_2['exonEnds'].str.split(\",\")"
   ]
  },
  {
   "cell_type": "code",
   "execution_count": 15,
   "id": "95f0da8f-4f7b-441f-8be0-229b885fed84",
   "metadata": {},
   "outputs": [],
   "source": [
    "zfish_gene_df_2=zfish_gene_df_2.explode('exonEnds')"
   ]
  },
  {
   "cell_type": "code",
   "execution_count": 16,
   "id": "82fb4d0d-c89b-49d4-ad54-467b727aefd4",
   "metadata": {},
   "outputs": [
    {
     "data": {
      "text/html": [
       "<div>\n",
       "<style scoped>\n",
       "    .dataframe tbody tr th:only-of-type {\n",
       "        vertical-align: middle;\n",
       "    }\n",
       "\n",
       "    .dataframe tbody tr th {\n",
       "        vertical-align: top;\n",
       "    }\n",
       "\n",
       "    .dataframe thead th {\n",
       "        text-align: right;\n",
       "    }\n",
       "</style>\n",
       "<table border=\"1\" class=\"dataframe\">\n",
       "  <thead>\n",
       "    <tr style=\"text-align: right;\">\n",
       "      <th></th>\n",
       "      <th>exonEnds</th>\n",
       "      <th>exonCount</th>\n",
       "      <th>cdsStart</th>\n",
       "      <th>cdsEnd</th>\n",
       "      <th>strand</th>\n",
       "      <th>gene_name</th>\n",
       "      <th>name</th>\n",
       "    </tr>\n",
       "  </thead>\n",
       "  <tbody>\n",
       "    <tr>\n",
       "      <th>0</th>\n",
       "      <td>8304996</td>\n",
       "      <td>33</td>\n",
       "      <td>8304903</td>\n",
       "      <td>8404005</td>\n",
       "      <td>+</td>\n",
       "      <td>cacna1hb</td>\n",
       "      <td>XM_021475941.1</td>\n",
       "    </tr>\n",
       "    <tr>\n",
       "      <th>1</th>\n",
       "      <td>8309788</td>\n",
       "      <td>33</td>\n",
       "      <td>8304903</td>\n",
       "      <td>8404005</td>\n",
       "      <td>+</td>\n",
       "      <td>cacna1hb</td>\n",
       "      <td>XM_021475941.1</td>\n",
       "    </tr>\n",
       "    <tr>\n",
       "      <th>2</th>\n",
       "      <td>8312259</td>\n",
       "      <td>33</td>\n",
       "      <td>8304903</td>\n",
       "      <td>8404005</td>\n",
       "      <td>+</td>\n",
       "      <td>cacna1hb</td>\n",
       "      <td>XM_021475941.1</td>\n",
       "    </tr>\n",
       "    <tr>\n",
       "      <th>3</th>\n",
       "      <td>8314985</td>\n",
       "      <td>33</td>\n",
       "      <td>8304903</td>\n",
       "      <td>8404005</td>\n",
       "      <td>+</td>\n",
       "      <td>cacna1hb</td>\n",
       "      <td>XM_021475941.1</td>\n",
       "    </tr>\n",
       "    <tr>\n",
       "      <th>4</th>\n",
       "      <td>8326067</td>\n",
       "      <td>33</td>\n",
       "      <td>8304903</td>\n",
       "      <td>8404005</td>\n",
       "      <td>+</td>\n",
       "      <td>cacna1hb</td>\n",
       "      <td>XM_021475941.1</td>\n",
       "    </tr>\n",
       "    <tr>\n",
       "      <th>5</th>\n",
       "      <td>8334154</td>\n",
       "      <td>33</td>\n",
       "      <td>8304903</td>\n",
       "      <td>8404005</td>\n",
       "      <td>+</td>\n",
       "      <td>cacna1hb</td>\n",
       "      <td>XM_021475941.1</td>\n",
       "    </tr>\n",
       "    <tr>\n",
       "      <th>6</th>\n",
       "      <td>8336816</td>\n",
       "      <td>33</td>\n",
       "      <td>8304903</td>\n",
       "      <td>8404005</td>\n",
       "      <td>+</td>\n",
       "      <td>cacna1hb</td>\n",
       "      <td>XM_021475941.1</td>\n",
       "    </tr>\n",
       "    <tr>\n",
       "      <th>7</th>\n",
       "      <td>8341443</td>\n",
       "      <td>33</td>\n",
       "      <td>8304903</td>\n",
       "      <td>8404005</td>\n",
       "      <td>+</td>\n",
       "      <td>cacna1hb</td>\n",
       "      <td>XM_021475941.1</td>\n",
       "    </tr>\n",
       "    <tr>\n",
       "      <th>8</th>\n",
       "      <td>8346919</td>\n",
       "      <td>33</td>\n",
       "      <td>8304903</td>\n",
       "      <td>8404005</td>\n",
       "      <td>+</td>\n",
       "      <td>cacna1hb</td>\n",
       "      <td>XM_021475941.1</td>\n",
       "    </tr>\n",
       "    <tr>\n",
       "      <th>9</th>\n",
       "      <td>8350439</td>\n",
       "      <td>33</td>\n",
       "      <td>8304903</td>\n",
       "      <td>8404005</td>\n",
       "      <td>+</td>\n",
       "      <td>cacna1hb</td>\n",
       "      <td>XM_021475941.1</td>\n",
       "    </tr>\n",
       "    <tr>\n",
       "      <th>10</th>\n",
       "      <td>8352893</td>\n",
       "      <td>33</td>\n",
       "      <td>8304903</td>\n",
       "      <td>8404005</td>\n",
       "      <td>+</td>\n",
       "      <td>cacna1hb</td>\n",
       "      <td>XM_021475941.1</td>\n",
       "    </tr>\n",
       "    <tr>\n",
       "      <th>11</th>\n",
       "      <td>8358933</td>\n",
       "      <td>33</td>\n",
       "      <td>8304903</td>\n",
       "      <td>8404005</td>\n",
       "      <td>+</td>\n",
       "      <td>cacna1hb</td>\n",
       "      <td>XM_021475941.1</td>\n",
       "    </tr>\n",
       "    <tr>\n",
       "      <th>12</th>\n",
       "      <td>8364526</td>\n",
       "      <td>33</td>\n",
       "      <td>8304903</td>\n",
       "      <td>8404005</td>\n",
       "      <td>+</td>\n",
       "      <td>cacna1hb</td>\n",
       "      <td>XM_021475941.1</td>\n",
       "    </tr>\n",
       "    <tr>\n",
       "      <th>13</th>\n",
       "      <td>8364794</td>\n",
       "      <td>33</td>\n",
       "      <td>8304903</td>\n",
       "      <td>8404005</td>\n",
       "      <td>+</td>\n",
       "      <td>cacna1hb</td>\n",
       "      <td>XM_021475941.1</td>\n",
       "    </tr>\n",
       "    <tr>\n",
       "      <th>14</th>\n",
       "      <td>8367523</td>\n",
       "      <td>33</td>\n",
       "      <td>8304903</td>\n",
       "      <td>8404005</td>\n",
       "      <td>+</td>\n",
       "      <td>cacna1hb</td>\n",
       "      <td>XM_021475941.1</td>\n",
       "    </tr>\n",
       "    <tr>\n",
       "      <th>15</th>\n",
       "      <td>8369402</td>\n",
       "      <td>33</td>\n",
       "      <td>8304903</td>\n",
       "      <td>8404005</td>\n",
       "      <td>+</td>\n",
       "      <td>cacna1hb</td>\n",
       "      <td>XM_021475941.1</td>\n",
       "    </tr>\n",
       "    <tr>\n",
       "      <th>16</th>\n",
       "      <td>8369621</td>\n",
       "      <td>33</td>\n",
       "      <td>8304903</td>\n",
       "      <td>8404005</td>\n",
       "      <td>+</td>\n",
       "      <td>cacna1hb</td>\n",
       "      <td>XM_021475941.1</td>\n",
       "    </tr>\n",
       "    <tr>\n",
       "      <th>17</th>\n",
       "      <td>8369924</td>\n",
       "      <td>33</td>\n",
       "      <td>8304903</td>\n",
       "      <td>8404005</td>\n",
       "      <td>+</td>\n",
       "      <td>cacna1hb</td>\n",
       "      <td>XM_021475941.1</td>\n",
       "    </tr>\n",
       "    <tr>\n",
       "      <th>18</th>\n",
       "      <td>8373414</td>\n",
       "      <td>33</td>\n",
       "      <td>8304903</td>\n",
       "      <td>8404005</td>\n",
       "      <td>+</td>\n",
       "      <td>cacna1hb</td>\n",
       "      <td>XM_021475941.1</td>\n",
       "    </tr>\n",
       "    <tr>\n",
       "      <th>19</th>\n",
       "      <td>8376183</td>\n",
       "      <td>33</td>\n",
       "      <td>8304903</td>\n",
       "      <td>8404005</td>\n",
       "      <td>+</td>\n",
       "      <td>cacna1hb</td>\n",
       "      <td>XM_021475941.1</td>\n",
       "    </tr>\n",
       "    <tr>\n",
       "      <th>20</th>\n",
       "      <td>8376448</td>\n",
       "      <td>33</td>\n",
       "      <td>8304903</td>\n",
       "      <td>8404005</td>\n",
       "      <td>+</td>\n",
       "      <td>cacna1hb</td>\n",
       "      <td>XM_021475941.1</td>\n",
       "    </tr>\n",
       "    <tr>\n",
       "      <th>21</th>\n",
       "      <td>8379025</td>\n",
       "      <td>33</td>\n",
       "      <td>8304903</td>\n",
       "      <td>8404005</td>\n",
       "      <td>+</td>\n",
       "      <td>cacna1hb</td>\n",
       "      <td>XM_021475941.1</td>\n",
       "    </tr>\n",
       "    <tr>\n",
       "      <th>22</th>\n",
       "      <td>8383376</td>\n",
       "      <td>33</td>\n",
       "      <td>8304903</td>\n",
       "      <td>8404005</td>\n",
       "      <td>+</td>\n",
       "      <td>cacna1hb</td>\n",
       "      <td>XM_021475941.1</td>\n",
       "    </tr>\n",
       "    <tr>\n",
       "      <th>23</th>\n",
       "      <td>8387675</td>\n",
       "      <td>33</td>\n",
       "      <td>8304903</td>\n",
       "      <td>8404005</td>\n",
       "      <td>+</td>\n",
       "      <td>cacna1hb</td>\n",
       "      <td>XM_021475941.1</td>\n",
       "    </tr>\n",
       "    <tr>\n",
       "      <th>24</th>\n",
       "      <td>8389117</td>\n",
       "      <td>33</td>\n",
       "      <td>8304903</td>\n",
       "      <td>8404005</td>\n",
       "      <td>+</td>\n",
       "      <td>cacna1hb</td>\n",
       "      <td>XM_021475941.1</td>\n",
       "    </tr>\n",
       "    <tr>\n",
       "      <th>25</th>\n",
       "      <td>8392250</td>\n",
       "      <td>33</td>\n",
       "      <td>8304903</td>\n",
       "      <td>8404005</td>\n",
       "      <td>+</td>\n",
       "      <td>cacna1hb</td>\n",
       "      <td>XM_021475941.1</td>\n",
       "    </tr>\n",
       "    <tr>\n",
       "      <th>26</th>\n",
       "      <td>8393186</td>\n",
       "      <td>33</td>\n",
       "      <td>8304903</td>\n",
       "      <td>8404005</td>\n",
       "      <td>+</td>\n",
       "      <td>cacna1hb</td>\n",
       "      <td>XM_021475941.1</td>\n",
       "    </tr>\n",
       "    <tr>\n",
       "      <th>27</th>\n",
       "      <td>8394582</td>\n",
       "      <td>33</td>\n",
       "      <td>8304903</td>\n",
       "      <td>8404005</td>\n",
       "      <td>+</td>\n",
       "      <td>cacna1hb</td>\n",
       "      <td>XM_021475941.1</td>\n",
       "    </tr>\n",
       "    <tr>\n",
       "      <th>28</th>\n",
       "      <td>8396167</td>\n",
       "      <td>33</td>\n",
       "      <td>8304903</td>\n",
       "      <td>8404005</td>\n",
       "      <td>+</td>\n",
       "      <td>cacna1hb</td>\n",
       "      <td>XM_021475941.1</td>\n",
       "    </tr>\n",
       "    <tr>\n",
       "      <th>29</th>\n",
       "      <td>8398240</td>\n",
       "      <td>33</td>\n",
       "      <td>8304903</td>\n",
       "      <td>8404005</td>\n",
       "      <td>+</td>\n",
       "      <td>cacna1hb</td>\n",
       "      <td>XM_021475941.1</td>\n",
       "    </tr>\n",
       "    <tr>\n",
       "      <th>30</th>\n",
       "      <td>8401257</td>\n",
       "      <td>33</td>\n",
       "      <td>8304903</td>\n",
       "      <td>8404005</td>\n",
       "      <td>+</td>\n",
       "      <td>cacna1hb</td>\n",
       "      <td>XM_021475941.1</td>\n",
       "    </tr>\n",
       "    <tr>\n",
       "      <th>31</th>\n",
       "      <td>8401499</td>\n",
       "      <td>33</td>\n",
       "      <td>8304903</td>\n",
       "      <td>8404005</td>\n",
       "      <td>+</td>\n",
       "      <td>cacna1hb</td>\n",
       "      <td>XM_021475941.1</td>\n",
       "    </tr>\n",
       "    <tr>\n",
       "      <th>32</th>\n",
       "      <td>8404338</td>\n",
       "      <td>33</td>\n",
       "      <td>8304903</td>\n",
       "      <td>8404005</td>\n",
       "      <td>+</td>\n",
       "      <td>cacna1hb</td>\n",
       "      <td>XM_021475941.1</td>\n",
       "    </tr>\n",
       "    <tr>\n",
       "      <th>33</th>\n",
       "      <td>25154660</td>\n",
       "      <td>10</td>\n",
       "      <td>25165276</td>\n",
       "      <td>25176950</td>\n",
       "      <td>-</td>\n",
       "      <td>tmem154</td>\n",
       "      <td>XM_005170905.3</td>\n",
       "    </tr>\n",
       "    <tr>\n",
       "      <th>34</th>\n",
       "      <td>25165311</td>\n",
       "      <td>10</td>\n",
       "      <td>25165276</td>\n",
       "      <td>25176950</td>\n",
       "      <td>-</td>\n",
       "      <td>tmem154</td>\n",
       "      <td>XM_005170905.3</td>\n",
       "    </tr>\n",
       "    <tr>\n",
       "      <th>35</th>\n",
       "      <td>25167769</td>\n",
       "      <td>10</td>\n",
       "      <td>25165276</td>\n",
       "      <td>25176950</td>\n",
       "      <td>-</td>\n",
       "      <td>tmem154</td>\n",
       "      <td>XM_005170905.3</td>\n",
       "    </tr>\n",
       "    <tr>\n",
       "      <th>36</th>\n",
       "      <td>25170024</td>\n",
       "      <td>10</td>\n",
       "      <td>25165276</td>\n",
       "      <td>25176950</td>\n",
       "      <td>-</td>\n",
       "      <td>tmem154</td>\n",
       "      <td>XM_005170905.3</td>\n",
       "    </tr>\n",
       "    <tr>\n",
       "      <th>37</th>\n",
       "      <td>25174029</td>\n",
       "      <td>10</td>\n",
       "      <td>25165276</td>\n",
       "      <td>25176950</td>\n",
       "      <td>-</td>\n",
       "      <td>tmem154</td>\n",
       "      <td>XM_005170905.3</td>\n",
       "    </tr>\n",
       "    <tr>\n",
       "      <th>38</th>\n",
       "      <td>25174174</td>\n",
       "      <td>10</td>\n",
       "      <td>25165276</td>\n",
       "      <td>25176950</td>\n",
       "      <td>-</td>\n",
       "      <td>tmem154</td>\n",
       "      <td>XM_005170905.3</td>\n",
       "    </tr>\n",
       "    <tr>\n",
       "      <th>39</th>\n",
       "      <td>25174958</td>\n",
       "      <td>10</td>\n",
       "      <td>25165276</td>\n",
       "      <td>25176950</td>\n",
       "      <td>-</td>\n",
       "      <td>tmem154</td>\n",
       "      <td>XM_005170905.3</td>\n",
       "    </tr>\n",
       "    <tr>\n",
       "      <th>40</th>\n",
       "      <td>25175177</td>\n",
       "      <td>10</td>\n",
       "      <td>25165276</td>\n",
       "      <td>25176950</td>\n",
       "      <td>-</td>\n",
       "      <td>tmem154</td>\n",
       "      <td>XM_005170905.3</td>\n",
       "    </tr>\n",
       "    <tr>\n",
       "      <th>41</th>\n",
       "      <td>25177225</td>\n",
       "      <td>10</td>\n",
       "      <td>25165276</td>\n",
       "      <td>25176950</td>\n",
       "      <td>-</td>\n",
       "      <td>tmem154</td>\n",
       "      <td>XM_005170905.3</td>\n",
       "    </tr>\n",
       "    <tr>\n",
       "      <th>42</th>\n",
       "      <td>25184205</td>\n",
       "      <td>10</td>\n",
       "      <td>25165276</td>\n",
       "      <td>25176950</td>\n",
       "      <td>-</td>\n",
       "      <td>tmem154</td>\n",
       "      <td>XM_005170905.3</td>\n",
       "    </tr>\n",
       "    <tr>\n",
       "      <th>43</th>\n",
       "      <td>25154660</td>\n",
       "      <td>10</td>\n",
       "      <td>25165276</td>\n",
       "      <td>25176950</td>\n",
       "      <td>-</td>\n",
       "      <td>tmem154</td>\n",
       "      <td>XM_009307741.2</td>\n",
       "    </tr>\n",
       "    <tr>\n",
       "      <th>44</th>\n",
       "      <td>25165311</td>\n",
       "      <td>10</td>\n",
       "      <td>25165276</td>\n",
       "      <td>25176950</td>\n",
       "      <td>-</td>\n",
       "      <td>tmem154</td>\n",
       "      <td>XM_009307741.2</td>\n",
       "    </tr>\n",
       "    <tr>\n",
       "      <th>45</th>\n",
       "      <td>25167769</td>\n",
       "      <td>10</td>\n",
       "      <td>25165276</td>\n",
       "      <td>25176950</td>\n",
       "      <td>-</td>\n",
       "      <td>tmem154</td>\n",
       "      <td>XM_009307741.2</td>\n",
       "    </tr>\n",
       "    <tr>\n",
       "      <th>46</th>\n",
       "      <td>25170024</td>\n",
       "      <td>10</td>\n",
       "      <td>25165276</td>\n",
       "      <td>25176950</td>\n",
       "      <td>-</td>\n",
       "      <td>tmem154</td>\n",
       "      <td>XM_009307741.2</td>\n",
       "    </tr>\n",
       "    <tr>\n",
       "      <th>47</th>\n",
       "      <td>25174029</td>\n",
       "      <td>10</td>\n",
       "      <td>25165276</td>\n",
       "      <td>25176950</td>\n",
       "      <td>-</td>\n",
       "      <td>tmem154</td>\n",
       "      <td>XM_009307741.2</td>\n",
       "    </tr>\n",
       "    <tr>\n",
       "      <th>48</th>\n",
       "      <td>25174174</td>\n",
       "      <td>10</td>\n",
       "      <td>25165276</td>\n",
       "      <td>25176950</td>\n",
       "      <td>-</td>\n",
       "      <td>tmem154</td>\n",
       "      <td>XM_009307741.2</td>\n",
       "    </tr>\n",
       "    <tr>\n",
       "      <th>49</th>\n",
       "      <td>25174958</td>\n",
       "      <td>10</td>\n",
       "      <td>25165276</td>\n",
       "      <td>25176950</td>\n",
       "      <td>-</td>\n",
       "      <td>tmem154</td>\n",
       "      <td>XM_009307741.2</td>\n",
       "    </tr>\n",
       "  </tbody>\n",
       "</table>\n",
       "</div>"
      ],
      "text/plain": [
       "    exonEnds  exonCount  cdsStart    cdsEnd strand gene_name            name\n",
       "0    8304996         33   8304903   8404005      +  cacna1hb  XM_021475941.1\n",
       "1    8309788         33   8304903   8404005      +  cacna1hb  XM_021475941.1\n",
       "2    8312259         33   8304903   8404005      +  cacna1hb  XM_021475941.1\n",
       "3    8314985         33   8304903   8404005      +  cacna1hb  XM_021475941.1\n",
       "4    8326067         33   8304903   8404005      +  cacna1hb  XM_021475941.1\n",
       "5    8334154         33   8304903   8404005      +  cacna1hb  XM_021475941.1\n",
       "6    8336816         33   8304903   8404005      +  cacna1hb  XM_021475941.1\n",
       "7    8341443         33   8304903   8404005      +  cacna1hb  XM_021475941.1\n",
       "8    8346919         33   8304903   8404005      +  cacna1hb  XM_021475941.1\n",
       "9    8350439         33   8304903   8404005      +  cacna1hb  XM_021475941.1\n",
       "10   8352893         33   8304903   8404005      +  cacna1hb  XM_021475941.1\n",
       "11   8358933         33   8304903   8404005      +  cacna1hb  XM_021475941.1\n",
       "12   8364526         33   8304903   8404005      +  cacna1hb  XM_021475941.1\n",
       "13   8364794         33   8304903   8404005      +  cacna1hb  XM_021475941.1\n",
       "14   8367523         33   8304903   8404005      +  cacna1hb  XM_021475941.1\n",
       "15   8369402         33   8304903   8404005      +  cacna1hb  XM_021475941.1\n",
       "16   8369621         33   8304903   8404005      +  cacna1hb  XM_021475941.1\n",
       "17   8369924         33   8304903   8404005      +  cacna1hb  XM_021475941.1\n",
       "18   8373414         33   8304903   8404005      +  cacna1hb  XM_021475941.1\n",
       "19   8376183         33   8304903   8404005      +  cacna1hb  XM_021475941.1\n",
       "20   8376448         33   8304903   8404005      +  cacna1hb  XM_021475941.1\n",
       "21   8379025         33   8304903   8404005      +  cacna1hb  XM_021475941.1\n",
       "22   8383376         33   8304903   8404005      +  cacna1hb  XM_021475941.1\n",
       "23   8387675         33   8304903   8404005      +  cacna1hb  XM_021475941.1\n",
       "24   8389117         33   8304903   8404005      +  cacna1hb  XM_021475941.1\n",
       "25   8392250         33   8304903   8404005      +  cacna1hb  XM_021475941.1\n",
       "26   8393186         33   8304903   8404005      +  cacna1hb  XM_021475941.1\n",
       "27   8394582         33   8304903   8404005      +  cacna1hb  XM_021475941.1\n",
       "28   8396167         33   8304903   8404005      +  cacna1hb  XM_021475941.1\n",
       "29   8398240         33   8304903   8404005      +  cacna1hb  XM_021475941.1\n",
       "30   8401257         33   8304903   8404005      +  cacna1hb  XM_021475941.1\n",
       "31   8401499         33   8304903   8404005      +  cacna1hb  XM_021475941.1\n",
       "32   8404338         33   8304903   8404005      +  cacna1hb  XM_021475941.1\n",
       "33  25154660         10  25165276  25176950      -   tmem154  XM_005170905.3\n",
       "34  25165311         10  25165276  25176950      -   tmem154  XM_005170905.3\n",
       "35  25167769         10  25165276  25176950      -   tmem154  XM_005170905.3\n",
       "36  25170024         10  25165276  25176950      -   tmem154  XM_005170905.3\n",
       "37  25174029         10  25165276  25176950      -   tmem154  XM_005170905.3\n",
       "38  25174174         10  25165276  25176950      -   tmem154  XM_005170905.3\n",
       "39  25174958         10  25165276  25176950      -   tmem154  XM_005170905.3\n",
       "40  25175177         10  25165276  25176950      -   tmem154  XM_005170905.3\n",
       "41  25177225         10  25165276  25176950      -   tmem154  XM_005170905.3\n",
       "42  25184205         10  25165276  25176950      -   tmem154  XM_005170905.3\n",
       "43  25154660         10  25165276  25176950      -   tmem154  XM_009307741.2\n",
       "44  25165311         10  25165276  25176950      -   tmem154  XM_009307741.2\n",
       "45  25167769         10  25165276  25176950      -   tmem154  XM_009307741.2\n",
       "46  25170024         10  25165276  25176950      -   tmem154  XM_009307741.2\n",
       "47  25174029         10  25165276  25176950      -   tmem154  XM_009307741.2\n",
       "48  25174174         10  25165276  25176950      -   tmem154  XM_009307741.2\n",
       "49  25174958         10  25165276  25176950      -   tmem154  XM_009307741.2"
      ]
     },
     "execution_count": 16,
     "metadata": {},
     "output_type": "execute_result"
    }
   ],
   "source": [
    "zfish_gene_df_2.head(50).reset_index(drop=True)"
   ]
  },
  {
   "cell_type": "code",
   "execution_count": 17,
   "id": "4570c908-7a13-4dd0-a6b5-a1b29d951f05",
   "metadata": {},
   "outputs": [],
   "source": [
    "zfish_gene_df_2.rename(columns={'gene_name':'Name','exonCount':'exon_count','name':'ID'},inplace=True)"
   ]
  },
  {
   "cell_type": "code",
   "execution_count": 18,
   "id": "5923c788-7397-4e3d-b368-9c2843ef5098",
   "metadata": {},
   "outputs": [],
   "source": [
    "zfish_gene_df_2 = zfish_gene_df_2.reset_index(drop=True)"
   ]
  },
  {
   "cell_type": "markdown",
   "id": "0969aa08-4114-418c-ace6-7b4a46989dc5",
   "metadata": {},
   "source": [
    "### Concatanate the dataframe (Reshape the dataframe) and remove all miRNA dataset"
   ]
  },
  {
   "cell_type": "code",
   "execution_count": 19,
   "id": "18ca244f-c6c7-4ee9-9777-c5e1c2ca5134",
   "metadata": {},
   "outputs": [],
   "source": [
    "finalized_zfish_gene_df=pd.concat([zfish_gene_df,zfish_gene_df_2], axis=1)"
   ]
  },
  {
   "cell_type": "code",
   "execution_count": 20,
   "id": "a2515c0b-c1fe-43a5-99e6-c96e0d746823",
   "metadata": {},
   "outputs": [
    {
     "data": {
      "text/plain": [
       "(782734, 12)"
      ]
     },
     "execution_count": 20,
     "metadata": {},
     "output_type": "execute_result"
    }
   ],
   "source": [
    "finalized_zfish_gene_df.shape"
   ]
  },
  {
   "cell_type": "code",
   "execution_count": 21,
   "id": "96ad7a76-a368-42b0-81bf-89be366a296d",
   "metadata": {},
   "outputs": [],
   "source": [
    "finalized_zfish_gene_df.drop(columns=['exon_count','exonCount','gene_name','name'],inplace=True)"
   ]
  },
  {
   "cell_type": "code",
   "execution_count": 22,
   "id": "620a19f5-1a27-4364-ab49-e9369218aa83",
   "metadata": {},
   "outputs": [
    {
     "data": {
      "text/plain": [
       "Index(['chrom', 'exonStarts', 'exonEnds', 'cdsStart', 'cdsEnd', 'strand',\n",
       "       'Name', 'ID'],\n",
       "      dtype='object')"
      ]
     },
     "execution_count": 22,
     "metadata": {},
     "output_type": "execute_result"
    }
   ],
   "source": [
    "finalized_zfish_gene_df.columns"
   ]
  },
  {
   "cell_type": "code",
   "execution_count": 23,
   "id": "46e9c173-978b-4292-8b4c-c65f59db82a3",
   "metadata": {},
   "outputs": [],
   "source": [
    "####This regex only extract microRNA but not lncRNA.\n",
    "zfish_p=r'^mir\\d+(-\\d+)*$|^mir\\d+(-\\d+)*$|^mir\\d+(-\\d+)?[a-z]?(-\\d+)?[a-z]?$|^mir\\d+[a-z]([a-z]|\\d)*$(?<!hg)$|^mirlet\\d[a-z]-*\\d*$(?<!hg)$'"
   ]
  },
  {
   "cell_type": "code",
   "execution_count": 24,
   "id": "10a25056-8680-4f28-8d66-37f6d88fe2c5",
   "metadata": {},
   "outputs": [
    {
     "name": "stderr",
     "output_type": "stream",
     "text": [
      "/var/folders/hz/4x5ldhv54fscy_nw6y5dbf2m0000gn/T/ipykernel_3642/1760707106.py:1: UserWarning: This pattern is interpreted as a regular expression, and has match groups. To actually get the groups, use str.extract.\n",
      "  zfish_all_genes_no_miR_df=finalized_zfish_gene_df.loc[~finalized_zfish_gene_df['Name'].str.contains(zfish_p,flags=re.I,regex=True)]\n"
     ]
    }
   ],
   "source": [
    "zfish_all_genes_no_miR_df=finalized_zfish_gene_df.loc[~finalized_zfish_gene_df['Name'].str.contains(zfish_p,flags=re.I,regex=True)]\n",
    "####Remove all miR from the data. So this file has all zebrafish genes except for miRNAs"
   ]
  },
  {
   "cell_type": "code",
   "execution_count": 25,
   "id": "9b424ffd-0db9-4205-92f9-9083101ce48f",
   "metadata": {},
   "outputs": [
    {
     "data": {
      "text/plain": [
       "(782338, 8)"
      ]
     },
     "execution_count": 25,
     "metadata": {},
     "output_type": "execute_result"
    }
   ],
   "source": [
    "zfish_all_genes_no_miR_df.shape"
   ]
  },
  {
   "cell_type": "code",
   "execution_count": 26,
   "id": "ee94c300-e55e-40cf-a4d0-d6be9214144e",
   "metadata": {},
   "outputs": [
    {
     "data": {
      "text/plain": [
       "Index(['chrom', 'exonStarts', 'exonEnds', 'cdsStart', 'cdsEnd', 'strand',\n",
       "       'Name', 'ID'],\n",
       "      dtype='object')"
      ]
     },
     "execution_count": 26,
     "metadata": {},
     "output_type": "execute_result"
    }
   ],
   "source": [
    "zfish_all_genes_no_miR_df.columns"
   ]
  },
  {
   "cell_type": "code",
   "execution_count": 27,
   "id": "126c297c-ece7-4708-ac76-e7859b8de82e",
   "metadata": {},
   "outputs": [],
   "source": [
    "### save the file\n",
    "zfish_all_genes_no_miR_df.to_csv(f'{current_dir}/Zebrafish/zfish_all_genes_no_miR_df_NCBI.tsv',sep='\\t',index=False)"
   ]
  },
  {
   "cell_type": "markdown",
   "id": "480c2438-d1ab-4a88-ac3d-9c10593e7512",
   "metadata": {},
   "source": [
    "### 4. Extract miR data (4th step)"
   ]
  },
  {
   "cell_type": "code",
   "execution_count": 28,
   "id": "000a67a8-1019-4abe-91bc-ddd2be952240",
   "metadata": {},
   "outputs": [
    {
     "name": "stderr",
     "output_type": "stream",
     "text": [
      "/var/folders/hz/4x5ldhv54fscy_nw6y5dbf2m0000gn/T/ipykernel_3642/775364467.py:1: UserWarning: This pattern is interpreted as a regular expression, and has match groups. To actually get the groups, use str.extract.\n",
      "  zfish_df_miR=finalized_zfish_gene_df.loc[finalized_zfish_gene_df['Name'].str.contains(zfish_p,flags=re.I,regex=True)]\n"
     ]
    }
   ],
   "source": [
    "zfish_df_miR=finalized_zfish_gene_df.loc[finalized_zfish_gene_df['Name'].str.contains(zfish_p,flags=re.I,regex=True)]"
   ]
  },
  {
   "cell_type": "code",
   "execution_count": 29,
   "id": "ae1a38ac-0b06-4174-8640-4639f5f39c1c",
   "metadata": {},
   "outputs": [
    {
     "data": {
      "text/plain": [
       "(396, 8)"
      ]
     },
     "execution_count": 29,
     "metadata": {},
     "output_type": "execute_result"
    }
   ],
   "source": [
    "zfish_df_miR.shape ### this dataset do not have lncRNA (e.g. miR-210HG). It has only miRNAs"
   ]
  },
  {
   "cell_type": "code",
   "execution_count": 30,
   "id": "01e0c68a-e6d3-439f-8dc1-d8c73294ef04",
   "metadata": {},
   "outputs": [
    {
     "data": {
      "text/html": [
       "<div>\n",
       "<style scoped>\n",
       "    .dataframe tbody tr th:only-of-type {\n",
       "        vertical-align: middle;\n",
       "    }\n",
       "\n",
       "    .dataframe tbody tr th {\n",
       "        vertical-align: top;\n",
       "    }\n",
       "\n",
       "    .dataframe thead th {\n",
       "        text-align: right;\n",
       "    }\n",
       "</style>\n",
       "<table border=\"1\" class=\"dataframe\">\n",
       "  <thead>\n",
       "    <tr style=\"text-align: right;\">\n",
       "      <th></th>\n",
       "      <th>chrom</th>\n",
       "      <th>exonStarts</th>\n",
       "      <th>exonEnds</th>\n",
       "      <th>cdsStart</th>\n",
       "      <th>cdsEnd</th>\n",
       "      <th>strand</th>\n",
       "      <th>Name</th>\n",
       "      <th>ID</th>\n",
       "    </tr>\n",
       "  </thead>\n",
       "  <tbody>\n",
       "    <tr>\n",
       "      <th>12794</th>\n",
       "      <td>chr1</td>\n",
       "      <td>576443</td>\n",
       "      <td>576521</td>\n",
       "      <td>576521</td>\n",
       "      <td>576521</td>\n",
       "      <td>+</td>\n",
       "      <td>mir155</td>\n",
       "      <td>NR_030099.1</td>\n",
       "    </tr>\n",
       "    <tr>\n",
       "      <th>12923</th>\n",
       "      <td>chr1</td>\n",
       "      <td>1575482</td>\n",
       "      <td>1575563</td>\n",
       "      <td>1575563</td>\n",
       "      <td>1575563</td>\n",
       "      <td>+</td>\n",
       "      <td>mir459</td>\n",
       "      <td>NR_039328.1</td>\n",
       "    </tr>\n",
       "    <tr>\n",
       "      <th>13438</th>\n",
       "      <td>chr1</td>\n",
       "      <td>3297366</td>\n",
       "      <td>3297451</td>\n",
       "      <td>3297451</td>\n",
       "      <td>3297451</td>\n",
       "      <td>-</td>\n",
       "      <td>mir92a-1</td>\n",
       "      <td>NR_030045.1</td>\n",
       "    </tr>\n",
       "    <tr>\n",
       "      <th>13439</th>\n",
       "      <td>chr1</td>\n",
       "      <td>3297483</td>\n",
       "      <td>3297570</td>\n",
       "      <td>3297570</td>\n",
       "      <td>3297570</td>\n",
       "      <td>-</td>\n",
       "      <td>mir19b</td>\n",
       "      <td>NR_030016.1</td>\n",
       "    </tr>\n",
       "    <tr>\n",
       "      <th>13440</th>\n",
       "      <td>chr1</td>\n",
       "      <td>3297602</td>\n",
       "      <td>3297755</td>\n",
       "      <td>3297755</td>\n",
       "      <td>3297755</td>\n",
       "      <td>-</td>\n",
       "      <td>mir20a</td>\n",
       "      <td>NR_030019.1</td>\n",
       "    </tr>\n",
       "  </tbody>\n",
       "</table>\n",
       "</div>"
      ],
      "text/plain": [
       "      chrom exonStarts exonEnds  cdsStart   cdsEnd strand      Name  \\\n",
       "12794  chr1     576443   576521    576521   576521      +    mir155   \n",
       "12923  chr1    1575482  1575563   1575563  1575563      +    mir459   \n",
       "13438  chr1    3297366  3297451   3297451  3297451      -  mir92a-1   \n",
       "13439  chr1    3297483  3297570   3297570  3297570      -    mir19b   \n",
       "13440  chr1    3297602  3297755   3297755  3297755      -    mir20a   \n",
       "\n",
       "                ID  \n",
       "12794  NR_030099.1  \n",
       "12923  NR_039328.1  \n",
       "13438  NR_030045.1  \n",
       "13439  NR_030016.1  \n",
       "13440  NR_030019.1  "
      ]
     },
     "execution_count": 30,
     "metadata": {},
     "output_type": "execute_result"
    }
   ],
   "source": [
    "zfish_df_miR.head(5)"
   ]
  },
  {
   "cell_type": "code",
   "execution_count": 31,
   "id": "6182c32a-3fac-4fd2-be76-22586c69454f",
   "metadata": {},
   "outputs": [],
   "source": [
    "#### save the file\n",
    "zfish_df_miR.to_csv(f'{current_dir}/Zebrafish/df_zfish_miR_NCBI.tsv',sep=\"\\t\",index=False)"
   ]
  },
  {
   "cell_type": "markdown",
   "id": "86c96030-b3b3-4144-ade5-bcedeb85fc6c",
   "metadata": {},
   "source": [
    "## 6. Before you run bedtools_intronic_miRs.sh, reshape the dataframe first and map intronic miRNA with the following steps\n",
    "\n",
    "The reason for reshaping the dataframe are the following:\n",
    "* We need to use txStart, txEnd coordinates instead of exon coordinates to find intronic miRNAs. \n",
    "* The finalized tsv files will be \"zfish_all_genes_no_miR_df_TX_loc_NCBI.tsv\".\n",
    "* We will use this new tsv file to overlap the coordinates of miR to map all the intronic miRNAs.\n",
    "* Remember the new file has txStart and txEnd locations instead of exon locations.\n",
    "* bedtools_intronic_miRs.sh will also map the rest of miRNAs that don't have mRNA host genes."
   ]
  },
  {
   "cell_type": "markdown",
   "id": "1916f958-3a04-4fa2-83ba-d27b7a93388f",
   "metadata": {},
   "source": [
    "### Zebrafish"
   ]
  },
  {
   "cell_type": "code",
   "execution_count": 1,
   "id": "f1be8b05-316d-43a1-9b3b-688f395a18ac",
   "metadata": {},
   "outputs": [],
   "source": [
    "#bedtools will generate the overlapped exonic miR files\n",
    "\n",
    "\n",
    "columns=['hostgene_chrom', 'hostgene_exonStarts', 'hostgene_exonEnds', 'hostgene_cdsStart', 'hostgene_cdsEnd'\n",
    "         , 'hostgene_strand',\n",
    "       'hostgene_Name', 'hostgene_NCBI_ID','miR_chrom', 'miR_exonStarts', 'miR_exonEnds', 'miR_type'\n",
    "         , 'miR_Name',\n",
    "       'miR_strand', 'miR_ID']"
   ]
  },
  {
   "cell_type": "code",
   "execution_count": null,
   "id": "66a4e742-a516-4329-976e-91b23a71f05e",
   "metadata": {},
   "outputs": [],
   "source": [
    "# zfish_exonicmiR_df=pd.read_csv('./Zebrafish/zfish_exonic_miR_NCBI.tsv', sep='\\t', header=None, names=columns)"
   ]
  },
  {
   "cell_type": "code",
   "execution_count": null,
   "id": "a4526910-3df0-441e-8b72-0f94b21092aa",
   "metadata": {},
   "outputs": [],
   "source": [
    "# zfish_exonicmiR_df.head()"
   ]
  },
  {
   "cell_type": "code",
   "execution_count": null,
   "id": "f21a3270-be88-4035-b087-d02a12ed91d3",
   "metadata": {},
   "outputs": [],
   "source": [
    "# zfish_exonicmiR_df=zfish_exonicmiR_df.loc[zfish_exonicmiR_df['miR_type']==\"miRNA_primary_transcript\"]"
   ]
  },
  {
   "cell_type": "code",
   "execution_count": null,
   "id": "f0804909-744e-4448-8a38-6aa11f209448",
   "metadata": {},
   "outputs": [],
   "source": [
    "# zfish_exonicmiR_df.drop(columns=['miR_ID'],inplace=True)"
   ]
  },
  {
   "cell_type": "code",
   "execution_count": null,
   "id": "869e880d-176f-4a0d-8475-bc33ac416202",
   "metadata": {},
   "outputs": [],
   "source": [
    "# #Change string values in the columns of exonic miR files\n",
    "\n",
    "# # Reset the index\n",
    "# zfish_exonicmiR_df = zfish_exonicmiR_df.reset_index(drop=True)\n",
    "\n",
    "# # Create a new DataFrame with the updated \"miR_name\" column\n",
    "# new_df_3 = pd.DataFrame({\"miR_name\": zfish_exonicmiR_df[\"miR_Name\"].str.replace(\"Name=\", \"\")})\n",
    "\n",
    "# # Concatenate the new DataFrame with the remaining columns from the original DataFrame\n",
    "# zfish_exonicmiR_df.insert(12,\"miR_name\", new_df_3['miR_name'])\n",
    "# zfish_exonicmiR_df.drop(columns=[\"miR_Name\"],inplace=True)"
   ]
  },
  {
   "cell_type": "code",
   "execution_count": null,
   "id": "04d3ecc9-e25d-4be5-81f1-de6a0200f2dd",
   "metadata": {},
   "outputs": [],
   "source": [
    "# zfish_exonicmiR_df.head()"
   ]
  },
  {
   "cell_type": "code",
   "execution_count": null,
   "id": "38666403-a45e-4d2e-81c6-a88436a1621f",
   "metadata": {},
   "outputs": [],
   "source": []
  },
  {
   "cell_type": "markdown",
   "id": "f75851ac-f59c-4372-b7d5-18d10f5bb144",
   "metadata": {},
   "source": [
    "### 7. Use Gene_func file to add additional columns to the dataframe (7th step).\n",
    "This new column will have a new column called gene type. Bascially this new dataframe will tell you if the host gene is a protein or non-coding RNA."
   ]
  },
  {
   "cell_type": "markdown",
   "id": "51192263-f28f-4544-887b-d799e4772b88",
   "metadata": {},
   "source": [
    "### Zebrafish"
   ]
  },
  {
   "cell_type": "code",
   "execution_count": null,
   "id": "bdb86009-5be0-4afa-bf94-c6844e881226",
   "metadata": {},
   "outputs": [],
   "source": [
    "# Gene_type(zfish_exonicmiR_df,'hostgene_cdsStart','hostgene_cdsEnd','gene_type')"
   ]
  },
  {
   "cell_type": "code",
   "execution_count": null,
   "id": "7f1f45d2-1c37-46e1-bc25-4e1071284d16",
   "metadata": {},
   "outputs": [],
   "source": [
    "# zfish_exonicmiR_df.head()"
   ]
  },
  {
   "cell_type": "code",
   "execution_count": null,
   "id": "47d0a2ff-1259-40eb-b002-d29d7de3614f",
   "metadata": {},
   "outputs": [],
   "source": [
    "# zfish_exonicmiR_df.to_csv('./Zebrafish/zfish_exonic_miR(gene_type)_NCBI.csv',index=False)"
   ]
  },
  {
   "cell_type": "markdown",
   "id": "793d4a4d-5c4f-47c1-b9ca-a740c4a54779",
   "metadata": {},
   "source": [
    "## Intronic miRNAs organization"
   ]
  },
  {
   "cell_type": "markdown",
   "id": "f4a99428-fb57-4bf7-a550-868bb18ca27b",
   "metadata": {},
   "source": [
    "### Zebrafish"
   ]
  },
  {
   "cell_type": "code",
   "execution_count": 3,
   "id": "991c297d-38ea-4d34-b55c-a1c6deea5677",
   "metadata": {},
   "outputs": [],
   "source": [
    "#bedtools will generate the overlapped intronic miR files\n",
    "\n",
    "\n",
    "columns_2=['hostgene_chrom', 'hostgene_exonStarts', 'hostgene_exonEnds', 'hostgene_cdsStart', 'hostgene_cdsEnd'\n",
    "         , 'hostgene_strand',\n",
    "       'hostgene_Name', 'hostgene_NCBI_ID','miR_chrom', 'miR_exonStarts', 'miR_exonEnds', 'miR_type'\n",
    "         , 'miR_Name',\n",
    "       'miR_strand', 'miR_ID']"
   ]
  },
  {
   "cell_type": "code",
   "execution_count": null,
   "id": "ddfc66a1-6729-4ef3-9365-a7cb8e2a406f",
   "metadata": {},
   "outputs": [],
   "source": [
    "# zfish_intronicmiR_df=pd.read_csv('./Zebrafish/zfish_intronic_miR_NCBI.tsv', sep='\\t', header=None, names=columns_2)"
   ]
  },
  {
   "cell_type": "code",
   "execution_count": null,
   "id": "4cf069b0-9a6f-4463-956b-703c4aae67d0",
   "metadata": {},
   "outputs": [],
   "source": [
    "# zfish_intronicmiR_df.head()"
   ]
  },
  {
   "cell_type": "code",
   "execution_count": null,
   "id": "5f88caaf-9d7f-44ce-87fe-eca61a0b80c2",
   "metadata": {},
   "outputs": [],
   "source": [
    "# zfish_intronicmiR_df=zfish_intronicmiR_df.loc[zfish_intronicmiR_df['miR_type']==\"miRNA_primary_transcript\"]"
   ]
  },
  {
   "cell_type": "code",
   "execution_count": null,
   "id": "1fbb241a-379c-4390-bbbf-0e7532a1bd31",
   "metadata": {},
   "outputs": [],
   "source": [
    "# zfish_intronicmiR_df.drop(columns=['miR_ID'],inplace=True)"
   ]
  },
  {
   "cell_type": "code",
   "execution_count": null,
   "id": "524a3064-b585-494f-a616-e6ac356dcad0",
   "metadata": {},
   "outputs": [],
   "source": [
    "# zfish_intronicmiR_df.head()"
   ]
  },
  {
   "cell_type": "code",
   "execution_count": null,
   "id": "24e13c0f-2fd5-4e30-a59f-ceb0f34a2141",
   "metadata": {},
   "outputs": [],
   "source": [
    "# zfish_intronicmiR_df.columns"
   ]
  },
  {
   "cell_type": "code",
   "execution_count": null,
   "id": "3af14912-ddd9-469c-a1e9-3f103a61ff40",
   "metadata": {},
   "outputs": [],
   "source": [
    "# #Change string values in the columns of exonic miR files\n",
    "\n",
    "# # Reset the index\n",
    "# zfish_intronicmiR_df= zfish_intronicmiR_df.reset_index(drop=True)\n",
    "\n",
    "# # Create a new DataFrame with the updated \"miR_name\" column\n",
    "# zf_intron_df= pd.DataFrame({\"miR_name\": zfish_intronicmiR_df[\"miR_Name\"].str.replace(\"Name=\", \"\")})\n",
    "\n",
    "# # Concatenate the new DataFrame with the remaining columns from the original DataFrame\n",
    "# zfish_intronicmiR_df.insert(12,\"miR_name\",zf_intron_df['miR_name'])\n",
    "# zfish_intronicmiR_df.drop(columns=[\"miR_Name\"],inplace=True)"
   ]
  },
  {
   "cell_type": "code",
   "execution_count": null,
   "id": "4895fa5c-62e8-4f4a-aa69-1f83ade16110",
   "metadata": {},
   "outputs": [],
   "source": [
    "# zfish_intronicmiR_df.head()"
   ]
  },
  {
   "cell_type": "code",
   "execution_count": null,
   "id": "6a8c5d72-f7ec-451a-85a1-603f9e1fb9f3",
   "metadata": {},
   "outputs": [],
   "source": [
    "# Gene_type(zfish_intronicmiR_df,'hostgene_cdsStart','hostgene_cdsEnd','gene_type')"
   ]
  },
  {
   "cell_type": "code",
   "execution_count": null,
   "id": "c475eb39-7873-4b53-937b-0d42dee13e01",
   "metadata": {},
   "outputs": [],
   "source": [
    "# zfish_intronicmiR_df.head()"
   ]
  },
  {
   "cell_type": "code",
   "execution_count": null,
   "id": "2415e37a-96b1-4c16-8872-822aa4ac4643",
   "metadata": {},
   "outputs": [],
   "source": [
    "# zfish_intronicmiR_df.to_csv('./Zebrafish/zfish_intronic_miR(gene_type)_NCBI.csv',index=False)"
   ]
  },
  {
   "cell_type": "code",
   "execution_count": null,
   "id": "5a4610a0-4021-471f-9859-7ff83f9e4667",
   "metadata": {},
   "outputs": [],
   "source": []
  },
  {
   "cell_type": "markdown",
   "id": "76cba0a2-8066-4cc9-94a2-1dcce06586d4",
   "metadata": {},
   "source": [
    "### chromosome number notation is messed up in zebrafish miRbase file"
   ]
  },
  {
   "cell_type": "markdown",
   "id": "f969c95a-951f-4348-8d88-9ca2bb9cdbb1",
   "metadata": {},
   "source": [
    "## Zebrafish"
   ]
  },
  {
   "cell_type": "code",
   "execution_count": null,
   "id": "973c26b7-cf35-406f-9c66-979fcf32e412",
   "metadata": {},
   "outputs": [],
   "source": [
    "# # source\n",
    "# #url=\"https://hgdownload.soe.ucsc.edu/goldenPath/danRer11/bigZips/danRer11.chromAlias.txt\"\n",
    "# def zfish_gff_format(value):\n",
    "#     \"\"\"organize the dre.tsv file first\"\"\"\n",
    "#     if value==\"KN149706.1\":\n",
    "#         return \"chrUn_KN149706v1\"\n",
    "#     elif value==\"KN150127.1\":\n",
    "#         return \"chrUn_KN150127v1\"\n",
    "#     elif value==\"KN150366.1\":\n",
    "#         return \"chrUn_KN150366v1\"\n",
    "#     elif value==\"KZ114845.1\":\n",
    "#         return \"chr1_KZ114845v1_alt\"\n",
    "#     elif value==\"KZ114877.1\":\n",
    "#         return \"chr6_KZ114877v1_alt\"\n",
    "#     elif value==\"KZ114890.1\":\n",
    "#         return \"chr7_KZ114890v1_alt\"\n",
    "#     elif value==\"KZ114891.1\":\n",
    "#         return \"chr7_KZ114891v1_alt\"\n",
    "#     elif value==\"KZ114910.1\":\n",
    "#         return \"chr9_KZ114910v1_alt\"\n",
    "#     elif value==\"KZ114914.1\":\n",
    "#         return \"chr10_KZ114914v1_alt\"\n",
    "#     elif value==\"KZ114929.1\":\n",
    "#         return \"chr12_KZ114929v1_alt\"\n",
    "#     elif value==\"KZ114948.1\":\n",
    "#         return \"chr15_KZ114948v1_alt\"\n",
    "#     elif value==\"KZ114956.1\":\n",
    "#         return \"chr17_KZ114956v1_alt\"\n",
    "#     elif value==\"KZ114977.1\":\n",
    "#         return \"chr22_KZ114977v1_alt\"\n",
    "#     elif value==\"KZ115028.1\":\n",
    "#         return \"chr1_KZ115028v1_alt\"\n",
    "#     elif value==\"KZ115032.1\":\n",
    "#         return \"chr1_KZ115032v1_alt\"\n",
    "#     elif value==\"KZ115050.1\":\n",
    "#         return \"chr2_KZ115050v1_alt\"\n",
    "#     elif value==\"KZ115068.1\":\n",
    "#         return \"chr3_KZ115068v1_alt\"\n",
    "#     elif value==\"KZ115072.1\":\n",
    "#         return \"chr3_KZ115072v1_alt\"\n",
    "#     elif value==\"KZ115113.1\":\n",
    "#         return \"chr5_KZ115113v1_alt\"\n",
    "#     elif value==\"KZ115105.1\":\n",
    "#         return \"chr5_KZ115105v1_alt\"\n",
    "#     elif value==\"KZ115028.1\":\n",
    "#         return \"chr1_KZ115028v1_alt\"\n",
    "#     elif value==\"KZ115032.1\":\n",
    "#         return \"chr1_KZ115032v1_alt\"\n",
    "#     elif value==\"KZ115109.1\":\n",
    "#         return \"chr5_KZ115109v1_alt\"\n",
    "#     elif value==\"KZ115154.1\":\n",
    "#         return \"chr5_KZ115154v1_alt\"\n",
    "#     elif value==\"KZ115158.1\":\n",
    "#         return \"chr5_KZ115158v1_alt\"\n",
    "#     elif value==\"KZ115174.1\":\n",
    "#         return \"chr6_KZ115174v1_alt\"\n",
    "#     elif value==\"KZ115225.1\":\n",
    "#         return \"chr7_KZ115225v1_alt\"\n",
    "#     elif value==\"KZ115233.1\":\n",
    "#         return \"chr7_KZ115233v1_alt\"\n",
    "#     elif value==\"KZ115240.1\":\n",
    "#         return \"chr7_KZ115240v1_alt\"\n",
    "#     elif value==\"KZ115384.1 \":\n",
    "#         return \"chr12_KZ115384v1_alt\"\n",
    "#     elif value==\"KZ115390.1\":\n",
    "#         return \"chr12_KZ115390v1_alt\"\n",
    "#     elif value==\"KZ115395.1\":\n",
    "#         return \"chr12_KZ115395v1_alt\"\n",
    "#     elif value==\"KZ115446.1\":\n",
    "#         return \"chr14_KZ115446v1_alt\"\n",
    "#     elif value==\"KZ115452.1\":\n",
    "#         return \"chr14_KZ115452v1_alt\"\n",
    "#     elif value==\"KZ115517.1\":\n",
    "#         return \"chr17_KZ115517v1_alt\"\n",
    "#     elif value==\"KZ115525.1\":\n",
    "#         return \"chr17_KZ115525v1_alt\"\n",
    "#     elif value==\"KZ115596.1\":\n",
    "#         return \"chr19_KZ115596v1_alt\"\n",
    "#     elif value==\"KZ115653.1\":\n",
    "#         return \"chr22_KZ115653v1_alt\"\n",
    "#     elif value==\"KZ115670.1\":\n",
    "#         return \"chr23_KZ115670v1_alt\"\n",
    "#     elif value==\"KZ115683.1\":\n",
    "#         return \"chr23_KZ115683v1_alt\"\n",
    "#     elif value==\"KZ115692.1\":\n",
    "#         return \"chr23_KZ115692v1_alt\"\n",
    "#     elif value==\"KZ115688.1\":\n",
    "#         return \"chr23_KZ115688v1_alt\"\n",
    "#     elif value==\"KZ115267.1\":\n",
    "#         return \"chr8_KZ115267v1_alt\"\n",
    "#     elif value==\"KZ115309.1\":\n",
    "#         return \"chr10_KZ115309v1_alt\"\n",
    "#     elif value==\"KZ115324.1\":\n",
    "#         return \"chr10_KZ115324v1_alt\"\n",
    "#     elif value==\"KZ115325.1\":\n",
    "#         return \"chr10_KZ115325v1_alt\"\n",
    "#     elif value==\"KZ115359.1\":\n",
    "#         return \"chr11_KZ115359v1_alt\"\n",
    "#     elif value==\"KZ115363.1\":\n",
    "#         return \"chr11_KZ115363v1_alt\"\n",
    "#     elif value==\"KZ115371.1\":\n",
    "#         return \"chr12_KZ115371v1_alt\"\n",
    "#     elif value==\"KZ115384.1\":\n",
    "#         return \"chr12_KZ115384v1_alt\"\n",
    "#     elif value==\"KZ115462.1\":\n",
    "#         return \"chr14_KZ115462v1_alt\"\n",
    "#     elif value==\"KZ115524.1\":\n",
    "#         return \"chr17_KZ115524v1_alt\"\n",
    "#     else:\n",
    "#         return value ##this will just return original value"
   ]
  },
  {
   "cell_type": "code",
   "execution_count": 4,
   "id": "810aec22-9bbd-4fc2-be1a-ab3ef9fec030",
   "metadata": {},
   "outputs": [],
   "source": [
    "zfish_columns=['chrom', 'miR_type','exonStarts', 'exonEnds','strand','miR_ID','miR_ID_2','miR_Name','miR_ID_3']"
   ]
  },
  {
   "cell_type": "code",
   "execution_count": null,
   "id": "f1d1ad33-0fb0-4bd7-a0ca-d4e13f1fe7e1",
   "metadata": {},
   "outputs": [],
   "source": [
    "# zfish_miR_miRBase_tsv=pd.read_csv('./Zebrafish/dre.tsv', sep='\\t', header=None, names=zfish_columns)###all micrornas"
   ]
  },
  {
   "cell_type": "code",
   "execution_count": null,
   "id": "7e5c3abe-bfc3-47b8-9d02-37e4fd1831cd",
   "metadata": {},
   "outputs": [],
   "source": [
    "# zfish_miR_miRBase_tsv.head()"
   ]
  },
  {
   "cell_type": "code",
   "execution_count": null,
   "id": "01c49c00-2d2e-4b9f-8fa9-bb3cca73d469",
   "metadata": {},
   "outputs": [],
   "source": [
    "# zfish_miR_miRBase_tsv['chrom']=zfish_miR_miRBase_tsv['chrom'].apply(zfish_gff_format)"
   ]
  },
  {
   "cell_type": "code",
   "execution_count": null,
   "id": "a7ad83d5-3b6a-4e06-bb54-92997690da96",
   "metadata": {},
   "outputs": [],
   "source": [
    "# zfish_miR_miRBase_tsv['chrom']=zfish_miR_miRBase_tsv['chrom'].str.replace(\" \",\"\")"
   ]
  },
  {
   "cell_type": "code",
   "execution_count": null,
   "id": "23831d3e-e087-4848-b3fd-31635ca2dacc",
   "metadata": {},
   "outputs": [],
   "source": [
    "# zfish_miR_miRBase_tsv.head()"
   ]
  },
  {
   "cell_type": "code",
   "execution_count": null,
   "id": "f149e43a-c012-4a47-b9f7-a260af80e69b",
   "metadata": {},
   "outputs": [],
   "source": [
    "# zfish_miR_miRBase_tsv.to_csv('./Zebrafish/dre_fixed.tsv', sep='\\t',index=False)"
   ]
  },
  {
   "cell_type": "code",
   "execution_count": null,
   "id": "4be85677-859b-4f4f-a2a4-ebd5e18c2835",
   "metadata": {},
   "outputs": [],
   "source": []
  },
  {
   "cell_type": "markdown",
   "id": "33872059-67df-412a-95c6-b066d4e3b1b0",
   "metadata": {},
   "source": [
    "## 6. Before you run bedtools_intronic_miRs.sh, reshape the dataframe first and map intronic miRNA with the following steps\n",
    "\n",
    "The reason for reshaping the dataframe are the following:\n",
    "* We need to use txStart, txEnd coordinates instead of exon coordinates to find intronic miRNAs. \n",
    "* The finalized tsv files will be \"zfish_all_genes_no_miR_df_TX_loc_NCBI.tsv\".\n",
    "* We will use this new tsv file to overlap the coordinates of miR to map all the intronic miRNAs.\n",
    "* Remember the new file has txStart and txEnd locations instead of exon locations.\n",
    "* bedtools_intronic_miRs.sh will also map the rest of miRNAs that don't have mRNA host genes."
   ]
  },
  {
   "cell_type": "markdown",
   "id": "8b00e9b4-2e38-4b68-92ee-f8f425efbea6",
   "metadata": {},
   "source": [
    "### Zebrafish"
   ]
  },
  {
   "cell_type": "code",
   "execution_count": null,
   "id": "d181e35c-21e5-4166-a30b-badebf46324c",
   "metadata": {},
   "outputs": [],
   "source": [
    "# zfish_gene_df_tx=human.select(['chrom','txStart','txEnd','cdsStart','cdsEnd','strand',\n",
    "#                         'gene_name','name'])"
   ]
  },
  {
   "cell_type": "code",
   "execution_count": null,
   "id": "144eceac-d4e9-4c50-9b30-6f0eee304da5",
   "metadata": {},
   "outputs": [],
   "source": [
    "# zfish_gene_df_tx.rename(columns={'gene_name':'Name','name':'ID'},inplace=True)"
   ]
  },
  {
   "cell_type": "code",
   "execution_count": null,
   "id": "4239c9f9-9403-4643-b8c1-0d28a1213e18",
   "metadata": {},
   "outputs": [],
   "source": [
    "#Use the same regex again=>p=r'^MIR\\d+(-\\d+)*$|^MIR\\d+[A-Z]([A-Z]|\\d)*$(?<!HG)$|^hsa-mir|^MIRLET\\d[A-Z]\\d*$(?<!HG)$'"
   ]
  },
  {
   "cell_type": "code",
   "execution_count": null,
   "id": "48f00df6-762a-45fb-b9f0-3c56aaf48d4b",
   "metadata": {},
   "outputs": [],
   "source": [
    "# zfish_all_genes_no_miR_df_TX_loc=zfish_gene_df_tx.loc[~zfish_gene_df_tx['Name'].str.contains(\n",
    "# zfish_p, flags=re.I,regex=True)]####Remove all miR from the data."
   ]
  },
  {
   "cell_type": "code",
   "execution_count": null,
   "id": "a5aa33cc-0348-4ef5-915f-f0c8190cbc2e",
   "metadata": {},
   "outputs": [],
   "source": [
    "# zfish_all_genes_no_miR_df_TX_loc.to_csv('./Zebrafish/zfish_all_genes_no_miR_df_TX_loc_NCBI.tsv',sep='\\t',index=False)"
   ]
  },
  {
   "cell_type": "markdown",
   "id": "54df518c-fd77-4250-ba53-1d0ab728e979",
   "metadata": {},
   "source": [
    "## Map percentages of intronic, exonic, other microRNAs using bedtools\n",
    "\n",
    "* This step is also run after bedtools files are run (bedtools_zfish_nonoverlap_miR.sh)"
   ]
  },
  {
   "cell_type": "markdown",
   "id": "bdeff9fd-9d51-4545-830b-9a04b1f308b1",
   "metadata": {},
   "source": [
    "### Zebrafish"
   ]
  },
  {
   "cell_type": "code",
   "execution_count": 5,
   "id": "aea2a960-d503-4195-b59e-66d730e6f240",
   "metadata": {},
   "outputs": [],
   "source": [
    "columns_3=['miR_chrom', 'miR_exonStarts', 'miR_exonEnds', 'miR_type', 'miR_Name','miR_strand', 'miR_ID']"
   ]
  },
  {
   "cell_type": "code",
   "execution_count": null,
   "id": "fc8ba959-a1ed-4be7-8431-f9d569831201",
   "metadata": {},
   "outputs": [],
   "source": [
    "# zfish_miR_miRBase_df=pd.read_csv('./Zebrafish/dre_finalized.tsv', sep='\\t', header=None, names=columns)###all micrornas"
   ]
  },
  {
   "cell_type": "code",
   "execution_count": null,
   "id": "3444f32f-b91a-4503-977f-d2da87ff7fdb",
   "metadata": {},
   "outputs": [],
   "source": [
    "# zfish_miR_miRBase_df=zfish_miR_miRBase_df.iloc[1:]"
   ]
  },
  {
   "cell_type": "code",
   "execution_count": null,
   "id": "1aa66f79-1881-43b8-8f9a-1ccc70dfac8a",
   "metadata": {},
   "outputs": [],
   "source": [
    "# zfish_miR_miRBase_df.head()"
   ]
  },
  {
   "cell_type": "code",
   "execution_count": null,
   "id": "c69b8877-c51a-4107-b1bd-ebd7018f0fbe",
   "metadata": {},
   "outputs": [],
   "source": []
  },
  {
   "cell_type": "code",
   "execution_count": null,
   "id": "f8b55313-a4fe-4978-98d3-c897c9593ac0",
   "metadata": {},
   "outputs": [],
   "source": []
  }
 ],
 "metadata": {
  "kernelspec": {
   "display_name": "Python 3 (ipykernel)",
   "language": "python",
   "name": "python3"
  },
  "language_info": {
   "codemirror_mode": {
    "name": "ipython",
    "version": 3
   },
   "file_extension": ".py",
   "mimetype": "text/x-python",
   "name": "python",
   "nbconvert_exporter": "python",
   "pygments_lexer": "ipython3",
   "version": "3.9.13"
  }
 },
 "nbformat": 4,
 "nbformat_minor": 5
}
