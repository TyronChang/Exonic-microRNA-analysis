{
 "cells": [
  {
   "cell_type": "code",
   "execution_count": 1,
   "id": "06ae7dd0-3963-45f0-8dbc-c0df64f1403d",
   "metadata": {},
   "outputs": [],
   "source": [
    "import pandas as pd\n",
    "import logomaker as lm\n",
    "import matplotlib.pyplot as plt\n",
    "import os\n",
    "import re"
   ]
  },
  {
   "cell_type": "code",
   "execution_count": 2,
   "id": "c6fa5116-8064-4799-adb5-bbd6d888e103",
   "metadata": {},
   "outputs": [],
   "source": [
    "current_dir=os.getcwd()"
   ]
  },
  {
   "cell_type": "code",
   "execution_count": 3,
   "id": "24c6182e-e31a-4735-931b-cbf65a1e66be",
   "metadata": {},
   "outputs": [],
   "source": [
    "columns=[\"miR_name\", \"miR_ID\", \"pre-miRNA_sequences\"]"
   ]
  },
  {
   "cell_type": "code",
   "execution_count": 4,
   "id": "3b9af64c-2ec9-4b37-b131-a0feed8c4298",
   "metadata": {},
   "outputs": [],
   "source": [
    "mmu_miR_sequence=pd.read_csv(f\"{current_dir}/Mouse_miR_sequence_fasta/mmu_miR_sequence.csv\",header=None, names=columns)"
   ]
  },
  {
   "cell_type": "code",
   "execution_count": 5,
   "id": "8deeb6ef-07e6-49b6-b5f5-4540051325f7",
   "metadata": {},
   "outputs": [],
   "source": [
    "mmu_miR_sequence[\"miR_name\"]=mmu_miR_sequence[\"miR_name\"].str.replace(\">\",\"\")#### remove \">\""
   ]
  },
  {
   "cell_type": "code",
   "execution_count": 6,
   "id": "455c79b4-9fe8-41b3-8d0c-62e53bcdd5a4",
   "metadata": {},
   "outputs": [],
   "source": [
    "mmu_miR_sequence.to_csv(f\"{current_dir}/Mouse_miR_sequence_fasta/mmu_miR_sequence.csv\",index=False)"
   ]
  },
  {
   "cell_type": "code",
   "execution_count": 7,
   "id": "a583eeee-1815-49b4-b25f-592ea5c02f15",
   "metadata": {},
   "outputs": [
    {
     "name": "stdout",
     "output_type": "stream",
     "text": [
      "importing Jupyter notebook from EXONIC.ipynb\n"
     ]
    }
   ],
   "source": [
    "import import_ipynb\n",
    "from EXONIC import Regions"
   ]
  },
  {
   "cell_type": "code",
   "execution_count": 8,
   "id": "c7b5625e-d2a1-4f72-b2f5-56d910ec7d4c",
   "metadata": {},
   "outputs": [],
   "source": [
    "mouse_exonic_miR=Regions(f\"{current_dir}/Mouse_csv_file/mouse_exonic_miR(gene_type)_NCBI_unique.csv\")"
   ]
  },
  {
   "cell_type": "code",
   "execution_count": 9,
   "id": "1178ea75-e186-4267-99f5-fae94561019b",
   "metadata": {},
   "outputs": [
    {
     "data": {
      "text/plain": [
       "Index(['hostgene_chrom', 'hostgene_exonStarts', 'hostgene_exonEnds',\n",
       "       'hostgene_cdsStart', 'hostgene_cdsEnd', 'hostgene_strand',\n",
       "       'hostgene_exonCounts', 'hostgene_txStarts', 'hostgene_txEnds',\n",
       "       'pre_mRNA_length', 'mature_host_mRNA_Length', 'hostgene_Name',\n",
       "       'hostgene_NCBI_ID', 'miR_name', 'miR_chrom', 'miR_exonStarts',\n",
       "       'miR_exonEnds', 'miR_type', 'miR_strand', 'gene_type'],\n",
       "      dtype='object')"
      ]
     },
     "execution_count": 9,
     "metadata": {},
     "output_type": "execute_result"
    }
   ],
   "source": [
    "mouse_exonic_miR.df.columns"
   ]
  },
  {
   "cell_type": "code",
   "execution_count": 10,
   "id": "4309b930-dec1-461b-9d9b-762efe7dc8ee",
   "metadata": {},
   "outputs": [],
   "source": [
    "mouse_exonic_miR.select([\"hostgene_NCBI_ID\",'hostgene_Name','hostgene_strand',\n",
    "                            'pre_mRNA_length','mature_host_mRNA_Length','miR_name','miR_strand', 'gene_type' ])"
   ]
  },
  {
   "cell_type": "code",
   "execution_count": 11,
   "id": "dea6e045-2e2b-4572-8dcd-45d8c8b3c0b1",
   "metadata": {},
   "outputs": [
    {
     "data": {
      "text/html": [
       "<div>\n",
       "<style scoped>\n",
       "    .dataframe tbody tr th:only-of-type {\n",
       "        vertical-align: middle;\n",
       "    }\n",
       "\n",
       "    .dataframe tbody tr th {\n",
       "        vertical-align: top;\n",
       "    }\n",
       "\n",
       "    .dataframe thead th {\n",
       "        text-align: right;\n",
       "    }\n",
       "</style>\n",
       "<table border=\"1\" class=\"dataframe\">\n",
       "  <thead>\n",
       "    <tr style=\"text-align: right;\">\n",
       "      <th></th>\n",
       "      <th>hostgene_NCBI_ID</th>\n",
       "      <th>hostgene_Name</th>\n",
       "      <th>hostgene_strand</th>\n",
       "      <th>pre_mRNA_length</th>\n",
       "      <th>mature_host_mRNA_Length</th>\n",
       "      <th>miR_name</th>\n",
       "      <th>miR_strand</th>\n",
       "      <th>gene_type</th>\n",
       "    </tr>\n",
       "  </thead>\n",
       "  <tbody>\n",
       "    <tr>\n",
       "      <th>0</th>\n",
       "      <td>NR_015566.2</td>\n",
       "      <td>A330023F24Rik</td>\n",
       "      <td>+</td>\n",
       "      <td>20510.0</td>\n",
       "      <td>5195</td>\n",
       "      <td>mmu-mir-29b-2</td>\n",
       "      <td>+</td>\n",
       "      <td>non-coding gene</td>\n",
       "    </tr>\n",
       "    <tr>\n",
       "      <th>1</th>\n",
       "      <td>NR_015566.2</td>\n",
       "      <td>A330023F24Rik</td>\n",
       "      <td>+</td>\n",
       "      <td>20510.0</td>\n",
       "      <td>5195</td>\n",
       "      <td>mmu-mir-29c</td>\n",
       "      <td>+</td>\n",
       "      <td>non-coding gene</td>\n",
       "    </tr>\n",
       "    <tr>\n",
       "      <th>2</th>\n",
       "      <td>NR_131249.1</td>\n",
       "      <td>Lincmd1</td>\n",
       "      <td>+</td>\n",
       "      <td>13077.0</td>\n",
       "      <td>521</td>\n",
       "      <td>mmu-mir-133b</td>\n",
       "      <td>+</td>\n",
       "      <td>non-coding gene</td>\n",
       "    </tr>\n",
       "    <tr>\n",
       "      <th>3</th>\n",
       "      <td>NR_106184.1</td>\n",
       "      <td>Gm24148</td>\n",
       "      <td>-</td>\n",
       "      <td>147.0</td>\n",
       "      <td>147</td>\n",
       "      <td>mmu-mir-3535</td>\n",
       "      <td>-</td>\n",
       "      <td>non-coding gene</td>\n",
       "    </tr>\n",
       "    <tr>\n",
       "      <th>4</th>\n",
       "      <td>NR_162775.1</td>\n",
       "      <td>Gm51265</td>\n",
       "      <td>-</td>\n",
       "      <td>66.0</td>\n",
       "      <td>66</td>\n",
       "      <td>mmu-mir-5104b</td>\n",
       "      <td>-</td>\n",
       "      <td>non-coding gene</td>\n",
       "    </tr>\n",
       "    <tr>\n",
       "      <th>...</th>\n",
       "      <td>...</td>\n",
       "      <td>...</td>\n",
       "      <td>...</td>\n",
       "      <td>...</td>\n",
       "      <td>...</td>\n",
       "      <td>...</td>\n",
       "      <td>...</td>\n",
       "      <td>...</td>\n",
       "    </tr>\n",
       "    <tr>\n",
       "      <th>165</th>\n",
       "      <td>NR_162795.1</td>\n",
       "      <td>Gm51271</td>\n",
       "      <td>-</td>\n",
       "      <td>50.0</td>\n",
       "      <td>50</td>\n",
       "      <td>mmu-mir-12192</td>\n",
       "      <td>-</td>\n",
       "      <td>non-coding gene</td>\n",
       "    </tr>\n",
       "    <tr>\n",
       "      <th>166</th>\n",
       "      <td>NM_019924.2</td>\n",
       "      <td>Rps6ka4</td>\n",
       "      <td>-</td>\n",
       "      <td>11544.0</td>\n",
       "      <td>3132</td>\n",
       "      <td>mmu-mir-5046</td>\n",
       "      <td>-</td>\n",
       "      <td>protein-coding gene</td>\n",
       "    </tr>\n",
       "    <tr>\n",
       "      <th>167</th>\n",
       "      <td>XM_017318209.2</td>\n",
       "      <td>Esrra</td>\n",
       "      <td>-</td>\n",
       "      <td>10733.0</td>\n",
       "      <td>1903</td>\n",
       "      <td>mmu-mir-6990</td>\n",
       "      <td>-</td>\n",
       "      <td>protein-coding gene</td>\n",
       "    </tr>\n",
       "    <tr>\n",
       "      <th>168</th>\n",
       "      <td>XM_011247115.3</td>\n",
       "      <td>2700081O15Rik</td>\n",
       "      <td>+</td>\n",
       "      <td>8151.0</td>\n",
       "      <td>5040</td>\n",
       "      <td>mmu-mir-6991</td>\n",
       "      <td>+</td>\n",
       "      <td>protein-coding gene</td>\n",
       "    </tr>\n",
       "    <tr>\n",
       "      <th>169</th>\n",
       "      <td>XM_011247364.2</td>\n",
       "      <td>Zfp518a</td>\n",
       "      <td>+</td>\n",
       "      <td>23379.0</td>\n",
       "      <td>6831</td>\n",
       "      <td>mmu-mir-8092</td>\n",
       "      <td>+</td>\n",
       "      <td>protein-coding gene</td>\n",
       "    </tr>\n",
       "  </tbody>\n",
       "</table>\n",
       "<p>170 rows × 8 columns</p>\n",
       "</div>"
      ],
      "text/plain": [
       "    hostgene_NCBI_ID  hostgene_Name hostgene_strand  pre_mRNA_length  \\\n",
       "0        NR_015566.2  A330023F24Rik               +          20510.0   \n",
       "1        NR_015566.2  A330023F24Rik               +          20510.0   \n",
       "2        NR_131249.1        Lincmd1               +          13077.0   \n",
       "3        NR_106184.1        Gm24148               -            147.0   \n",
       "4        NR_162775.1        Gm51265               -             66.0   \n",
       "..               ...            ...             ...              ...   \n",
       "165      NR_162795.1        Gm51271               -             50.0   \n",
       "166      NM_019924.2        Rps6ka4               -          11544.0   \n",
       "167   XM_017318209.2          Esrra               -          10733.0   \n",
       "168   XM_011247115.3  2700081O15Rik               +           8151.0   \n",
       "169   XM_011247364.2        Zfp518a               +          23379.0   \n",
       "\n",
       "     mature_host_mRNA_Length       miR_name miR_strand            gene_type  \n",
       "0                       5195  mmu-mir-29b-2          +      non-coding gene  \n",
       "1                       5195    mmu-mir-29c          +      non-coding gene  \n",
       "2                        521   mmu-mir-133b          +      non-coding gene  \n",
       "3                        147   mmu-mir-3535          -      non-coding gene  \n",
       "4                         66  mmu-mir-5104b          -      non-coding gene  \n",
       "..                       ...            ...        ...                  ...  \n",
       "165                       50  mmu-mir-12192          -      non-coding gene  \n",
       "166                     3132   mmu-mir-5046          -  protein-coding gene  \n",
       "167                     1903   mmu-mir-6990          -  protein-coding gene  \n",
       "168                     5040   mmu-mir-6991          +  protein-coding gene  \n",
       "169                     6831   mmu-mir-8092          +  protein-coding gene  \n",
       "\n",
       "[170 rows x 8 columns]"
      ]
     },
     "execution_count": 11,
     "metadata": {},
     "output_type": "execute_result"
    }
   ],
   "source": [
    "mouse_exonic_miR.df"
   ]
  },
  {
   "cell_type": "code",
   "execution_count": 12,
   "id": "36d9cf3b-acd0-462c-91ea-6aaa3acde2c1",
   "metadata": {},
   "outputs": [],
   "source": [
    "mouse_exonic_miR_sequence=mouse_exonic_miR.df.merge(mmu_miR_sequence, on=\"miR_name\",how=\"inner\")"
   ]
  },
  {
   "cell_type": "code",
   "execution_count": 13,
   "id": "3be11073-b273-4c09-8961-ec75eb2e617f",
   "metadata": {},
   "outputs": [],
   "source": [
    "mouse_exonic_miR_sequence.drop(columns=[\"miR_ID\"], inplace=True)"
   ]
  },
  {
   "cell_type": "code",
   "execution_count": 14,
   "id": "e7719229-e2c3-4926-8fa3-c959ac43d0a6",
   "metadata": {},
   "outputs": [],
   "source": [
    "mouse_exonic_miR_sequence.to_excel(f\"{current_dir}/Mouse_miR_sequence_fasta/Mouse_exonic_miR_sequence_unique.xlsx\",index=False)"
   ]
  },
  {
   "cell_type": "code",
   "execution_count": 15,
   "id": "61dc2a71-d39d-4000-98b7-0f1b03af7e60",
   "metadata": {},
   "outputs": [],
   "source": [
    "mouse_exonic_miR_sequence.to_csv(f\"{current_dir}/Mouse_miR_sequence_fasta/Mouse_exonic_miR_sequence_unique.csv\",index=False)"
   ]
  },
  {
   "cell_type": "code",
   "execution_count": 16,
   "id": "d8086d4f-a2f4-47c8-9485-73ecc281da90",
   "metadata": {},
   "outputs": [
    {
     "data": {
      "text/html": [
       "<div>\n",
       "<style scoped>\n",
       "    .dataframe tbody tr th:only-of-type {\n",
       "        vertical-align: middle;\n",
       "    }\n",
       "\n",
       "    .dataframe tbody tr th {\n",
       "        vertical-align: top;\n",
       "    }\n",
       "\n",
       "    .dataframe thead th {\n",
       "        text-align: right;\n",
       "    }\n",
       "</style>\n",
       "<table border=\"1\" class=\"dataframe\">\n",
       "  <thead>\n",
       "    <tr style=\"text-align: right;\">\n",
       "      <th></th>\n",
       "      <th>hostgene_NCBI_ID</th>\n",
       "      <th>hostgene_Name</th>\n",
       "      <th>hostgene_strand</th>\n",
       "      <th>pre_mRNA_length</th>\n",
       "      <th>mature_host_mRNA_Length</th>\n",
       "      <th>miR_name</th>\n",
       "      <th>miR_strand</th>\n",
       "      <th>gene_type</th>\n",
       "      <th>pre-miRNA_sequences</th>\n",
       "    </tr>\n",
       "  </thead>\n",
       "  <tbody>\n",
       "    <tr>\n",
       "      <th>0</th>\n",
       "      <td>NR_015566.2</td>\n",
       "      <td>A330023F24Rik</td>\n",
       "      <td>+</td>\n",
       "      <td>20510.0</td>\n",
       "      <td>5195</td>\n",
       "      <td>mmu-mir-29b-2</td>\n",
       "      <td>+</td>\n",
       "      <td>non-coding gene</td>\n",
       "      <td>CUUCUGGAAGCUGGUUUCACAUGGUGGCUUAGAUUUUUCCAUCUUU...</td>\n",
       "    </tr>\n",
       "    <tr>\n",
       "      <th>1</th>\n",
       "      <td>NR_015566.2</td>\n",
       "      <td>A330023F24Rik</td>\n",
       "      <td>+</td>\n",
       "      <td>20510.0</td>\n",
       "      <td>5195</td>\n",
       "      <td>mmu-mir-29c</td>\n",
       "      <td>+</td>\n",
       "      <td>non-coding gene</td>\n",
       "      <td>AUCUCUUACACAGGCUGACCGAUUUCUCCUGGUGUUCAGAGUCUGU...</td>\n",
       "    </tr>\n",
       "    <tr>\n",
       "      <th>2</th>\n",
       "      <td>NR_131249.1</td>\n",
       "      <td>Lincmd1</td>\n",
       "      <td>+</td>\n",
       "      <td>13077.0</td>\n",
       "      <td>521</td>\n",
       "      <td>mmu-mir-133b</td>\n",
       "      <td>+</td>\n",
       "      <td>non-coding gene</td>\n",
       "      <td>CCUCCAAAGGGAGUGGCCCCCUGCUCUGGCUGGUCAAACGGAACCA...</td>\n",
       "    </tr>\n",
       "    <tr>\n",
       "      <th>3</th>\n",
       "      <td>NR_106184.1</td>\n",
       "      <td>Gm24148</td>\n",
       "      <td>-</td>\n",
       "      <td>147.0</td>\n",
       "      <td>147</td>\n",
       "      <td>mmu-mir-3535</td>\n",
       "      <td>-</td>\n",
       "      <td>non-coding gene</td>\n",
       "      <td>UUUGGGGCUGUCUUUAUGUUGUUGCUGAGAAAAUGACAACUGGAUA...</td>\n",
       "    </tr>\n",
       "    <tr>\n",
       "      <th>4</th>\n",
       "      <td>NR_162775.1</td>\n",
       "      <td>Gm51265</td>\n",
       "      <td>-</td>\n",
       "      <td>66.0</td>\n",
       "      <td>66</td>\n",
       "      <td>mmu-mir-5104b</td>\n",
       "      <td>-</td>\n",
       "      <td>non-coding gene</td>\n",
       "      <td>UGGGCCAUCUCUUUAGUCCAGAAAUACUUUUUAUGAAACAAAUCAG...</td>\n",
       "    </tr>\n",
       "    <tr>\n",
       "      <th>...</th>\n",
       "      <td>...</td>\n",
       "      <td>...</td>\n",
       "      <td>...</td>\n",
       "      <td>...</td>\n",
       "      <td>...</td>\n",
       "      <td>...</td>\n",
       "      <td>...</td>\n",
       "      <td>...</td>\n",
       "      <td>...</td>\n",
       "    </tr>\n",
       "    <tr>\n",
       "      <th>165</th>\n",
       "      <td>NR_162795.1</td>\n",
       "      <td>Gm51271</td>\n",
       "      <td>-</td>\n",
       "      <td>50.0</td>\n",
       "      <td>50</td>\n",
       "      <td>mmu-mir-12192</td>\n",
       "      <td>-</td>\n",
       "      <td>non-coding gene</td>\n",
       "      <td>UGUGGGGUAUAGCUAGAAAGAGAGAUUUCUUUCUAGCUAUACCCCA...</td>\n",
       "    </tr>\n",
       "    <tr>\n",
       "      <th>166</th>\n",
       "      <td>NM_019924.2</td>\n",
       "      <td>Rps6ka4</td>\n",
       "      <td>-</td>\n",
       "      <td>11544.0</td>\n",
       "      <td>3132</td>\n",
       "      <td>mmu-mir-5046</td>\n",
       "      <td>-</td>\n",
       "      <td>protein-coding gene</td>\n",
       "      <td>UCCUAGCUCCCGCCACUGUGACCCCCUUACCUUUAGGAGCUCCGAU...</td>\n",
       "    </tr>\n",
       "    <tr>\n",
       "      <th>167</th>\n",
       "      <td>XM_017318209.2</td>\n",
       "      <td>Esrra</td>\n",
       "      <td>-</td>\n",
       "      <td>10733.0</td>\n",
       "      <td>1903</td>\n",
       "      <td>mmu-mir-6990</td>\n",
       "      <td>-</td>\n",
       "      <td>protein-coding gene</td>\n",
       "      <td>GCUUGCCCAGGGUGAGUCAGGGCUCUCCUGUCAUCUGGGCCCCCUC...</td>\n",
       "    </tr>\n",
       "    <tr>\n",
       "      <th>168</th>\n",
       "      <td>XM_011247115.3</td>\n",
       "      <td>2700081O15Rik</td>\n",
       "      <td>+</td>\n",
       "      <td>8151.0</td>\n",
       "      <td>5040</td>\n",
       "      <td>mmu-mir-6991</td>\n",
       "      <td>+</td>\n",
       "      <td>protein-coding gene</td>\n",
       "      <td>AGCAGUGGAGAACAGGGACUGGGCCUGAUUGAUGGCACUCGCUCCA...</td>\n",
       "    </tr>\n",
       "    <tr>\n",
       "      <th>169</th>\n",
       "      <td>XM_011247364.2</td>\n",
       "      <td>Zfp518a</td>\n",
       "      <td>+</td>\n",
       "      <td>23379.0</td>\n",
       "      <td>6831</td>\n",
       "      <td>mmu-mir-8092</td>\n",
       "      <td>+</td>\n",
       "      <td>protein-coding gene</td>\n",
       "      <td>GCAGCGCGGCGCUCGGCUUUCCGGCAGUACCCGGAUGGAGGGGUAA...</td>\n",
       "    </tr>\n",
       "  </tbody>\n",
       "</table>\n",
       "<p>170 rows × 9 columns</p>\n",
       "</div>"
      ],
      "text/plain": [
       "    hostgene_NCBI_ID  hostgene_Name hostgene_strand  pre_mRNA_length  \\\n",
       "0        NR_015566.2  A330023F24Rik               +          20510.0   \n",
       "1        NR_015566.2  A330023F24Rik               +          20510.0   \n",
       "2        NR_131249.1        Lincmd1               +          13077.0   \n",
       "3        NR_106184.1        Gm24148               -            147.0   \n",
       "4        NR_162775.1        Gm51265               -             66.0   \n",
       "..               ...            ...             ...              ...   \n",
       "165      NR_162795.1        Gm51271               -             50.0   \n",
       "166      NM_019924.2        Rps6ka4               -          11544.0   \n",
       "167   XM_017318209.2          Esrra               -          10733.0   \n",
       "168   XM_011247115.3  2700081O15Rik               +           8151.0   \n",
       "169   XM_011247364.2        Zfp518a               +          23379.0   \n",
       "\n",
       "     mature_host_mRNA_Length       miR_name miR_strand            gene_type  \\\n",
       "0                       5195  mmu-mir-29b-2          +      non-coding gene   \n",
       "1                       5195    mmu-mir-29c          +      non-coding gene   \n",
       "2                        521   mmu-mir-133b          +      non-coding gene   \n",
       "3                        147   mmu-mir-3535          -      non-coding gene   \n",
       "4                         66  mmu-mir-5104b          -      non-coding gene   \n",
       "..                       ...            ...        ...                  ...   \n",
       "165                       50  mmu-mir-12192          -      non-coding gene   \n",
       "166                     3132   mmu-mir-5046          -  protein-coding gene   \n",
       "167                     1903   mmu-mir-6990          -  protein-coding gene   \n",
       "168                     5040   mmu-mir-6991          +  protein-coding gene   \n",
       "169                     6831   mmu-mir-8092          +  protein-coding gene   \n",
       "\n",
       "                                   pre-miRNA_sequences  \n",
       "0    CUUCUGGAAGCUGGUUUCACAUGGUGGCUUAGAUUUUUCCAUCUUU...  \n",
       "1    AUCUCUUACACAGGCUGACCGAUUUCUCCUGGUGUUCAGAGUCUGU...  \n",
       "2    CCUCCAAAGGGAGUGGCCCCCUGCUCUGGCUGGUCAAACGGAACCA...  \n",
       "3    UUUGGGGCUGUCUUUAUGUUGUUGCUGAGAAAAUGACAACUGGAUA...  \n",
       "4    UGGGCCAUCUCUUUAGUCCAGAAAUACUUUUUAUGAAACAAAUCAG...  \n",
       "..                                                 ...  \n",
       "165  UGUGGGGUAUAGCUAGAAAGAGAGAUUUCUUUCUAGCUAUACCCCA...  \n",
       "166  UCCUAGCUCCCGCCACUGUGACCCCCUUACCUUUAGGAGCUCCGAU...  \n",
       "167  GCUUGCCCAGGGUGAGUCAGGGCUCUCCUGUCAUCUGGGCCCCCUC...  \n",
       "168  AGCAGUGGAGAACAGGGACUGGGCCUGAUUGAUGGCACUCGCUCCA...  \n",
       "169  GCAGCGCGGCGCUCGGCUUUCCGGCAGUACCCGGAUGGAGGGGUAA...  \n",
       "\n",
       "[170 rows x 9 columns]"
      ]
     },
     "execution_count": 16,
     "metadata": {},
     "output_type": "execute_result"
    }
   ],
   "source": [
    "mouse_exonic_miR_sequence"
   ]
  },
  {
   "cell_type": "markdown",
   "id": "d09f0179",
   "metadata": {},
   "source": [
    "### Protein-coding genes"
   ]
  },
  {
   "cell_type": "code",
   "execution_count": 17,
   "id": "06e60079-1efa-4d80-a882-677786ad800f",
   "metadata": {},
   "outputs": [],
   "source": [
    "mouse_exonic_protein_coding_miR=Regions(f\"{current_dir}/Mouse_csv_file/mouse_exonic_miR_list(protein_coding_host_genes)_NCBI_unique.csv\")"
   ]
  },
  {
   "cell_type": "code",
   "execution_count": 18,
   "id": "432003af",
   "metadata": {},
   "outputs": [],
   "source": [
    "mouse_exonic_protein_coding_miR.select(['hostgene_NCBI_ID', 'hostgene_Name', 'hostgene_strand',\n",
    "       'miR_name', 'miR_strand', 'region','pre_mRNA_length', 'mature_host_mRNA_Length', 'gene_type'])"
   ]
  },
  {
   "cell_type": "code",
   "execution_count": 19,
   "id": "8d96d82e",
   "metadata": {},
   "outputs": [],
   "source": [
    "mouse_exonic_miR_sequence_coding=mouse_exonic_protein_coding_miR.df.merge(mmu_miR_sequence, on=\"miR_name\",how=\"inner\")"
   ]
  },
  {
   "cell_type": "code",
   "execution_count": 20,
   "id": "7fda5d2c",
   "metadata": {},
   "outputs": [],
   "source": [
    "mouse_exonic_miR_sequence_coding.drop(columns=[\"miR_ID\"], inplace=True)"
   ]
  },
  {
   "cell_type": "code",
   "execution_count": 21,
   "id": "9542419f",
   "metadata": {},
   "outputs": [],
   "source": [
    "mouse_exonic_miR_sequence_coding.to_csv(f\"{current_dir}/Mouse_miR_sequence_fasta/Mouse_exonic_miR_sequence_protein_coding_unique.csv\",index=False)\n",
    "mouse_exonic_miR_sequence_coding.to_excel(f\"{current_dir}/Mouse_miR_sequence_fasta/Mouse_exonic_miR_sequence_protein_coding_unique.xlsx\",index=False)"
   ]
  },
  {
   "cell_type": "code",
   "execution_count": null,
   "id": "ec445eda",
   "metadata": {},
   "outputs": [],
   "source": []
  },
  {
   "cell_type": "code",
   "execution_count": null,
   "id": "b80d0e8d",
   "metadata": {},
   "outputs": [],
   "source": []
  },
  {
   "cell_type": "code",
   "execution_count": null,
   "id": "d207d99b",
   "metadata": {},
   "outputs": [],
   "source": []
  },
  {
   "cell_type": "code",
   "execution_count": null,
   "id": "943b71a4",
   "metadata": {},
   "outputs": [],
   "source": []
  },
  {
   "cell_type": "markdown",
   "id": "f1cb3459-9079-47b3-9483-047e0ffc43e4",
   "metadata": {},
   "source": [
    "### Mature mouse miR sequences"
   ]
  },
  {
   "cell_type": "code",
   "execution_count": 16,
   "id": "0927738c-0ebd-4ddf-9840-3f90067d683e",
   "metadata": {},
   "outputs": [],
   "source": [
    "human_exonic_miR_sequence_forfasta=Regions(f\"{current_dir}/Human_miR_sequences_fasta/Human_exonic_miR_sequence_unique.csv\")"
   ]
  },
  {
   "cell_type": "code",
   "execution_count": 17,
   "id": "45fbd831-b550-4934-8b26-cb7d0a9ee60d",
   "metadata": {},
   "outputs": [],
   "source": [
    "human_exonic_miR_sequence_forfasta.select(['miR_name','pre-miRNA_sequences'])"
   ]
  },
  {
   "cell_type": "code",
   "execution_count": 18,
   "id": "83386eb8-1f7e-4882-be12-2d967a24164e",
   "metadata": {},
   "outputs": [],
   "source": [
    "human_exonic_miR_sequence_forfasta.df.to_csv(f\"{current_dir}/Human_miR_sequences_fasta/Human_exonic_miR_sequence_forfasta.csv\",index=False)"
   ]
  },
  {
   "cell_type": "code",
   "execution_count": 19,
   "id": "8531143a-89cc-4cc8-adaf-3b9a9bb56f69",
   "metadata": {},
   "outputs": [],
   "source": [
    "mature_columns=[\"miR_mature_name\",\"miR_ID\",\"genus\", \"species\",\"miR_name2\",\"mature_miR_sequences\"]"
   ]
  },
  {
   "cell_type": "code",
   "execution_count": 20,
   "id": "68f580ac-ec26-4eba-a59e-101a39d4ed11",
   "metadata": {},
   "outputs": [],
   "source": [
    "human_mature_miR=pd.read_csv(f\"{current_dir}/mature_miR/mature_miR.csv\",header=None, names=mature_columns)"
   ]
  },
  {
   "cell_type": "code",
   "execution_count": 21,
   "id": "d2b3a119-8a16-41a6-8707-162eeaf3a72a",
   "metadata": {},
   "outputs": [],
   "source": [
    "human_mature_miR.drop(columns=[\"miR_ID\",\"genus\", \"species\",\"miR_name2\"],inplace=True)"
   ]
  },
  {
   "cell_type": "code",
   "execution_count": 22,
   "id": "9007aae1-7f66-4528-9238-5e023be11385",
   "metadata": {},
   "outputs": [
    {
     "data": {
      "text/html": [
       "<div>\n",
       "<style scoped>\n",
       "    .dataframe tbody tr th:only-of-type {\n",
       "        vertical-align: middle;\n",
       "    }\n",
       "\n",
       "    .dataframe tbody tr th {\n",
       "        vertical-align: top;\n",
       "    }\n",
       "\n",
       "    .dataframe thead th {\n",
       "        text-align: right;\n",
       "    }\n",
       "</style>\n",
       "<table border=\"1\" class=\"dataframe\">\n",
       "  <thead>\n",
       "    <tr style=\"text-align: right;\">\n",
       "      <th></th>\n",
       "      <th>miR_mature_name</th>\n",
       "      <th>mature_miR_sequences</th>\n",
       "    </tr>\n",
       "  </thead>\n",
       "  <tbody>\n",
       "    <tr>\n",
       "      <th>0</th>\n",
       "      <td>cel-let-7-5p</td>\n",
       "      <td>UGAGGUAGUAGGUUGUAUAGUU</td>\n",
       "    </tr>\n",
       "    <tr>\n",
       "      <th>1</th>\n",
       "      <td>cel-let-7-3p</td>\n",
       "      <td>CUAUGCAAUUUUCUACCUUACC</td>\n",
       "    </tr>\n",
       "    <tr>\n",
       "      <th>2</th>\n",
       "      <td>cel-lin-4-5p</td>\n",
       "      <td>UCCCUGAGACCUCAAGUGUGA</td>\n",
       "    </tr>\n",
       "    <tr>\n",
       "      <th>3</th>\n",
       "      <td>cel-lin-4-3p</td>\n",
       "      <td>ACACCUGGGCUCUCCGGGUACC</td>\n",
       "    </tr>\n",
       "    <tr>\n",
       "      <th>4</th>\n",
       "      <td>cel-miR-1-5p</td>\n",
       "      <td>CAUACUUCCUUACAUGCCCAUA</td>\n",
       "    </tr>\n",
       "    <tr>\n",
       "      <th>...</th>\n",
       "      <td>...</td>\n",
       "      <td>...</td>\n",
       "    </tr>\n",
       "    <tr>\n",
       "      <th>48880</th>\n",
       "      <td>smc-miR-12461-3p</td>\n",
       "      <td>AGUAAAUGAUCAGCAUCCUCCA</td>\n",
       "    </tr>\n",
       "    <tr>\n",
       "      <th>48881</th>\n",
       "      <td>gga-miR-1784b-5p</td>\n",
       "      <td>UUCUGCUCCUAUUUAAGUCAAU</td>\n",
       "    </tr>\n",
       "    <tr>\n",
       "      <th>48882</th>\n",
       "      <td>gga-miR-1784b-3p</td>\n",
       "      <td>UGAUUUCAAUAAGAGCAGAAUU</td>\n",
       "    </tr>\n",
       "    <tr>\n",
       "      <th>48883</th>\n",
       "      <td>mdo-miR-7385g-3p</td>\n",
       "      <td>AGCAUAGAAUGUCAGAUCUAG</td>\n",
       "    </tr>\n",
       "    <tr>\n",
       "      <th>48884</th>\n",
       "      <td>mdo-miR-7385g-2-3p</td>\n",
       "      <td>AGCAUAGAAUGUCAGGUCUAG</td>\n",
       "    </tr>\n",
       "  </tbody>\n",
       "</table>\n",
       "<p>48885 rows × 2 columns</p>\n",
       "</div>"
      ],
      "text/plain": [
       "          miR_mature_name    mature_miR_sequences\n",
       "0            cel-let-7-5p  UGAGGUAGUAGGUUGUAUAGUU\n",
       "1            cel-let-7-3p  CUAUGCAAUUUUCUACCUUACC\n",
       "2            cel-lin-4-5p   UCCCUGAGACCUCAAGUGUGA\n",
       "3            cel-lin-4-3p  ACACCUGGGCUCUCCGGGUACC\n",
       "4            cel-miR-1-5p  CAUACUUCCUUACAUGCCCAUA\n",
       "...                   ...                     ...\n",
       "48880    smc-miR-12461-3p  AGUAAAUGAUCAGCAUCCUCCA\n",
       "48881    gga-miR-1784b-5p  UUCUGCUCCUAUUUAAGUCAAU\n",
       "48882    gga-miR-1784b-3p  UGAUUUCAAUAAGAGCAGAAUU\n",
       "48883    mdo-miR-7385g-3p   AGCAUAGAAUGUCAGAUCUAG\n",
       "48884  mdo-miR-7385g-2-3p   AGCAUAGAAUGUCAGGUCUAG\n",
       "\n",
       "[48885 rows x 2 columns]"
      ]
     },
     "execution_count": 22,
     "metadata": {},
     "output_type": "execute_result"
    }
   ],
   "source": [
    "human_mature_miR"
   ]
  },
  {
   "cell_type": "code",
   "execution_count": 23,
   "id": "6e086d20-970c-46f8-bfb0-80571aefd7ac",
   "metadata": {},
   "outputs": [],
   "source": [
    "human_mature_miR = human_mature_miR.loc[human_mature_miR['miR_mature_name'].str.contains(r'^hsa-', flags=re.I, regex=True)]"
   ]
  },
  {
   "cell_type": "code",
   "execution_count": 24,
   "id": "7cf82bec-0683-4ac2-ac2e-69a31329b04a",
   "metadata": {},
   "outputs": [
    {
     "data": {
      "text/html": [
       "<div>\n",
       "<style scoped>\n",
       "    .dataframe tbody tr th:only-of-type {\n",
       "        vertical-align: middle;\n",
       "    }\n",
       "\n",
       "    .dataframe tbody tr th {\n",
       "        vertical-align: top;\n",
       "    }\n",
       "\n",
       "    .dataframe thead th {\n",
       "        text-align: right;\n",
       "    }\n",
       "</style>\n",
       "<table border=\"1\" class=\"dataframe\">\n",
       "  <thead>\n",
       "    <tr style=\"text-align: right;\">\n",
       "      <th></th>\n",
       "      <th>miR_mature_name</th>\n",
       "      <th>mature_miR_sequences</th>\n",
       "    </tr>\n",
       "  </thead>\n",
       "  <tbody>\n",
       "    <tr>\n",
       "      <th>112</th>\n",
       "      <td>hsa-let-7a-5p</td>\n",
       "      <td>UGAGGUAGUAGGUUGUAUAGUU</td>\n",
       "    </tr>\n",
       "    <tr>\n",
       "      <th>113</th>\n",
       "      <td>hsa-let-7a-3p</td>\n",
       "      <td>CUAUACAAUCUACUGUCUUUC</td>\n",
       "    </tr>\n",
       "    <tr>\n",
       "      <th>114</th>\n",
       "      <td>hsa-let-7a-2-3p</td>\n",
       "      <td>CUGUACAGCCUCCUAGCUUUCC</td>\n",
       "    </tr>\n",
       "    <tr>\n",
       "      <th>115</th>\n",
       "      <td>hsa-let-7b-5p</td>\n",
       "      <td>UGAGGUAGUAGGUUGUGUGGUU</td>\n",
       "    </tr>\n",
       "    <tr>\n",
       "      <th>116</th>\n",
       "      <td>hsa-let-7b-3p</td>\n",
       "      <td>CUAUACAACCUACUGCCUUCCC</td>\n",
       "    </tr>\n",
       "    <tr>\n",
       "      <th>...</th>\n",
       "      <td>...</td>\n",
       "      <td>...</td>\n",
       "    </tr>\n",
       "    <tr>\n",
       "      <th>47417</th>\n",
       "      <td>hsa-miR-12131</td>\n",
       "      <td>UUUGGAGAGGUGUACUCCCA</td>\n",
       "    </tr>\n",
       "    <tr>\n",
       "      <th>47418</th>\n",
       "      <td>hsa-miR-12132</td>\n",
       "      <td>UAUUACUGUGAGAAUUAUGAUG</td>\n",
       "    </tr>\n",
       "    <tr>\n",
       "      <th>47419</th>\n",
       "      <td>hsa-miR-12133</td>\n",
       "      <td>CUUGGCACCAUUAAAAAGUACA</td>\n",
       "    </tr>\n",
       "    <tr>\n",
       "      <th>47423</th>\n",
       "      <td>hsa-miR-12135</td>\n",
       "      <td>UAAAGGUUUGUUUGUAAA</td>\n",
       "    </tr>\n",
       "    <tr>\n",
       "      <th>47424</th>\n",
       "      <td>hsa-miR-12136</td>\n",
       "      <td>GAAAAAGUCAUGGAGGCC</td>\n",
       "    </tr>\n",
       "  </tbody>\n",
       "</table>\n",
       "<p>2656 rows × 2 columns</p>\n",
       "</div>"
      ],
      "text/plain": [
       "       miR_mature_name    mature_miR_sequences\n",
       "112      hsa-let-7a-5p  UGAGGUAGUAGGUUGUAUAGUU\n",
       "113      hsa-let-7a-3p   CUAUACAAUCUACUGUCUUUC\n",
       "114    hsa-let-7a-2-3p  CUGUACAGCCUCCUAGCUUUCC\n",
       "115      hsa-let-7b-5p  UGAGGUAGUAGGUUGUGUGGUU\n",
       "116      hsa-let-7b-3p  CUAUACAACCUACUGCCUUCCC\n",
       "...                ...                     ...\n",
       "47417    hsa-miR-12131    UUUGGAGAGGUGUACUCCCA\n",
       "47418    hsa-miR-12132  UAUUACUGUGAGAAUUAUGAUG\n",
       "47419    hsa-miR-12133  CUUGGCACCAUUAAAAAGUACA\n",
       "47423    hsa-miR-12135      UAAAGGUUUGUUUGUAAA\n",
       "47424    hsa-miR-12136      GAAAAAGUCAUGGAGGCC\n",
       "\n",
       "[2656 rows x 2 columns]"
      ]
     },
     "execution_count": 24,
     "metadata": {},
     "output_type": "execute_result"
    }
   ],
   "source": [
    "human_mature_miR"
   ]
  },
  {
   "cell_type": "code",
   "execution_count": 25,
   "id": "b84390c0-fbd7-47c1-a9d4-621f0241e933",
   "metadata": {},
   "outputs": [
    {
     "ename": "NameError",
     "evalue": "name 'human_exonic_miR_sequence' is not defined",
     "output_type": "error",
     "traceback": [
      "\u001b[0;31m---------------------------------------------------------------------------\u001b[0m",
      "\u001b[0;31mNameError\u001b[0m                                 Traceback (most recent call last)",
      "Cell \u001b[0;32mIn[25], line 7\u001b[0m\n\u001b[1;32m      4\u001b[0m     \u001b[38;5;28;01mreturn\u001b[39;00m match\u001b[38;5;241m.\u001b[39mgroup(\u001b[38;5;241m0\u001b[39m) \u001b[38;5;28;01mif\u001b[39;00m match \u001b[38;5;28;01melse\u001b[39;00m \u001b[38;5;28;01mNone\u001b[39;00m\n\u001b[1;32m      6\u001b[0m \u001b[38;5;66;03m# Standardize identifiers in df1\u001b[39;00m\n\u001b[0;32m----> 7\u001b[0m human_exonic_miR_sequence[\u001b[38;5;124m'\u001b[39m\u001b[38;5;124mstandard_id\u001b[39m\u001b[38;5;124m'\u001b[39m] \u001b[38;5;241m=\u001b[39m \u001b[43mhuman_exonic_miR_sequence\u001b[49m[\u001b[38;5;124m'\u001b[39m\u001b[38;5;124mmiR_name\u001b[39m\u001b[38;5;124m'\u001b[39m]\u001b[38;5;241m.\u001b[39mapply(extract_id)\n\u001b[1;32m      9\u001b[0m \u001b[38;5;66;03m# Standardize identifiers in df2\u001b[39;00m\n\u001b[1;32m     10\u001b[0m human_mature_miR[\u001b[38;5;124m'\u001b[39m\u001b[38;5;124mstandard_id\u001b[39m\u001b[38;5;124m'\u001b[39m] \u001b[38;5;241m=\u001b[39m human_mature_miR[\u001b[38;5;124m'\u001b[39m\u001b[38;5;124mmiR_mature_name\u001b[39m\u001b[38;5;124m'\u001b[39m]\u001b[38;5;241m.\u001b[39mapply(extract_id)\n",
      "\u001b[0;31mNameError\u001b[0m: name 'human_exonic_miR_sequence' is not defined"
     ]
    }
   ],
   "source": [
    "# Function to extract the relevant part from the identifier\n",
    "def extract_id(identifier):\n",
    "    match = re.search(r'(\\d+[a-zA-Z]?)', identifier)\n",
    "    return match.group(0) if match else None\n",
    "\n",
    "# Standardize identifiers in df1\n",
    "human_exonic_miR_sequence['standard_id'] = human_exonic_miR_sequence['miR_name'].apply(extract_id)\n",
    "\n",
    "# Standardize identifiers in df2\n",
    "human_mature_miR['standard_id'] = human_mature_miR['miR_mature_name'].apply(extract_id)\n",
    "\n",
    "# Merge the dataframes on the standardized identifiers\n",
    "merged_df = pd.merge(human_exonic_miR_sequence, human_mature_miR, on='standard_id', how='inner')"
   ]
  },
  {
   "cell_type": "code",
   "execution_count": 26,
   "id": "4aaa685f-19fa-45f1-8240-08fe3a97e5b8",
   "metadata": {},
   "outputs": [
    {
     "ename": "NameError",
     "evalue": "name 'merged_df' is not defined",
     "output_type": "error",
     "traceback": [
      "\u001b[0;31m---------------------------------------------------------------------------\u001b[0m",
      "\u001b[0;31mNameError\u001b[0m                                 Traceback (most recent call last)",
      "Cell \u001b[0;32mIn[26], line 1\u001b[0m\n\u001b[0;32m----> 1\u001b[0m \u001b[43mmerged_df\u001b[49m\n",
      "\u001b[0;31mNameError\u001b[0m: name 'merged_df' is not defined"
     ]
    }
   ],
   "source": [
    "merged_df"
   ]
  },
  {
   "cell_type": "code",
   "execution_count": 30,
   "id": "2db635ae-e2c8-4ad7-b410-60189de64d4a",
   "metadata": {},
   "outputs": [
    {
     "data": {
      "text/plain": [
       "(201, 9)"
      ]
     },
     "execution_count": 30,
     "metadata": {},
     "output_type": "execute_result"
    }
   ],
   "source": [
    "human_exonic_miR_sequence.shape"
   ]
  },
  {
   "cell_type": "code",
   "execution_count": null,
   "id": "8a747fe1-89b7-4b39-aed7-6d027b0b0afa",
   "metadata": {},
   "outputs": [],
   "source": []
  }
 ],
 "metadata": {
  "kernelspec": {
   "display_name": "Python 3 (ipykernel)",
   "language": "python",
   "name": "python3"
  },
  "language_info": {
   "codemirror_mode": {
    "name": "ipython",
    "version": 3
   },
   "file_extension": ".py",
   "mimetype": "text/x-python",
   "name": "python",
   "nbconvert_exporter": "python",
   "pygments_lexer": "ipython3",
   "version": "3.9.13"
  }
 },
 "nbformat": 4,
 "nbformat_minor": 5
}
