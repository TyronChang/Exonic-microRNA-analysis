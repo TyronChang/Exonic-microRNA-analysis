{
 "cells": [
  {
   "cell_type": "code",
   "execution_count": null,
   "id": "3e5da0ac-d1c1-4b19-9613-3303768705a0",
   "metadata": {},
   "outputs": [],
   "source": [
    "import pandas as pd\n",
    "import matplotlib.pyplot as plt\n",
    "import seaborn as sns\n",
    "import os\n",
    "import numpy as np"
   ]
  },
  {
   "cell_type": "code",
   "execution_count": null,
   "id": "562ad078-a5f6-4a30-96f5-2b5c3a6bb411",
   "metadata": {},
   "outputs": [],
   "source": [
    "current_dir=os.getcwd()"
   ]
  },
  {
   "cell_type": "code",
   "execution_count": null,
   "id": "157b326e-e2ee-412c-945c-ef4d96baf2f8",
   "metadata": {},
   "outputs": [],
   "source": [
    "mouse_exonic_miR_gene_type=pd.read_csv(f\"{current_dir}/Mouse_csv_file/mouse_exonic_miR(gene_type)_NCBI_unique.csv\")\n",
    "\n",
    "mouse_exonic_miR_protein_coding = pd.read_csv(f'{current_dir}/Mouse_csv_file/mouse_exonic_miR_list(protein_coding_host_genes)_NCBI_unique.csv')"
   ]
  },
  {
   "cell_type": "code",
   "execution_count": null,
   "id": "e1a513e3-fa88-41e1-b5bc-41458b17dc74",
   "metadata": {},
   "outputs": [],
   "source": [
    "mouse_exonic_miR_gene_type.columns"
   ]
  },
  {
   "cell_type": "code",
   "execution_count": null,
   "id": "c4c8f59f-4665-464c-821b-6406a3150fd6",
   "metadata": {},
   "outputs": [],
   "source": [
    "mouse_exonic_miR_protein_coding.columns"
   ]
  },
  {
   "cell_type": "code",
   "execution_count": null,
   "id": "2b589841-588e-4f81-adef-be1a461e974e",
   "metadata": {},
   "outputs": [],
   "source": [
    "exon_count_plots=sns.violinplot(x='gene_type', y='hostgene_exonCounts',data=mouse_exonic_miR_gene_type)\n",
    "plt.xlabel('Gene type')\n",
    "plt.ylabel('Exon counts')\n",
    "plt.show()"
   ]
  },
  {
   "cell_type": "code",
   "execution_count": null,
   "id": "cea48a85-845d-4d67-a660-45f4678ca61e",
   "metadata": {},
   "outputs": [],
   "source": [
    "plt.figure(figsize=(10, 6))\n",
    "hue_order=['+','-']\n",
    "exon_count_plots_strands=sns.violinplot(x='gene_type', y='hostgene_exonCounts',data=mouse_exonic_miR_gene_type,\n",
    "                                        hue='hostgene_strand',hue_order=hue_order)\n",
    "plt.xlabel('Gene type')\n",
    "plt.ylabel('Exon counts')\n",
    "plt.title('Exon counts in mouse host genes housed exonic miRNAs (violoin plots)')\n",
    "plt.subplots_adjust(top=0.9, bottom=0.2, left=0.1, right=0.9)\n",
    "plt.savefig(f\"{current_dir}/Mouse_eps_file/Exon counts in mouse host genes housed exonic miRNAs_violoin_plots.eps\")\n",
    "plt.show()"
   ]
  },
  {
   "cell_type": "code",
   "execution_count": null,
   "id": "c77562e3-2fa1-4153-a711-4cf667655e8d",
   "metadata": {},
   "outputs": [],
   "source": [
    "plt.figure(figsize=(10, 6))\n",
    "hue_order=['+','-']\n",
    "exon_count_boxplots_strands=sns.boxplot(x='gene_type', y='hostgene_exonCounts',data=mouse_exonic_miR_gene_type,\n",
    "                                        hue='hostgene_strand',width=0.3, hue_order=hue_order)\n",
    "plt.xlabel('Gene type')\n",
    "plt.ylabel('Exon counts')\n",
    "plt.title('Exon counts in mouse host genes housed exonic miRNAs (boxplots)')\n",
    "plt.subplots_adjust(hspace = 0.8)\n",
    "plt.tight_layout()\n",
    "plt.subplots_adjust(top=0.9, bottom=0.2, left=0.1, right=0.9)\n",
    "plt.savefig(f\"{current_dir}/Mouse_eps_file/Exon counts in mouse host genes housed exonic miRNAs_boxplots.eps\")\n",
    "plt.show()"
   ]
  },
  {
   "cell_type": "code",
   "execution_count": null,
   "id": "4337abbf-2681-4d71-996a-132196483c1a",
   "metadata": {},
   "outputs": [],
   "source": [
    "plt.figure(figsize=(10, 6))\n",
    "hue_order=['+','-']\n",
    "exon_count_plots_strands=sns.violinplot(x='gene_type', y='pre_mRNA_length',data=mouse_exonic_miR_gene_type,\n",
    "                                        hue='hostgene_strand',hue_order=hue_order)\n",
    "plt.xlabel('Gene type')\n",
    "plt.ylabel('host pre-mRNA length')\n",
    "plt.title('pre-mRNA lenngth in mouse host genes housed exonic miRNAs (violoin plots)')\n",
    "plt.subplots_adjust(top=0.9, bottom=0.2, left=0.1, right=0.9)\n",
    "plt.savefig(f\"{current_dir}/Mouse_eps_file/pre-mRNA lenngth in mouse host genes housed exonic miRNAs_violoin_plots.eps\")\n",
    "plt.show()"
   ]
  },
  {
   "cell_type": "code",
   "execution_count": null,
   "id": "78fec9d4-d616-4ac8-ae6e-86315c3701f2",
   "metadata": {},
   "outputs": [],
   "source": [
    "fig, ax = plt.subplots(figsize=(10, 10)) \n",
    "exonic_mRNA_length_plots_strands=sns.violinplot(x='region', y=mouse_exonic_miR_protein_coding['pre_mRNA_length']/1000,\n",
    "                                             data=mouse_exonic_miR_protein_coding, width=0.8, ax=ax)\n",
    "plt.xticks(rotation=45,fontsize=8)\n",
    "plt.tight_layout()\n",
    "plt.xlabel('Region')\n",
    "plt.ylabel('pre-mRNA length (kb)')\n",
    "plt.figure(figsize=(10, 6))\n",
    "plt.show()"
   ]
  },
  {
   "cell_type": "code",
   "execution_count": null,
   "id": "ac02a909-ee81-44f6-8342-4421240d7e7b",
   "metadata": {},
   "outputs": [],
   "source": [
    "exonic_mRNA_length_plots_strands_box=sns.boxplot(x='region', y=mouse_exonic_miR_protein_coding['pre_mRNA_length']/1000,\n",
    "                                             data=mouse_exonic_miR_protein_coding, width=0.3)\n",
    "plt.xticks(rotation=45,fontsize=8)\n",
    "plt.tight_layout()\n",
    "plt.xlabel('Region')\n",
    "plt.ylabel('pre-mRNA length (kb)')\n",
    "plt.figure(figsize=(10, 6))\n",
    "plt.show()"
   ]
  },
  {
   "cell_type": "code",
   "execution_count": null,
   "id": "53b20168-7fa9-4d13-b504-2a29fbda30f5",
   "metadata": {},
   "outputs": [],
   "source": [
    "hue_order=[\"+\", \"-\"]\n",
    "fig, ax = plt.subplots(figsize=(10, 10)) \n",
    "exonic_mRNA_length_plots_strands=sns.violinplot(x='region', y=mouse_exonic_miR_protein_coding['pre_mRNA_length']/1000,hue='hostgene_strand',\n",
    "                                                hue_order=hue_order,data=mouse_exonic_miR_protein_coding, width=0.8, ax=ax)\n",
    "\n",
    "plt.xticks(rotation=45,fontsize=8)\n",
    "plt.tight_layout()\n",
    "plt.xlabel('Region')\n",
    "plt.ylabel('pre-mRNA length (kb)')\n",
    "plt.title('pre-mRNA lenngth in mouse host genes housed exonic miRNAs with different regions (violoin plots)')\n",
    "plt.subplots_adjust(top=0.9, bottom=0.2, left=0.1, right=0.9)\n",
    "plt.savefig(f\"{current_dir}/Mouse_eps_file/pre-mRNA lenngth in mouse host genes housed exonic miRNAs with different regions_violoin_plots.eps\")\n",
    "plt.show()"
   ]
  },
  {
   "cell_type": "code",
   "execution_count": null,
   "id": "93f9f6a5-4c84-4076-ab19-348f9e01bae6",
   "metadata": {},
   "outputs": [],
   "source": [
    "plt.figure(figsize=(10, 6))\n",
    "exonic_mRNA_length_plots_strands_box=sns.boxplot(x='region', y=mouse_exonic_miR_protein_coding['pre_mRNA_length']/1000,hue='hostgene_strand',hue_order=hue_order,\n",
    "                                             data=mouse_exonic_miR_protein_coding, width=0.3,dodge=True)\n",
    "plt.xticks(rotation=45,fontsize=8)\n",
    "plt.tight_layout()\n",
    "plt.xlabel('Region')\n",
    "plt.ylabel('pre-mRNA length (kb)')\n",
    "plt.title('pre-mRNA lenngth in mouse host genes housed exonic miRNAs with different regions (boxplots)')\n",
    "plt.subplots_adjust(top=0.9, bottom=0.2, left=0.1, right=0.9)\n",
    "plt.savefig(f\"{current_dir}/Mouse_eps_file/pre-mRNA lenngth in mouse host genes housed exonic miRNAs with different regions_boxplots.eps\")\n",
    "plt.show()"
   ]
  },
  {
   "cell_type": "markdown",
   "id": "cb91ce5a-ebdf-478e-98af-97edfacd7716",
   "metadata": {},
   "source": [
    "### Intronic"
   ]
  },
  {
   "cell_type": "code",
   "execution_count": null,
   "id": "c770dab9-a6a5-477d-9b5d-79bcf603e354",
   "metadata": {},
   "outputs": [],
   "source": [
    "mouse_intronic_miR_gene_type=pd.read_csv(f\"{current_dir}/Mouse_csv_file/mouse_intronic_miR(gene_type)_NCBI_unique.csv\")"
   ]
  },
  {
   "cell_type": "code",
   "execution_count": null,
   "id": "bf4e5e97-14e8-4a8c-af5b-d38b8a667480",
   "metadata": {},
   "outputs": [],
   "source": [
    "fig, ax = plt.subplots(figsize=(10, 10)) \n",
    "intronic_mRNA_length_plots=sns.violinplot(x='gene_type', y=mouse_intronic_miR_gene_type['pre_mRNA_length']/1000,\n",
    "                                             data=mouse_intronic_miR_gene_type, width=0.8, ax=ax)\n",
    "plt.xticks(rotation=45,fontsize=8)\n",
    "plt.tight_layout()\n",
    "plt.xlabel('Gene type')\n",
    "plt.ylabel('pre-mRNA length (kb)')\n",
    "plt.figure(figsize=(10, 6))\n",
    "plt.show()"
   ]
  },
  {
   "cell_type": "code",
   "execution_count": null,
   "id": "8528fff7-f47c-4eaa-a4d0-4ea1f9ed55b0",
   "metadata": {},
   "outputs": [],
   "source": [
    "fig, ax = plt.subplots(figsize=(10, 6)) \n",
    "intronic_mRNA_length_plots_strand=sns.violinplot(x='gene_type', y=mouse_intronic_miR_gene_type['pre_mRNA_length']/1000,hue='hostgene_strand',\n",
    "                                             data=mouse_intronic_miR_gene_type, width=0.6, ax=ax)\n",
    "plt.xticks(rotation=45,fontsize=8)\n",
    "plt.tight_layout()\n",
    "plt.xlabel('Gene type')\n",
    "plt.ylabel('pre-mRNA length (kb)')\n",
    "plt.title('pre-mRNA lenngth in mouse host genes housed intronic miRNAs with different regions (violoin plots)')\n",
    "plt.subplots_adjust(top=0.9, bottom=0.2, left=0.1, right=0.9)\n",
    "plt.savefig(f\"{current_dir}/Mouse_eps_file/pre-mRNA lenngth in mouse host genes housed intronic miRNAs with different regions_violoin_plots.eps\")\n",
    "plt.show()"
   ]
  },
  {
   "cell_type": "code",
   "execution_count": null,
   "id": "7893fe03-4fe8-4d9e-b7a6-97bbc0129339",
   "metadata": {},
   "outputs": [],
   "source": [
    "plt.figure(figsize=(10, 6))\n",
    "intronic_mRNA_length_plots_box=sns.boxplot(x='gene_type', y=mouse_intronic_miR_gene_type['pre_mRNA_length']/1000,\n",
    "                                             data=mouse_intronic_miR_gene_type, width=0.3)\n",
    "plt.xticks(rotation=45,fontsize=8)\n",
    "plt.tight_layout()\n",
    "plt.xlabel('Gene type')\n",
    "plt.ylabel('pre-mRNA length (kb)')\n",
    "plt.title('pre-mRNA lenngth in mouse host genes housed intronic miRNAs with different regions (boxplots)')\n",
    "plt.subplots_adjust(top=0.9, bottom=0.2, left=0.1, right=0.9)\n",
    "plt.savefig(f\"{current_dir}/Mouse_eps_file/pre-mRNA lenngth in mouse host genes housed intronic miRNAs with different regions_boxplots.eps\")\n",
    "plt.show()"
   ]
  },
  {
   "cell_type": "code",
   "execution_count": null,
   "id": "4cf9782e-bb14-453a-8da8-8d5021dff57b",
   "metadata": {},
   "outputs": [],
   "source": []
  }
 ],
 "metadata": {
  "kernelspec": {
   "display_name": "Python 3 (ipykernel)",
   "language": "python",
   "name": "python3"
  },
  "language_info": {
   "codemirror_mode": {
    "name": "ipython",
    "version": 3
   },
   "file_extension": ".py",
   "mimetype": "text/x-python",
   "name": "python",
   "nbconvert_exporter": "python",
   "pygments_lexer": "ipython3",
   "version": "3.9.13"
  }
 },
 "nbformat": 4,
 "nbformat_minor": 5
}
