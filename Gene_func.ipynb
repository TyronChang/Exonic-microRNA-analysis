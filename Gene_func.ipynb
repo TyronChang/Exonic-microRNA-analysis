{
 "cells": [
  {
   "cell_type": "code",
   "execution_count": 1,
   "id": "ab36c01d-f16a-4519-83d7-c3043f70a102",
   "metadata": {},
   "outputs": [],
   "source": [
    "#### Assign the host genes of each exonic or intronic miR as \"non-coding\" or \"coding\" genes!\n",
    "import pandas as pd\n",
    "def Gene_type(df, cdsStart, cdsEnd, genetype):\n",
    "    \"\"\"This function will generate a column that can categorize each gene as noncoding or coding genes\"\"\"\n",
    "    \"\"\"The parameter is based on if the coordinate of cdsStart is the same as cdsEnd!!\"\"\"\n",
    "    \n",
    "    df.loc[df[cdsStart]==df[cdsEnd],genetype]=\"non-coding gene\"\n",
    "    df.loc[df[cdsStart]!=df[cdsEnd],genetype]=\"protein-coding gene\"\n",
    "    \n",
    "    df[genetype] = df[genetype].astype(object)\n",
    "if __name__==\"__main__\":\n",
    "    pass"
   ]
  },
  {
   "cell_type": "code",
   "execution_count": null,
   "id": "fe0cd417-91ab-4a62-9dc3-5c6b21bbdd1d",
   "metadata": {},
   "outputs": [],
   "source": []
  }
 ],
 "metadata": {
  "kernelspec": {
   "display_name": "Python 3 (ipykernel)",
   "language": "python",
   "name": "python3"
  },
  "language_info": {
   "codemirror_mode": {
    "name": "ipython",
    "version": 3
   },
   "file_extension": ".py",
   "mimetype": "text/x-python",
   "name": "python",
   "nbconvert_exporter": "python",
   "pygments_lexer": "ipython3",
   "version": "3.9.13"
  }
 },
 "nbformat": 4,
 "nbformat_minor": 5
}
